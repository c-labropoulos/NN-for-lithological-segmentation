{
  "nbformat": 4,
  "nbformat_minor": 0,
  "metadata": {
    "colab": {
      "provenance": [],
      "mount_file_id": "1AQsUuhGE74xVFNHM70z1avp2OUvQbimV",
      "authorship_tag": "ABX9TyM8Ui8B4YQtKWYjZnjYKgCC",
      "include_colab_link": true
    },
    "kernelspec": {
      "name": "python3",
      "display_name": "Python 3"
    },
    "language_info": {
      "name": "python"
    },
    "accelerator": "GPU",
    "gpuClass": "standard"
  },
  "cells": [
    {
      "cell_type": "markdown",
      "metadata": {
        "id": "view-in-github",
        "colab_type": "text"
      },
      "source": [
        "<a href=\"https://colab.research.google.com/github/c-labropoulos/NN-for-lithological-segmentation/blob/main/toRaster.ipynb\" target=\"_parent\"><img src=\"https://colab.research.google.com/assets/colab-badge.svg\" alt=\"Open In Colab\"/></a>"
      ]
    },
    {
      "cell_type": "code",
      "execution_count": 28,
      "metadata": {
        "colab": {
          "base_uri": "https://localhost:8080/"
        },
        "id": "rYRFcNR1czsC",
        "outputId": "d70c6fa6-a698-4f5b-cc56-e3ca32c5b696"
      },
      "outputs": [
        {
          "output_type": "stream",
          "name": "stdout",
          "text": [
            "Mounted at /content/drive\n"
          ]
        }
      ],
      "source": [
        "from google.colab import drive\n",
        "drive.mount('/content/drive', force_remount=True)"
      ]
    },
    {
      "cell_type": "code",
      "source": [
        "#!gdalinfo --version\n",
        "!pip install geopandas\n",
        "!pip install rasterio\n",
        "!pip install pyshp\n",
        "from osgeo import gdal\n",
        "from osgeo import ogr\n",
        "import rasterio\n",
        "import geopandas as gpd\n",
        "import shapefile as shp"
      ],
      "metadata": {
        "colab": {
          "base_uri": "https://localhost:8080/"
        },
        "id": "4AKnntvcdxAP",
        "outputId": "6de4eeca-8375-4476-f051-e743ce27d7fd"
      },
      "execution_count": 29,
      "outputs": [
        {
          "output_type": "stream",
          "name": "stdout",
          "text": [
            "Looking in indexes: https://pypi.org/simple, https://us-python.pkg.dev/colab-wheels/public/simple/\n",
            "Requirement already satisfied: geopandas in /usr/local/lib/python3.8/dist-packages (0.12.2)\n",
            "Requirement already satisfied: packaging in /usr/local/lib/python3.8/dist-packages (from geopandas) (23.0)\n",
            "Requirement already satisfied: fiona>=1.8 in /usr/local/lib/python3.8/dist-packages (from geopandas) (1.9.1)\n",
            "Requirement already satisfied: pandas>=1.0.0 in /usr/local/lib/python3.8/dist-packages (from geopandas) (1.3.5)\n",
            "Requirement already satisfied: pyproj>=2.6.1.post1 in /usr/local/lib/python3.8/dist-packages (from geopandas) (3.4.1)\n",
            "Requirement already satisfied: shapely>=1.7 in /usr/local/lib/python3.8/dist-packages (from geopandas) (2.0.1)\n",
            "Requirement already satisfied: click~=8.0 in /usr/local/lib/python3.8/dist-packages (from fiona>=1.8->geopandas) (8.1.3)\n",
            "Requirement already satisfied: cligj>=0.5 in /usr/local/lib/python3.8/dist-packages (from fiona>=1.8->geopandas) (0.7.2)\n",
            "Requirement already satisfied: munch>=2.3.2 in /usr/local/lib/python3.8/dist-packages (from fiona>=1.8->geopandas) (2.5.0)\n",
            "Requirement already satisfied: setuptools in /usr/local/lib/python3.8/dist-packages (from fiona>=1.8->geopandas) (57.4.0)\n",
            "Requirement already satisfied: click-plugins>=1.0 in /usr/local/lib/python3.8/dist-packages (from fiona>=1.8->geopandas) (1.1.1)\n",
            "Requirement already satisfied: certifi in /usr/local/lib/python3.8/dist-packages (from fiona>=1.8->geopandas) (2022.12.7)\n",
            "Requirement already satisfied: attrs>=19.2.0 in /usr/local/lib/python3.8/dist-packages (from fiona>=1.8->geopandas) (22.2.0)\n",
            "Requirement already satisfied: numpy>=1.17.3 in /usr/local/lib/python3.8/dist-packages (from pandas>=1.0.0->geopandas) (1.22.4)\n",
            "Requirement already satisfied: python-dateutil>=2.7.3 in /usr/local/lib/python3.8/dist-packages (from pandas>=1.0.0->geopandas) (2.8.2)\n",
            "Requirement already satisfied: pytz>=2017.3 in /usr/local/lib/python3.8/dist-packages (from pandas>=1.0.0->geopandas) (2022.7.1)\n",
            "Requirement already satisfied: six in /usr/local/lib/python3.8/dist-packages (from munch>=2.3.2->fiona>=1.8->geopandas) (1.15.0)\n",
            "Looking in indexes: https://pypi.org/simple, https://us-python.pkg.dev/colab-wheels/public/simple/\n",
            "Requirement already satisfied: rasterio in /usr/local/lib/python3.8/dist-packages (1.3.6)\n",
            "Requirement already satisfied: snuggs>=1.4.1 in /usr/local/lib/python3.8/dist-packages (from rasterio) (1.4.7)\n",
            "Requirement already satisfied: affine in /usr/local/lib/python3.8/dist-packages (from rasterio) (2.4.0)\n",
            "Requirement already satisfied: certifi in /usr/local/lib/python3.8/dist-packages (from rasterio) (2022.12.7)\n",
            "Requirement already satisfied: click-plugins in /usr/local/lib/python3.8/dist-packages (from rasterio) (1.1.1)\n",
            "Requirement already satisfied: cligj>=0.5 in /usr/local/lib/python3.8/dist-packages (from rasterio) (0.7.2)\n",
            "Requirement already satisfied: setuptools in /usr/local/lib/python3.8/dist-packages (from rasterio) (57.4.0)\n",
            "Requirement already satisfied: click>=4.0 in /usr/local/lib/python3.8/dist-packages (from rasterio) (8.1.3)\n",
            "Requirement already satisfied: attrs in /usr/local/lib/python3.8/dist-packages (from rasterio) (22.2.0)\n",
            "Requirement already satisfied: numpy>=1.18 in /usr/local/lib/python3.8/dist-packages (from rasterio) (1.22.4)\n",
            "Requirement already satisfied: pyparsing>=2.1.6 in /usr/local/lib/python3.8/dist-packages (from snuggs>=1.4.1->rasterio) (3.0.9)\n",
            "Looking in indexes: https://pypi.org/simple, https://us-python.pkg.dev/colab-wheels/public/simple/\n",
            "Requirement already satisfied: pyshp in /usr/local/lib/python3.8/dist-packages (2.3.1)\n"
          ]
        }
      ]
    },
    {
      "cell_type": "code",
      "source": [
        "import os\n",
        "import geopandas as gpd\n",
        "import matplotlib.pyplot as plt\n",
        "import rasterio\n",
        "from rasterio import features\n",
        "from rasterio.enums import MergeAlg\n",
        "from rasterio.plot import show\n",
        "import numpy as np\n",
        "def lists_FOR_rasterize(shppath,tiffpath):\n",
        " rst_list=list()\n",
        " dest_name=list()\n",
        " shpfiles = []\n",
        " shapenames=[]\n",
        " for dirpath, subdirs, files in os.walk(shppath):\n",
        "    for x in files:\n",
        "        if x.endswith(\".shp\"):\n",
        "            shpfiles.append(os.path.join(dirpath, x))\n",
        "            shpfiles.append(x.split('.shp', 1)[0])\n",
        " shapesList =[None] * len(shpfiles)   \n",
        " for dirpath, subdirs, files in os.walk(tiffpath):\n",
        "    for x in files:\n",
        "        rst_list.append(os.path.join(dirpath, x))\n",
        "        dest_name.append(x.split('.tif', 1)[0])\n",
        " for name in dest_name:\n",
        "        rasterpos = dest_name.index(name)\n",
        "        matching = [s for s in shpfiles if name in s]\n",
        "        #print(matching[0])\n",
        "        shapesList[rasterpos]=matching[0]\n",
        "        shapesList.remove(None)\n",
        " #print(f'{rst_list}\\n{shapesList}')\n",
        " return shapesList,rst_list,dest_name\n",
        " \n",
        "def rasterize(shppath,tiffpath):\n",
        "  shplist,rasterlist,namesFORDESTINATION=lists_FOR_rasterize(shppath,tiffpath)\n",
        "  filesnumber =0\n",
        "  if len(rasterlist)==len(shplist):\n",
        "     filesnumber=len(shplist)\n",
        "  else:\n",
        "    print(\"SEVERE ERROR : raster list has length of \"+str(len(rasterlist))+\" and shp files list has length \"+str(len(shplist)) )\n",
        "  for  i in range(filesnumber):\n",
        "     raster = rasterio.open(rasterlist[i])\n",
        "     print(\"RASTER : \"+str(rasterlist[i])+\" opened \")\n",
        "     vector = gpd.read_file(shplist[i])\n",
        "     print(\"Vector : \"+str(shplist[i])+\" opened \")\n",
        "    # create a numeric unique value for each row\n",
        "     vector['labels_Lit'] = range(0,len(vector))\n",
        "      # create tuples of geometry, value pairs, where value is the attribute value you want to burn\n",
        "     geom_value = ((geom,value) for geom, value in zip(vector.geometry, vector[\"labels_Lit\"]))\n",
        "     # Rasterize vector using the shape and transform of the raster\n",
        "     rasterized = features.rasterize(geom_value,out_shape = raster.shape,\n",
        "                                        transform = raster.transform,\n",
        "                                        all_touched = True,\n",
        "                                        fill = 0,   # background value\n",
        "                                        merge_alg = MergeAlg.replace,\n",
        "                                        dtype = np.int16)\n",
        "     with rasterio.open(\n",
        "             \"/content/drive/MyDrive/raster_to_be_used/\"+namesFORDESTINATION[i]+\"_rasterized_vector.tif\", \"w\",\n",
        "             \n",
        "             driver = \"GTiff\",\n",
        "             transform = raster.transform,\n",
        "             dtype=rasterized.dtype,\n",
        "         #  dtype = rasterio.uint8,\n",
        "\n",
        "            count = 1,\n",
        "            width = raster.width,\n",
        "            height = raster.height) as dst:\n",
        "          dst.write(rasterized, indexes = 1)\n",
        "   \n",
        "        \n",
        "       \n",
        "    \n",
        "        \n",
        "       \n",
        "       \n",
        "        \n",
        "        \n",
        "\n",
        "           \n",
        "shape_dir = \"/content/drive/MyDrive/LithDatasSHP\"\n",
        "raster_dir='/content/drive/MyDrive/LithDatasTIF'\n",
        "rasterize(shape_dir,raster_dir)\n"
      ],
      "metadata": {
        "id": "5vFYB4Lfy8cB",
        "colab": {
          "base_uri": "https://localhost:8080/"
        },
        "outputId": "9b642f92-e09a-479a-dbed-5f6a542d3295"
      },
      "execution_count": 30,
      "outputs": [
        {
          "output_type": "stream",
          "name": "stderr",
          "text": [
            "WARNING:rasterio._env:CPLE_AppDefined in /content/drive/MyDrive/LithDatasTIF/Agios_Georgios.tif: TIFFReadDirectory:Sum of Photometric type-related color channels and ExtraSamples doesn't match SamplesPerPixel. Defining non-color channels as ExtraSamples.\n"
          ]
        },
        {
          "output_type": "stream",
          "name": "stdout",
          "text": [
            "RASTER : /content/drive/MyDrive/LithDatasTIF/Agios_Georgios.tif opened \n",
            "Vector : /content/drive/MyDrive/LithDatasSHP/Agios_Georgios.shp opened \n"
          ]
        },
        {
          "output_type": "stream",
          "name": "stderr",
          "text": [
            "WARNING:rasterio._env:CPLE_AppDefined in /content/drive/MyDrive/LithDatasTIF/Amfilochia.tif: TIFFReadDirectory:Sum of Photometric type-related color channels and ExtraSamples doesn't match SamplesPerPixel. Defining non-color channels as ExtraSamples.\n",
            "WARNING:rasterio._env:CPLE_AppDefined in /content/drive/MyDrive/LithDatasTIF/Anafi.tif: TIFFReadDirectory:Sum of Photometric type-related color channels and ExtraSamples doesn't match SamplesPerPixel. Defining non-color channels as ExtraSamples.\n"
          ]
        },
        {
          "output_type": "stream",
          "name": "stdout",
          "text": [
            "RASTER : /content/drive/MyDrive/LithDatasTIF/Amfilochia.tif opened \n",
            "Vector : /content/drive/MyDrive/LithDatasSHP/Amfilochia.shp opened \n",
            "RASTER : /content/drive/MyDrive/LithDatasTIF/Anafi.tif opened \n",
            "Vector : /content/drive/MyDrive/LithDatasSHP/Anafi.shp opened \n"
          ]
        },
        {
          "output_type": "stream",
          "name": "stderr",
          "text": [
            "WARNING:rasterio._env:CPLE_AppDefined in /content/drive/MyDrive/LithDatasTIF/Crete_A.tif: TIFFReadDirectory:Sum of Photometric type-related color channels and ExtraSamples doesn't match SamplesPerPixel. Defining non-color channels as ExtraSamples.\n"
          ]
        },
        {
          "output_type": "stream",
          "name": "stdout",
          "text": [
            "RASTER : /content/drive/MyDrive/LithDatasTIF/Crete_A.tif opened \n",
            "Vector : /content/drive/MyDrive/LithDatasSHP/Crete_A.shp opened \n"
          ]
        },
        {
          "output_type": "stream",
          "name": "stderr",
          "text": [
            "WARNING:rasterio._env:CPLE_AppDefined in /content/drive/MyDrive/LithDatasTIF/Crete_B.tif: TIFFReadDirectory:Sum of Photometric type-related color channels and ExtraSamples doesn't match SamplesPerPixel. Defining non-color channels as ExtraSamples.\n",
            "WARNING:rasterio._env:CPLE_AppDefined in /content/drive/MyDrive/LithDatasTIF/Desfina_.tif: TIFFReadDirectory:Sum of Photometric type-related color channels and ExtraSamples doesn't match SamplesPerPixel. Defining non-color channels as ExtraSamples.\n"
          ]
        },
        {
          "output_type": "stream",
          "name": "stdout",
          "text": [
            "RASTER : /content/drive/MyDrive/LithDatasTIF/Crete_B.tif opened \n",
            "Vector : /content/drive/MyDrive/LithDatasSHP/Crete_B.shp opened \n",
            "RASTER : /content/drive/MyDrive/LithDatasTIF/Desfina_.tif opened \n",
            "Vector : /content/drive/MyDrive/LithDatasSHP/Desfina_B.shp opened \n"
          ]
        },
        {
          "output_type": "stream",
          "name": "stderr",
          "text": [
            "WARNING:rasterio._env:CPLE_AppDefined in /content/drive/MyDrive/LithDatasTIF/Desfina_B.tif: TIFFReadDirectory:Sum of Photometric type-related color channels and ExtraSamples doesn't match SamplesPerPixel. Defining non-color channels as ExtraSamples.\n",
            "WARNING:rasterio._env:CPLE_AppDefined in /content/drive/MyDrive/LithDatasTIF/Ermoupoli.tif: TIFFReadDirectory:Sum of Photometric type-related color channels and ExtraSamples doesn't match SamplesPerPixel. Defining non-color channels as ExtraSamples.\n"
          ]
        },
        {
          "output_type": "stream",
          "name": "stdout",
          "text": [
            "RASTER : /content/drive/MyDrive/LithDatasTIF/Desfina_B.tif opened \n",
            "Vector : /content/drive/MyDrive/LithDatasSHP/Desfina_B.shp opened \n",
            "RASTER : /content/drive/MyDrive/LithDatasTIF/Ermoupoli.tif opened \n",
            "Vector : /content/drive/MyDrive/LithDatasSHP/Ermoupoli.shp opened \n"
          ]
        },
        {
          "output_type": "stream",
          "name": "stderr",
          "text": [
            "WARNING:rasterio._env:CPLE_AppDefined in /content/drive/MyDrive/LithDatasTIF/Exarchos.tif: TIFFReadDirectory:Sum of Photometric type-related color channels and ExtraSamples doesn't match SamplesPerPixel. Defining non-color channels as ExtraSamples.\n",
            "WARNING:rasterio._env:CPLE_AppDefined in /content/drive/MyDrive/LithDatasTIF/Grevena.tif: TIFFReadDirectory:Sum of Photometric type-related color channels and ExtraSamples doesn't match SamplesPerPixel. Defining non-color channels as ExtraSamples.\n"
          ]
        },
        {
          "output_type": "stream",
          "name": "stdout",
          "text": [
            "RASTER : /content/drive/MyDrive/LithDatasTIF/Exarchos.tif opened \n",
            "Vector : /content/drive/MyDrive/LithDatasSHP/Exarchos.shp opened \n",
            "RASTER : /content/drive/MyDrive/LithDatasTIF/Grevena.tif opened \n",
            "Vector : /content/drive/MyDrive/LithDatasSHP/Grevena.shp opened \n"
          ]
        },
        {
          "output_type": "stream",
          "name": "stderr",
          "text": [
            "WARNING:rasterio._env:CPLE_AppDefined in /content/drive/MyDrive/LithDatasTIF/Kastro.tif: TIFFReadDirectory:Sum of Photometric type-related color channels and ExtraSamples doesn't match SamplesPerPixel. Defining non-color channels as ExtraSamples.\n",
            "WARNING:rasterio._env:CPLE_AppDefined in /content/drive/MyDrive/LithDatasTIF/Kimmeria.tif: TIFFReadDirectory:Sum of Photometric type-related color channels and ExtraSamples doesn't match SamplesPerPixel. Defining non-color channels as ExtraSamples.\n"
          ]
        },
        {
          "output_type": "stream",
          "name": "stdout",
          "text": [
            "RASTER : /content/drive/MyDrive/LithDatasTIF/Kastro.tif opened \n",
            "Vector : /content/drive/MyDrive/LithDatasSHP/Kastro.shp opened \n",
            "RASTER : /content/drive/MyDrive/LithDatasTIF/Kimmeria.tif opened \n"
          ]
        },
        {
          "output_type": "stream",
          "name": "stderr",
          "text": [
            "WARNING:rasterio._env:CPLE_AppDefined in /content/drive/MyDrive/LithDatasTIF/Kirko_Bunaras.tif: TIFFReadDirectory:Sum of Photometric type-related color channels and ExtraSamples doesn't match SamplesPerPixel. Defining non-color channels as ExtraSamples.\n"
          ]
        },
        {
          "output_type": "stream",
          "name": "stdout",
          "text": [
            "Vector : /content/drive/MyDrive/LithDatasSHP/Kimmeria.shp opened \n"
          ]
        },
        {
          "output_type": "stream",
          "name": "stderr",
          "text": [
            "WARNING:rasterio._env:CPLE_AppDefined in /content/drive/MyDrive/LithDatasTIF/Kithnos_A.tif: TIFFReadDirectory:Sum of Photometric type-related color channels and ExtraSamples doesn't match SamplesPerPixel. Defining non-color channels as ExtraSamples.\n"
          ]
        },
        {
          "output_type": "stream",
          "name": "stdout",
          "text": [
            "RASTER : /content/drive/MyDrive/LithDatasTIF/Kirko_Bunaras.tif opened \n",
            "Vector : /content/drive/MyDrive/LithDatasSHP/Kirko_Bunaras.shp opened \n",
            "RASTER : /content/drive/MyDrive/LithDatasTIF/Kithnos_A.tif opened \n",
            "Vector : /content/drive/MyDrive/LithDatasSHP/Kithnos_A.shp opened \n"
          ]
        },
        {
          "output_type": "stream",
          "name": "stderr",
          "text": [
            "WARNING:rasterio._env:CPLE_AppDefined in /content/drive/MyDrive/LithDatasTIF/Kithnos_B.tif: TIFFReadDirectory:Sum of Photometric type-related color channels and ExtraSamples doesn't match SamplesPerPixel. Defining non-color channels as ExtraSamples.\n",
            "WARNING:rasterio._env:CPLE_AppDefined in /content/drive/MyDrive/LithDatasTIF/Kyprios.tif: TIFFReadDirectory:Sum of Photometric type-related color channels and ExtraSamples doesn't match SamplesPerPixel. Defining non-color channels as ExtraSamples.\n"
          ]
        },
        {
          "output_type": "stream",
          "name": "stdout",
          "text": [
            "RASTER : /content/drive/MyDrive/LithDatasTIF/Kithnos_B.tif opened \n",
            "Vector : /content/drive/MyDrive/LithDatasSHP/Kithnos_B.shp opened \n",
            "RASTER : /content/drive/MyDrive/LithDatasTIF/Kyprios.tif opened \n",
            "Vector : /content/drive/MyDrive/LithDatasSHP/Kyprios.shp opened \n"
          ]
        },
        {
          "output_type": "stream",
          "name": "stderr",
          "text": [
            "WARNING:rasterio._env:CPLE_AppDefined in /content/drive/MyDrive/LithDatasTIF/Lighurio.tif: TIFFReadDirectory:Sum of Photometric type-related color channels and ExtraSamples doesn't match SamplesPerPixel. Defining non-color channels as ExtraSamples.\n"
          ]
        },
        {
          "output_type": "stream",
          "name": "stdout",
          "text": [
            "RASTER : /content/drive/MyDrive/LithDatasTIF/Lighurio.tif opened \n",
            "Vector : /content/drive/MyDrive/LithDatasSHP/Lighurio.shp opened \n"
          ]
        },
        {
          "output_type": "stream",
          "name": "stderr",
          "text": [
            "WARNING:rasterio._env:CPLE_AppDefined in /content/drive/MyDrive/LithDatasTIF/LIMENARIA.tif: TIFFReadDirectory:Sum of Photometric type-related color channels and ExtraSamples doesn't match SamplesPerPixel. Defining non-color channels as ExtraSamples.\n",
            "WARNING:rasterio._env:CPLE_AppDefined in /content/drive/MyDrive/LithDatasTIF/Megara.tif: TIFFReadDirectory:Sum of Photometric type-related color channels and ExtraSamples doesn't match SamplesPerPixel. Defining non-color channels as ExtraSamples.\n"
          ]
        },
        {
          "output_type": "stream",
          "name": "stdout",
          "text": [
            "RASTER : /content/drive/MyDrive/LithDatasTIF/LIMENARIA.tif opened \n",
            "Vector : /content/drive/MyDrive/LithDatasSHP/LIMENARIA.shp opened \n",
            "RASTER : /content/drive/MyDrive/LithDatasTIF/Megara.tif opened \n"
          ]
        },
        {
          "output_type": "stream",
          "name": "stderr",
          "text": [
            "WARNING:rasterio._env:CPLE_AppDefined in /content/drive/MyDrive/LithDatasTIF/Mesorrahi.tif: TIFFReadDirectory:Sum of Photometric type-related color channels and ExtraSamples doesn't match SamplesPerPixel. Defining non-color channels as ExtraSamples.\n"
          ]
        },
        {
          "output_type": "stream",
          "name": "stdout",
          "text": [
            "Vector : /content/drive/MyDrive/LithDatasSHP/Megara.shp opened \n",
            "RASTER : /content/drive/MyDrive/LithDatasTIF/Mesorrahi.tif opened \n",
            "Vector : /content/drive/MyDrive/LithDatasSHP/Mesorrahi.shp opened \n"
          ]
        },
        {
          "output_type": "stream",
          "name": "stderr",
          "text": [
            "WARNING:rasterio._env:CPLE_AppDefined in /content/drive/MyDrive/LithDatasTIF/Metsitia_Arta.tif: TIFFReadDirectory:Sum of Photometric type-related color channels and ExtraSamples doesn't match SamplesPerPixel. Defining non-color channels as ExtraSamples.\n"
          ]
        },
        {
          "output_type": "stream",
          "name": "stdout",
          "text": [
            "RASTER : /content/drive/MyDrive/LithDatasTIF/Metsitia_Arta.tif opened \n",
            "Vector : /content/drive/MyDrive/LithDatasSHP/Metsitia_Arta.shp opened \n"
          ]
        },
        {
          "output_type": "stream",
          "name": "stderr",
          "text": [
            "WARNING:rasterio._env:CPLE_AppDefined in /content/drive/MyDrive/LithDatasTIF/Monopigado.tif: TIFFReadDirectory:Sum of Photometric type-related color channels and ExtraSamples doesn't match SamplesPerPixel. Defining non-color channels as ExtraSamples.\n"
          ]
        },
        {
          "output_type": "stream",
          "name": "stdout",
          "text": [
            "RASTER : /content/drive/MyDrive/LithDatasTIF/Monopigado.tif opened \n",
            "Vector : /content/drive/MyDrive/LithDatasSHP/Monopigado.shp opened \n"
          ]
        },
        {
          "output_type": "stream",
          "name": "stderr",
          "text": [
            "WARNING:rasterio._env:CPLE_AppDefined in /content/drive/MyDrive/LithDatasTIF/Neraidoxori.tif: TIFFReadDirectory:Sum of Photometric type-related color channels and ExtraSamples doesn't match SamplesPerPixel. Defining non-color channels as ExtraSamples.\n"
          ]
        },
        {
          "output_type": "stream",
          "name": "stdout",
          "text": [
            "RASTER : /content/drive/MyDrive/LithDatasTIF/Neraidoxori.tif opened \n",
            "Vector : /content/drive/MyDrive/LithDatasSHP/Neraidoxori.shp opened \n"
          ]
        },
        {
          "output_type": "stream",
          "name": "stderr",
          "text": [
            "WARNING:rasterio._env:CPLE_AppDefined in /content/drive/MyDrive/LithDatasTIF/Petroto.tif: TIFFReadDirectory:Sum of Photometric type-related color channels and ExtraSamples doesn't match SamplesPerPixel. Defining non-color channels as ExtraSamples.\n"
          ]
        },
        {
          "output_type": "stream",
          "name": "stdout",
          "text": [
            "RASTER : /content/drive/MyDrive/LithDatasTIF/Petroto.tif opened \n",
            "Vector : /content/drive/MyDrive/LithDatasSHP/Petroto.shp opened \n"
          ]
        },
        {
          "output_type": "stream",
          "name": "stderr",
          "text": [
            "WARNING:rasterio._env:CPLE_AppDefined in /content/drive/MyDrive/LithDatasTIF/Skandalo.tif: TIFFReadDirectory:Sum of Photometric type-related color channels and ExtraSamples doesn't match SamplesPerPixel. Defining non-color channels as ExtraSamples.\n"
          ]
        },
        {
          "output_type": "stream",
          "name": "stdout",
          "text": [
            "RASTER : /content/drive/MyDrive/LithDatasTIF/Skandalo.tif opened \n",
            "Vector : /content/drive/MyDrive/LithDatasSHP/Skandalo.shp opened \n"
          ]
        },
        {
          "output_type": "stream",
          "name": "stderr",
          "text": [
            "WARNING:rasterio._env:CPLE_AppDefined in /content/drive/MyDrive/LithDatasTIF/Tirnavos.tif: TIFFReadDirectory:Sum of Photometric type-related color channels and ExtraSamples doesn't match SamplesPerPixel. Defining non-color channels as ExtraSamples.\n"
          ]
        },
        {
          "output_type": "stream",
          "name": "stdout",
          "text": [
            "RASTER : /content/drive/MyDrive/LithDatasTIF/Tirnavos.tif opened \n",
            "Vector : /content/drive/MyDrive/LithDatasSHP/Tirnavos.shp opened \n"
          ]
        },
        {
          "output_type": "stream",
          "name": "stderr",
          "text": [
            "WARNING:rasterio._env:CPLE_AppDefined in /content/drive/MyDrive/LithDatasTIF/Voras.tif: TIFFReadDirectory:Sum of Photometric type-related color channels and ExtraSamples doesn't match SamplesPerPixel. Defining non-color channels as ExtraSamples.\n"
          ]
        },
        {
          "output_type": "stream",
          "name": "stdout",
          "text": [
            "RASTER : /content/drive/MyDrive/LithDatasTIF/Voras.tif opened \n",
            "Vector : /content/drive/MyDrive/LithDatasSHP/Voras.shp opened \n"
          ]
        },
        {
          "output_type": "stream",
          "name": "stderr",
          "text": [
            "WARNING:rasterio._env:CPLE_AppDefined in /content/drive/MyDrive/LithDatasTIF/XIOS.tif: TIFFReadDirectory:Sum of Photometric type-related color channels and ExtraSamples doesn't match SamplesPerPixel. Defining non-color channels as ExtraSamples.\n"
          ]
        },
        {
          "output_type": "stream",
          "name": "stdout",
          "text": [
            "RASTER : /content/drive/MyDrive/LithDatasTIF/XIOS.tif opened \n",
            "Vector : /content/drive/MyDrive/LithDatasSHP/XIOS.shp opened \n"
          ]
        },
        {
          "output_type": "stream",
          "name": "stderr",
          "text": [
            "WARNING:rasterio._env:CPLE_AppDefined in /content/drive/MyDrive/LithDatasTIF/naxos_corected.tif: TIFFReadDirectory:Sum of Photometric type-related color channels and ExtraSamples doesn't match SamplesPerPixel. Defining non-color channels as ExtraSamples.\n"
          ]
        },
        {
          "output_type": "stream",
          "name": "stdout",
          "text": [
            "RASTER : /content/drive/MyDrive/LithDatasTIF/naxos_corected.tif opened \n",
            "Vector : /content/drive/MyDrive/LithDatasSHP/naxos_corected.shp opened \n"
          ]
        },
        {
          "output_type": "stream",
          "name": "stderr",
          "text": [
            "WARNING:rasterio._env:CPLE_AppDefined in /content/drive/MyDrive/LithDatasTIF/Velia.tif: TIFFReadDirectory:Sum of Photometric type-related color channels and ExtraSamples doesn't match SamplesPerPixel. Defining non-color channels as ExtraSamples.\n"
          ]
        },
        {
          "output_type": "stream",
          "name": "stdout",
          "text": [
            "RASTER : /content/drive/MyDrive/LithDatasTIF/Velia.tif opened \n",
            "Vector : /content/drive/MyDrive/LithDatasSHP/Velia.shp opened \n"
          ]
        }
      ]
    },
    {
      "cell_type": "code",
      "source": [
        "vector = gpd.read_file(\"/content/drive/MyDrive/LithDatasSHP/Anafi.shp\")\n",
        "rst_path='/content/drive/MyDrive/LithDatasTIF/Anafi.tif'\n",
        "raster = rasterio.open(rst_path)"
      ],
      "metadata": {
        "id": "3XdE3hREzxYh",
        "colab": {
          "base_uri": "https://localhost:8080/"
        },
        "outputId": "8733c596-f33a-4ad1-9980-878d423f30f6"
      },
      "execution_count": 31,
      "outputs": [
        {
          "output_type": "stream",
          "name": "stderr",
          "text": [
            "WARNING:rasterio._env:CPLE_AppDefined in /content/drive/MyDrive/LithDatasTIF/Anafi.tif: TIFFReadDirectory:Sum of Photometric type-related color channels and ExtraSamples doesn't match SamplesPerPixel. Defining non-color channels as ExtraSamples.\n"
          ]
        }
      ]
    },
    {
      "cell_type": "code",
      "source": [
        "import geopandas as gpd\n",
        "import matplotlib.pyplot as plt\n",
        "import rasterio\n",
        "from rasterio import features\n",
        "from rasterio.enums import MergeAlg\n",
        "from rasterio.plot import show\n",
        "import numpy as np\n",
        "# create a numeric unique value for each row\n",
        "#col_list =  list(vector[\"labels_Lit\"])\n",
        "#print(col_list)\n",
        "\n",
        "vector['labels_Lit'] = range(0,len(vector))\n",
        "#print(vector['labels_Lit'])\n",
        "\n",
        "# create tuples of geometry, value pairs, where value is the attribute value you want to burn\n",
        "geom_value = ((geom,value) for geom, value in zip(vector.geometry, vector[\"labels_Lit\"]))\n",
        "\n",
        "# Rasterize vector using the shape and transform of the raster\n",
        "rasterized = features.rasterize(geom_value,\n",
        "                                out_shape = raster.shape,\n",
        "                                transform = raster.transform,\n",
        "                                all_touched = True,\n",
        "                                fill = 0,   # background value\n",
        "                                merge_alg = MergeAlg.replace,\n",
        "                                dtype = np.int16)\n",
        "\n",
        "#print(rasterized)\n",
        "#import geopandas as gpd\n",
        "#df = gpd.read_file('../../Datasets/italy-points-shape/points.shp')\n",
        "#df.head()"
      ],
      "metadata": {
        "id": "d-hWW3bD4oaF"
      },
      "execution_count": 32,
      "outputs": []
    },
    {
      "cell_type": "code",
      "source": [
        "# Plot raster\n",
        "fig, ax = plt.subplots(1, figsize = (10, 10))\n",
        "#handles, labels = ax.get_legend_handles_labels(vector['labels_Lit'])\n",
        "#ax.legend(labels,loc='upper right')\n",
        "show(rasterized, ax = ax)\n",
        "plt.gca()\n",
        "with rasterio.open(\n",
        "        \"/content/drive/MyDrive/raster_to_be_used/Anafi_rasterized_vector.tif\", \"w\",\n",
        "        driver = \"GTiff\",\n",
        "        transform = raster.transform,\n",
        "        dtype=rasterized.dtype,\n",
        "      #  dtype = rasterio.uint8,\n",
        "\n",
        "        count = 1,\n",
        "        width = raster.width,\n",
        "        height = raster.height) as dst:\n",
        "    dst.write(rasterized, indexes = 1)"
      ],
      "metadata": {
        "colab": {
          "base_uri": "https://localhost:8080/",
          "height": 415
        },
        "id": "JHB4jGxIF-97",
        "outputId": "4ef1a591-75b7-4ba5-ebd8-bf7bebb390b9"
      },
      "execution_count": 33,
      "outputs": [
        {
          "output_type": "display_data",
          "data": {
            "text/plain": [
              "<Figure size 720x720 with 1 Axes>"
            ],
            "image/png": "[encoded data removed]"
          },
          "metadata": {
            "needs_background": "light"
          }
        }
      ]
    },
    {
      "cell_type": "code",
      "source": [
        "rst_path='/content/drive/MyDrive/raster_to_be_used/Anafi_rasterized_vector.tif'\n",
        "from osgeo import gdal\n",
        "raster = rasterio.open(rst_path)\n",
        "#raster.RasterCount\n",
        "show(raster)"
      ],
      "metadata": {
        "colab": {
          "base_uri": "https://localhost:8080/",
          "height": 294
        },
        "id": "khHmgOPSajOf",
        "outputId": "153d8d4a-f700-4988-f249-f6d0a1973d40"
      },
      "execution_count": 34,
      "outputs": [
        {
          "output_type": "display_data",
          "data": {
            "text/plain": [
              "<Figure size 432x288 with 1 Axes>"
            ],
            "image/png": "[encoded data removed]"
          },
          "metadata": {
            "needs_background": "light"
          }
        },
        {
          "output_type": "execute_result",
          "data": {
            "text/plain": [
              "<AxesSubplot:>"
            ]
          },
          "metadata": {},
          "execution_count": 34
        }
      ]
    }
  ]
}