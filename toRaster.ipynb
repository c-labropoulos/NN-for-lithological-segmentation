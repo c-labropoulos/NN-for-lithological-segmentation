{
  "nbformat": 4,
  "nbformat_minor": 0,
  "metadata": {
    "colab": {
      "provenance": [],
      "mount_file_id": "1AQsUuhGE74xVFNHM70z1avp2OUvQbimV",
      "authorship_tag": "ABX9TyPQ66WK8iys8L/MomeboBDM",
      "include_colab_link": true
    },
    "kernelspec": {
      "name": "python3",
      "display_name": "Python 3"
    },
    "language_info": {
      "name": "python"
    },
    "accelerator": "GPU",
    "gpuClass": "standard"
  },
  "cells": [
    {
      "cell_type": "markdown",
      "metadata": {
        "id": "view-in-github",
        "colab_type": "text"
      },
      "source": [
        "<a href=\"https://colab.research.google.com/github/c-labropoulos/NN-for-lithological-segmentation/blob/main/toRaster.ipynb\" target=\"_parent\"><img src=\"https://colab.research.google.com/assets/colab-badge.svg\" alt=\"Open In Colab\"/></a>"
      ]
    },
    {
      "cell_type": "code",
      "execution_count": 1,
      "metadata": {
        "colab": {
          "base_uri": "https://localhost:8080/"
        },
        "id": "rYRFcNR1czsC",
        "outputId": "3dcbae24-6720-4139-ae4a-0cf838ce73ed"
      },
      "outputs": [
        {
          "output_type": "stream",
          "name": "stdout",
          "text": [
            "Mounted at /content/drive\n"
          ]
        }
      ],
      "source": [
        "from google.colab import drive\n",
        "drive.mount('/content/drive', force_remount=True)"
      ]
    },
    {
      "cell_type": "code",
      "source": [
        "#!gdalinfo --version\n",
        "!pip install geopandas\n",
        "!pip install rasterio\n",
        "!pip install pyshp\n",
        "from osgeo import gdal\n",
        "from osgeo import ogr\n",
        "import rasterio\n",
        "import geopandas as gpd\n",
        "import shapefile as shp\n",
        "import os\n",
        "import matplotlib.pyplot as plt\n",
        "from rasterio import features\n",
        "from rasterio.enums import MergeAlg\n",
        "from rasterio.plot import show\n",
        "import numpy as np\n"
      ],
      "metadata": {
        "colab": {
          "base_uri": "https://localhost:8080/"
        },
        "id": "4AKnntvcdxAP",
        "outputId": "22e9f8c9-251c-4b55-a604-13e04ecd4c90"
      },
      "execution_count": 2,
      "outputs": [
        {
          "output_type": "stream",
          "name": "stdout",
          "text": [
            "Looking in indexes: https://pypi.org/simple, https://us-python.pkg.dev/colab-wheels/public/simple/\n",
            "Collecting geopandas\n",
            "  Downloading geopandas-0.13.0-py3-none-any.whl (1.1 MB)\n",
            "\u001b[2K     \u001b[90m━━━━━━━━━━━━━━━━━━━━━━━━━━━━━━━━━━━━━━━━\u001b[0m \u001b[32m1.1/1.1 MB\u001b[0m \u001b[31m27.9 MB/s\u001b[0m eta \u001b[36m0:00:00\u001b[0m\n",
            "\u001b[?25hCollecting fiona>=1.8.19 (from geopandas)\n",
            "  Downloading Fiona-1.9.3-cp310-cp310-manylinux_2_17_x86_64.manylinux2014_x86_64.whl (16.0 MB)\n",
            "\u001b[2K     \u001b[90m━━━━━━━━━━━━━━━━━━━━━━━━━━━━━━━━━━━━━━━━\u001b[0m \u001b[32m16.0/16.0 MB\u001b[0m \u001b[31m66.4 MB/s\u001b[0m eta \u001b[36m0:00:00\u001b[0m\n",
            "\u001b[?25hRequirement already satisfied: packaging in /usr/local/lib/python3.10/dist-packages (from geopandas) (23.1)\n",
            "Requirement already satisfied: pandas>=1.1.0 in /usr/local/lib/python3.10/dist-packages (from geopandas) (1.5.3)\n",
            "Collecting pyproj>=3.0.1 (from geopandas)\n",
            "  Downloading pyproj-3.5.0-cp310-cp310-manylinux_2_17_x86_64.manylinux2014_x86_64.whl (7.7 MB)\n",
            "\u001b[2K     \u001b[90m━━━━━━━━━━━━━━━━━━━━━━━━━━━━━━━━━━━━━━━━\u001b[0m \u001b[32m7.7/7.7 MB\u001b[0m \u001b[31m56.1 MB/s\u001b[0m eta \u001b[36m0:00:00\u001b[0m\n",
            "\u001b[?25hRequirement already satisfied: shapely>=1.7.1 in /usr/local/lib/python3.10/dist-packages (from geopandas) (2.0.1)\n",
            "Requirement already satisfied: attrs>=19.2.0 in /usr/local/lib/python3.10/dist-packages (from fiona>=1.8.19->geopandas) (23.1.0)\n",
            "Requirement already satisfied: certifi in /usr/local/lib/python3.10/dist-packages (from fiona>=1.8.19->geopandas) (2022.12.7)\n",
            "Requirement already satisfied: click~=8.0 in /usr/local/lib/python3.10/dist-packages (from fiona>=1.8.19->geopandas) (8.1.3)\n",
            "Collecting click-plugins>=1.0 (from fiona>=1.8.19->geopandas)\n",
            "  Downloading click_plugins-1.1.1-py2.py3-none-any.whl (7.5 kB)\n",
            "Collecting cligj>=0.5 (from fiona>=1.8.19->geopandas)\n",
            "  Downloading cligj-0.7.2-py3-none-any.whl (7.1 kB)\n",
            "Collecting munch>=2.3.2 (from fiona>=1.8.19->geopandas)\n",
            "  Downloading munch-3.0.0-py2.py3-none-any.whl (10 kB)\n",
            "Requirement already satisfied: python-dateutil>=2.8.1 in /usr/local/lib/python3.10/dist-packages (from pandas>=1.1.0->geopandas) (2.8.2)\n",
            "Requirement already satisfied: pytz>=2020.1 in /usr/local/lib/python3.10/dist-packages (from pandas>=1.1.0->geopandas) (2022.7.1)\n",
            "Requirement already satisfied: numpy>=1.21.0 in /usr/local/lib/python3.10/dist-packages (from pandas>=1.1.0->geopandas) (1.22.4)\n",
            "Requirement already satisfied: six in /usr/local/lib/python3.10/dist-packages (from munch>=2.3.2->fiona>=1.8.19->geopandas) (1.16.0)\n",
            "Installing collected packages: pyproj, munch, cligj, click-plugins, fiona, geopandas\n",
            "Successfully installed click-plugins-1.1.1 cligj-0.7.2 fiona-1.9.3 geopandas-0.13.0 munch-3.0.0 pyproj-3.5.0\n",
            "Looking in indexes: https://pypi.org/simple, https://us-python.pkg.dev/colab-wheels/public/simple/\n",
            "Collecting rasterio\n",
            "  Downloading rasterio-1.3.6-cp310-cp310-manylinux_2_17_x86_64.manylinux2014_x86_64.whl (20.0 MB)\n",
            "\u001b[2K     \u001b[90m━━━━━━━━━━━━━━━━━━━━━━━━━━━━━━━━━━━━━━━━\u001b[0m \u001b[32m20.0/20.0 MB\u001b[0m \u001b[31m25.6 MB/s\u001b[0m eta \u001b[36m0:00:00\u001b[0m\n",
            "\u001b[?25hCollecting affine (from rasterio)\n",
            "  Downloading affine-2.4.0-py3-none-any.whl (15 kB)\n",
            "Requirement already satisfied: attrs in /usr/local/lib/python3.10/dist-packages (from rasterio) (23.1.0)\n",
            "Requirement already satisfied: certifi in /usr/local/lib/python3.10/dist-packages (from rasterio) (2022.12.7)\n",
            "Requirement already satisfied: click>=4.0 in /usr/local/lib/python3.10/dist-packages (from rasterio) (8.1.3)\n",
            "Requirement already satisfied: cligj>=0.5 in /usr/local/lib/python3.10/dist-packages (from rasterio) (0.7.2)\n",
            "Requirement already satisfied: numpy>=1.18 in /usr/local/lib/python3.10/dist-packages (from rasterio) (1.22.4)\n",
            "Collecting snuggs>=1.4.1 (from rasterio)\n",
            "  Downloading snuggs-1.4.7-py3-none-any.whl (5.4 kB)\n",
            "Requirement already satisfied: click-plugins in /usr/local/lib/python3.10/dist-packages (from rasterio) (1.1.1)\n",
            "Requirement already satisfied: setuptools in /usr/local/lib/python3.10/dist-packages (from rasterio) (67.7.2)\n",
            "Requirement already satisfied: pyparsing>=2.1.6 in /usr/local/lib/python3.10/dist-packages (from snuggs>=1.4.1->rasterio) (3.0.9)\n",
            "Installing collected packages: snuggs, affine, rasterio\n",
            "Successfully installed affine-2.4.0 rasterio-1.3.6 snuggs-1.4.7\n",
            "Looking in indexes: https://pypi.org/simple, https://us-python.pkg.dev/colab-wheels/public/simple/\n",
            "Collecting pyshp\n",
            "  Downloading pyshp-2.3.1-py2.py3-none-any.whl (46 kB)\n",
            "\u001b[2K     \u001b[90m━━━━━━━━━━━━━━━━━━━━━━━━━━━━━━━━━━━━━━━━\u001b[0m \u001b[32m46.5/46.5 kB\u001b[0m \u001b[31m5.6 MB/s\u001b[0m eta \u001b[36m0:00:00\u001b[0m\n",
            "\u001b[?25hInstalling collected packages: pyshp\n",
            "Successfully installed pyshp-2.3.1\n"
          ]
        }
      ]
    },
    {
      "cell_type": "code",
      "source": [
        "\n",
        "\n",
        "def labelcreation(folder_path):\n",
        "    \"\"\"\n",
        "    This function reads shapefiles from a given folder and extracts unique labels from the specified column.\n",
        "    \n",
        "    Parameters:\n",
        "    folder_path (str): The path to the folder containing the shapefiles.\n",
        "    \n",
        "    Returns:\n",
        "    dict: A dictionary mapping integers to unique labels found in the shapefiles.\n",
        "    \"\"\"\n",
        "    # Create an empty set to store unique labels\n",
        "    unique_labels = set()\n",
        "\n",
        "    # Iterate over the files in the folder\n",
        "    for file_name in os.listdir(folder_path):\n",
        "        # Process only shapefiles\n",
        "        if file_name.endswith(\".shp\"):\n",
        "            # Create the full file path\n",
        "            file_path = os.path.join(folder_path, file_name)\n",
        "            \n",
        "            # Read the shapefile as a geodataframe\n",
        "            gdf = gpd.read_file(file_path)\n",
        "            \n",
        "            # Extract the labels from the specified column and add them to the set\n",
        "            labels = set(gdf[\"labels_Lit\"]) # replace \"labels_Lit\" with the name of the column containing the labels in your shapefile\n",
        "            unique_labels = unique_labels.union(labels)\n",
        "\n",
        "    # Create a dictionary mapping integers to unique labels\n",
        "    label_dict = {i: label for i, label in enumerate(unique_labels)}\n",
        "\n",
        "    return label_dict\n",
        "\n",
        "# Define the folder path containing shapefiles\n",
        "folder_path = \"/content/drive/MyDrive/LithDatasSHP\"\n",
        "\n",
        "# Call the labelcreation function to extract unique labels\n",
        "unique_labels = labelcreation(folder_path)\n",
        "\n",
        "# Print the dictionary of unique labels\n",
        "print(unique_labels)\n",
        "\n",
        "# Save the labels to a CSV file. Using pandas for this will make it easier and more efficient.\n",
        "import pandas as pd\n",
        "\n",
        "df = pd.DataFrame(list(unique_labels.items()), columns=['pixel_value', 'class_name'])\n",
        "df.to_csv(\"/content/drive/MyDrive/class_mapping.csv\", index=False)\n"
      ],
      "metadata": {
        "id": "tGlX6baBv6sp",
        "colab": {
          "base_uri": "https://localhost:8080/"
        },
        "outputId": "b91a2955-fbdd-4de5-8ea1-9b65c87e8731"
      },
      "execution_count": 3,
      "outputs": [
        {
          "output_type": "stream",
          "name": "stdout",
          "text": [
            "{0: 'Dolites', 1: 'Kollouvia Flisxi', 2: 'Konoi Apotheseon', 3: 'Granitis', 4: 'Sxistolithoi', 5: 'Argilikos Flisxis kai Keratolithoi', 6: 'Koites Potamon', 7: 'Gnesioi', 8: 'Tritogeneis apotheseis', 9: 'Kollouvia Asvestolithon', 10: 'Allouvia', 11: 'Psamitikos Flisxis', 12: 'Peridotites kai Gavroi', 13: 'Miktos Flisxis', 14: 'Kollouvia Gneusion', 15: 'Not available', 16: 'Skliroi asvestolithoi', 17: nan}\n"
          ]
        }
      ]
    },
    {
      "cell_type": "code",
      "source": [
        "def lists_for_rasterize(shppath, tiffpath):\n",
        "    \"\"\"\n",
        "    This function searches the given directories for shapefiles and raster files,\n",
        "    and creates corresponding lists of file paths and names.\n",
        "    \n",
        "    Parameters:\n",
        "    shppath (str): The path to the directory containing the shapefiles.\n",
        "    tiffpath (str): The path to the directory containing the raster files.\n",
        "    \n",
        "    Returns:\n",
        "    tuple: A tuple containing four lists:\n",
        "        - shapes_list: A list of shapefile paths that correspond to each raster file in raster_names\n",
        "        - raster_files: A list of raster file paths\n",
        "        - raster_names: A list of raster file names (without the '.tif' extension)\n",
        "        - shape_names: A list of shapefile names (without the '.shp' extension)\n",
        "    \"\"\"\n",
        "    # Create empty lists to hold shapefile and raster file paths and names\n",
        "    shape_files = []        \n",
        "    shape_names = []       \n",
        "    raster_files = []      \n",
        "    raster_names = []     \n",
        "\n",
        "    # Use os.walk() to recursively search shppath for shapefiles\n",
        "    for dirpath, subdirs, files in os.walk(shppath):\n",
        "        # Check each file in the current directory for the \".shp\" extension\n",
        "        for file in files:\n",
        "            if file.endswith(\".shp\"):\n",
        "                # If the file has the \".shp\" extension, append its path and name to the shape_files and shape_names lists\n",
        "                shape_files.append(os.path.join(dirpath, file))\n",
        "                shape_names.append(file.split('.shp', 1)[0])\n",
        "\n",
        "    # Use os.walk() to recursively search tiffpath for raster files\n",
        "    for dirpath, subdirs, files in os.walk(tiffpath):\n",
        "        # Check each file in the current directory for the \".tif\" extension\n",
        "        for file in files:\n",
        "            if file.endswith(\".tif\"):\n",
        "                # If the file has the \".tif\" extension, append its path and name to the raster_files and raster_names lists\n",
        "                raster_files.append(os.path.join(dirpath, file))\n",
        "                raster_names.append(file.split('.tif', 1)[0])\n",
        "\n",
        "    # Create a list of shapefile paths that correspond to each raster file in raster_names\n",
        "    shapes_list = [None] * len(raster_names)  # Initialize shapes_list with None values\n",
        "    for i, raster_name in enumerate(raster_names):\n",
        "        # Find the shapefile that corresponds to the current raster file\n",
        "        matching_shape = next((s for s in shape_files if raster_name in s), None)\n",
        "        if matching_shape:\n",
        "            # If a matching shapefile was found, append its path to shapes_list at the corresponding index\n",
        "            shapes_list[i] = matching_shape\n",
        "    shapes_list = [s for s in shapes_list if s]  # Remove any remaining None values from shapes_list\n",
        "\n",
        "    # Return the lists of shapefile and raster file paths and names\n",
        "    return shapes_list, raster_files, raster_names, shape_names\n"
      ],
      "metadata": {
        "id": "5vFYB4Lfy8cB"
      },
      "execution_count": 4,
      "outputs": []
    },
    {
      "cell_type": "markdown",
      "source": [
        " labelcreation fucntion  reads shapefiles from a given folder and extracts unique labels from a specified column. It then creates a dictionary mapping integers to the unique labels found in the shapefiles. "
      ],
      "metadata": {
        "id": "I6XtM4JdcTcG"
      }
    },
    {
      "cell_type": "code",
      "source": [
        "\n",
        "def rasterize(shppath, tiffpath):\n",
        "    \"\"\"\n",
        "    This function rasterizes shapefiles and saves the resulting images as TIFF files.\n",
        "    It ensures that the shapefiles and raster files have corresponding names.\n",
        "    \n",
        "    Parameters:\n",
        "    shppath (str): The path to the directory containing the shapefiles.\n",
        "    tiffpath (str): The path to the directory containing the raster files.\n",
        "    \"\"\"\n",
        "    # Get lists of shapefiles and corresponding raster files\n",
        "    shplist, rasterlist, raster_names, _ = lists_for_rasterize(shppath, tiffpath)\n",
        "\n",
        "    # Create a dictionary of unique labels present in the shapefiles\n",
        "    unique_labels = labelcreation(shppath)\n",
        "    # Create a reverse dictionary of unique_labels\n",
        "    labels_to_pixels = {v: k for k, v in unique_labels.items()}\n",
        "\n",
        "    # Check if the number of shapefiles and raster files is the same\n",
        "    if len(rasterlist) != len(shplist):\n",
        "        print(\"SEVERE ERROR: raster list has length of \" + str(len(rasterlist)) + \" and shp files list has length \" + str(len(shplist)))\n",
        "        return\n",
        "\n",
        "    # Loop through each shapefile and corresponding raster file\n",
        "    for i in range(len(shplist)):\n",
        "        # Open the raster file\n",
        "        raster = rasterio.open(rasterlist[i])\n",
        "        print(\"RASTER: \" + str(rasterlist[i]) + \" opened\")\n",
        "\n",
        "        # Open the shapefile\n",
        "        vector = gpd.read_file(shplist[i])\n",
        "        print(\"Vector: \" + str(shplist[i]) + \" opened\\n\")\n",
        "\n",
        "        # Get a list of labels from the shapefile\n",
        "        vectorlabels = list(vector['labels_Lit'])\n",
        "\n",
        "        # Get a list of pixel values corresponding to the labels in the shapefile\n",
        "        pixels = [labels_to_pixels[label] for label in vectorlabels]\n",
        "\n",
        "        # Create tuples of geometry, value pairs, where value is the attribute value you want to burn\n",
        "        geom_value = ((geom, value) for geom, value in zip(vector.geometry, pixels))\n",
        "\n",
        "        # Rasterize vector using the shape and transform of the raster\n",
        "        rasterized = features.rasterize(geom_value, out_shape=raster.shape,\n",
        "                                        transform=raster.transform,\n",
        "                                        all_touched=True,\n",
        "                                        merge_alg=MergeAlg.replace,\n",
        "                                        dtype=np.int16)\n",
        "\n",
        "        # Write the rasterized image to a new tiff file\n",
        "        with rasterio.open(\"/content/drive/MyDrive/raster_to_be_used/\" + raster_names[i] + \"_rasterized_vector.tif\", \"w\",\n",
        "                           driver=\"GTiff\",\n",
        "                           transform=raster.transform,\n",
        "                           crs=raster.crs,\n",
        "                           dtype=rasterized.dtype,\n",
        "                           count=1,\n",
        "                           width=raster.width,\n",
        "                           height=raster.height) as dst:\n",
        "            dst.write(rasterized, indexes=1)\n",
        "\n",
        "# Set the directories for shapefiles and raster files\n",
        "shape_dir = \"/content/drive/MyDrive/LithDatasSHP\"\n",
        "raster_dir = '/content/drive/MyDrive/LithDatasTIF'\n",
        "\n",
        "# Call the rasterize function with the directories\n",
        "rasterize(shape_dir, raster_dir)\n"
      ],
      "metadata": {
        "id": "WRN5BHlCwAOx",
        "colab": {
          "base_uri": "https://localhost:8080/"
        },
        "outputId": "98736aa4-a881-4ee9-8dc9-aa8fffdaeecf"
      },
      "execution_count": 5,
      "outputs": [
        {
          "output_type": "stream",
          "name": "stderr",
          "text": [
            "WARNING:rasterio._env:CPLE_AppDefined in /content/drive/MyDrive/LithDatasTIF/Agios_Georgios.tif: TIFFReadDirectory:Sum of Photometric type-related color channels and ExtraSamples doesn't match SamplesPerPixel. Defining non-color channels as ExtraSamples.\n"
          ]
        },
        {
          "output_type": "stream",
          "name": "stdout",
          "text": [
            "RASTER: /content/drive/MyDrive/LithDatasTIF/Agios_Georgios.tif opened\n",
            "Vector: /content/drive/MyDrive/LithDatasSHP/Agios_Georgios.shp opened\n",
            "\n"
          ]
        },
        {
          "output_type": "stream",
          "name": "stderr",
          "text": [
            "WARNING:rasterio._env:CPLE_AppDefined in /content/drive/MyDrive/LithDatasTIF/Amfilochia.tif: TIFFReadDirectory:Sum of Photometric type-related color channels and ExtraSamples doesn't match SamplesPerPixel. Defining non-color channels as ExtraSamples.\n"
          ]
        },
        {
          "output_type": "stream",
          "name": "stdout",
          "text": [
            "RASTER: /content/drive/MyDrive/LithDatasTIF/Amfilochia.tif opened\n",
            "Vector: /content/drive/MyDrive/LithDatasSHP/Amfilochia.shp opened\n",
            "\n"
          ]
        },
        {
          "output_type": "stream",
          "name": "stderr",
          "text": [
            "WARNING:rasterio._env:CPLE_AppDefined in /content/drive/MyDrive/LithDatasTIF/Anafi.tif: TIFFReadDirectory:Sum of Photometric type-related color channels and ExtraSamples doesn't match SamplesPerPixel. Defining non-color channels as ExtraSamples.\n"
          ]
        },
        {
          "output_type": "stream",
          "name": "stdout",
          "text": [
            "RASTER: /content/drive/MyDrive/LithDatasTIF/Anafi.tif opened\n",
            "Vector: /content/drive/MyDrive/LithDatasSHP/Anafi.shp opened\n",
            "\n"
          ]
        },
        {
          "output_type": "stream",
          "name": "stderr",
          "text": [
            "WARNING:rasterio._env:CPLE_AppDefined in /content/drive/MyDrive/LithDatasTIF/Crete_A.tif: TIFFReadDirectory:Sum of Photometric type-related color channels and ExtraSamples doesn't match SamplesPerPixel. Defining non-color channels as ExtraSamples.\n"
          ]
        },
        {
          "output_type": "stream",
          "name": "stdout",
          "text": [
            "RASTER: /content/drive/MyDrive/LithDatasTIF/Crete_A.tif opened\n",
            "Vector: /content/drive/MyDrive/LithDatasSHP/Crete_A.shp opened\n",
            "\n"
          ]
        },
        {
          "output_type": "stream",
          "name": "stderr",
          "text": [
            "WARNING:rasterio._env:CPLE_AppDefined in /content/drive/MyDrive/LithDatasTIF/Crete_B.tif: TIFFReadDirectory:Sum of Photometric type-related color channels and ExtraSamples doesn't match SamplesPerPixel. Defining non-color channels as ExtraSamples.\n"
          ]
        },
        {
          "output_type": "stream",
          "name": "stdout",
          "text": [
            "RASTER: /content/drive/MyDrive/LithDatasTIF/Crete_B.tif opened\n",
            "Vector: /content/drive/MyDrive/LithDatasSHP/Crete_B.shp opened\n",
            "\n"
          ]
        },
        {
          "output_type": "stream",
          "name": "stderr",
          "text": [
            "WARNING:rasterio._env:CPLE_AppDefined in /content/drive/MyDrive/LithDatasTIF/Desfina_B.tif: TIFFReadDirectory:Sum of Photometric type-related color channels and ExtraSamples doesn't match SamplesPerPixel. Defining non-color channels as ExtraSamples.\n"
          ]
        },
        {
          "output_type": "stream",
          "name": "stdout",
          "text": [
            "RASTER: /content/drive/MyDrive/LithDatasTIF/Desfina_B.tif opened\n",
            "Vector: /content/drive/MyDrive/LithDatasSHP/Desfina_B.shp opened\n",
            "\n"
          ]
        },
        {
          "output_type": "stream",
          "name": "stderr",
          "text": [
            "WARNING:rasterio._env:CPLE_AppDefined in /content/drive/MyDrive/LithDatasTIF/Ermoupoli.tif: TIFFReadDirectory:Sum of Photometric type-related color channels and ExtraSamples doesn't match SamplesPerPixel. Defining non-color channels as ExtraSamples.\n"
          ]
        },
        {
          "output_type": "stream",
          "name": "stdout",
          "text": [
            "RASTER: /content/drive/MyDrive/LithDatasTIF/Ermoupoli.tif opened\n",
            "Vector: /content/drive/MyDrive/LithDatasSHP/Ermoupoli.shp opened\n",
            "\n"
          ]
        },
        {
          "output_type": "stream",
          "name": "stderr",
          "text": [
            "WARNING:rasterio._env:CPLE_AppDefined in /content/drive/MyDrive/LithDatasTIF/Exarchos.tif: TIFFReadDirectory:Sum of Photometric type-related color channels and ExtraSamples doesn't match SamplesPerPixel. Defining non-color channels as ExtraSamples.\n"
          ]
        },
        {
          "output_type": "stream",
          "name": "stdout",
          "text": [
            "RASTER: /content/drive/MyDrive/LithDatasTIF/Exarchos.tif opened\n",
            "Vector: /content/drive/MyDrive/LithDatasSHP/Exarchos.shp opened\n",
            "\n"
          ]
        },
        {
          "output_type": "stream",
          "name": "stderr",
          "text": [
            "WARNING:rasterio._env:CPLE_AppDefined in /content/drive/MyDrive/LithDatasTIF/Grevena.tif: TIFFReadDirectory:Sum of Photometric type-related color channels and ExtraSamples doesn't match SamplesPerPixel. Defining non-color channels as ExtraSamples.\n"
          ]
        },
        {
          "output_type": "stream",
          "name": "stdout",
          "text": [
            "RASTER: /content/drive/MyDrive/LithDatasTIF/Grevena.tif opened\n",
            "Vector: /content/drive/MyDrive/LithDatasSHP/Grevena.shp opened\n",
            "\n"
          ]
        },
        {
          "output_type": "stream",
          "name": "stderr",
          "text": [
            "WARNING:rasterio._env:CPLE_AppDefined in /content/drive/MyDrive/LithDatasTIF/Kastro.tif: TIFFReadDirectory:Sum of Photometric type-related color channels and ExtraSamples doesn't match SamplesPerPixel. Defining non-color channels as ExtraSamples.\n"
          ]
        },
        {
          "output_type": "stream",
          "name": "stdout",
          "text": [
            "RASTER: /content/drive/MyDrive/LithDatasTIF/Kastro.tif opened\n",
            "Vector: /content/drive/MyDrive/LithDatasSHP/Kastro.shp opened\n",
            "\n"
          ]
        },
        {
          "output_type": "stream",
          "name": "stderr",
          "text": [
            "WARNING:rasterio._env:CPLE_AppDefined in /content/drive/MyDrive/LithDatasTIF/Kimmeria.tif: TIFFReadDirectory:Sum of Photometric type-related color channels and ExtraSamples doesn't match SamplesPerPixel. Defining non-color channels as ExtraSamples.\n"
          ]
        },
        {
          "output_type": "stream",
          "name": "stdout",
          "text": [
            "RASTER: /content/drive/MyDrive/LithDatasTIF/Kimmeria.tif opened\n",
            "Vector: /content/drive/MyDrive/LithDatasSHP/Kimmeria.shp opened\n",
            "\n"
          ]
        },
        {
          "output_type": "stream",
          "name": "stderr",
          "text": [
            "WARNING:rasterio._env:CPLE_AppDefined in /content/drive/MyDrive/LithDatasTIF/Kirko_Bunaras.tif: TIFFReadDirectory:Sum of Photometric type-related color channels and ExtraSamples doesn't match SamplesPerPixel. Defining non-color channels as ExtraSamples.\n"
          ]
        },
        {
          "output_type": "stream",
          "name": "stdout",
          "text": [
            "RASTER: /content/drive/MyDrive/LithDatasTIF/Kirko_Bunaras.tif opened\n",
            "Vector: /content/drive/MyDrive/LithDatasSHP/Kirko_Bunaras.shp opened\n",
            "\n"
          ]
        },
        {
          "output_type": "stream",
          "name": "stderr",
          "text": [
            "WARNING:rasterio._env:CPLE_AppDefined in /content/drive/MyDrive/LithDatasTIF/Kithnos_A.tif: TIFFReadDirectory:Sum of Photometric type-related color channels and ExtraSamples doesn't match SamplesPerPixel. Defining non-color channels as ExtraSamples.\n"
          ]
        },
        {
          "output_type": "stream",
          "name": "stdout",
          "text": [
            "RASTER: /content/drive/MyDrive/LithDatasTIF/Kithnos_A.tif opened\n",
            "Vector: /content/drive/MyDrive/LithDatasSHP/Kithnos_A.shp opened\n",
            "\n"
          ]
        },
        {
          "output_type": "stream",
          "name": "stderr",
          "text": [
            "WARNING:rasterio._env:CPLE_AppDefined in /content/drive/MyDrive/LithDatasTIF/Kithnos_B.tif: TIFFReadDirectory:Sum of Photometric type-related color channels and ExtraSamples doesn't match SamplesPerPixel. Defining non-color channels as ExtraSamples.\n"
          ]
        },
        {
          "output_type": "stream",
          "name": "stdout",
          "text": [
            "RASTER: /content/drive/MyDrive/LithDatasTIF/Kithnos_B.tif opened\n",
            "Vector: /content/drive/MyDrive/LithDatasSHP/Kithnos_B.shp opened\n",
            "\n"
          ]
        },
        {
          "output_type": "stream",
          "name": "stderr",
          "text": [
            "WARNING:rasterio._env:CPLE_AppDefined in /content/drive/MyDrive/LithDatasTIF/Kyprios.tif: TIFFReadDirectory:Sum of Photometric type-related color channels and ExtraSamples doesn't match SamplesPerPixel. Defining non-color channels as ExtraSamples.\n"
          ]
        },
        {
          "output_type": "stream",
          "name": "stdout",
          "text": [
            "RASTER: /content/drive/MyDrive/LithDatasTIF/Kyprios.tif opened\n",
            "Vector: /content/drive/MyDrive/LithDatasSHP/Kyprios.shp opened\n",
            "\n"
          ]
        },
        {
          "output_type": "stream",
          "name": "stderr",
          "text": [
            "WARNING:rasterio._env:CPLE_AppDefined in /content/drive/MyDrive/LithDatasTIF/Lighurio.tif: TIFFReadDirectory:Sum of Photometric type-related color channels and ExtraSamples doesn't match SamplesPerPixel. Defining non-color channels as ExtraSamples.\n"
          ]
        },
        {
          "output_type": "stream",
          "name": "stdout",
          "text": [
            "RASTER: /content/drive/MyDrive/LithDatasTIF/Lighurio.tif opened\n",
            "Vector: /content/drive/MyDrive/LithDatasSHP/Lighurio.shp opened\n",
            "\n"
          ]
        },
        {
          "output_type": "stream",
          "name": "stderr",
          "text": [
            "WARNING:rasterio._env:CPLE_AppDefined in /content/drive/MyDrive/LithDatasTIF/LIMENARIA.tif: TIFFReadDirectory:Sum of Photometric type-related color channels and ExtraSamples doesn't match SamplesPerPixel. Defining non-color channels as ExtraSamples.\n"
          ]
        },
        {
          "output_type": "stream",
          "name": "stdout",
          "text": [
            "RASTER: /content/drive/MyDrive/LithDatasTIF/LIMENARIA.tif opened\n",
            "Vector: /content/drive/MyDrive/LithDatasSHP/LIMENARIA.shp opened\n",
            "\n"
          ]
        },
        {
          "output_type": "stream",
          "name": "stderr",
          "text": [
            "WARNING:rasterio._env:CPLE_AppDefined in /content/drive/MyDrive/LithDatasTIF/Megara.tif: TIFFReadDirectory:Sum of Photometric type-related color channels and ExtraSamples doesn't match SamplesPerPixel. Defining non-color channels as ExtraSamples.\n"
          ]
        },
        {
          "output_type": "stream",
          "name": "stdout",
          "text": [
            "RASTER: /content/drive/MyDrive/LithDatasTIF/Megara.tif opened\n",
            "Vector: /content/drive/MyDrive/LithDatasSHP/Megara.shp opened\n",
            "\n"
          ]
        },
        {
          "output_type": "stream",
          "name": "stderr",
          "text": [
            "WARNING:rasterio._env:CPLE_AppDefined in /content/drive/MyDrive/LithDatasTIF/Mesorrahi.tif: TIFFReadDirectory:Sum of Photometric type-related color channels and ExtraSamples doesn't match SamplesPerPixel. Defining non-color channels as ExtraSamples.\n"
          ]
        },
        {
          "output_type": "stream",
          "name": "stdout",
          "text": [
            "RASTER: /content/drive/MyDrive/LithDatasTIF/Mesorrahi.tif opened\n",
            "Vector: /content/drive/MyDrive/LithDatasSHP/Mesorrahi.shp opened\n",
            "\n"
          ]
        },
        {
          "output_type": "stream",
          "name": "stderr",
          "text": [
            "WARNING:rasterio._env:CPLE_AppDefined in /content/drive/MyDrive/LithDatasTIF/Metsitia_Arta.tif: TIFFReadDirectory:Sum of Photometric type-related color channels and ExtraSamples doesn't match SamplesPerPixel. Defining non-color channels as ExtraSamples.\n"
          ]
        },
        {
          "output_type": "stream",
          "name": "stdout",
          "text": [
            "RASTER: /content/drive/MyDrive/LithDatasTIF/Metsitia_Arta.tif opened\n",
            "Vector: /content/drive/MyDrive/LithDatasSHP/Metsitia_Arta.shp opened\n",
            "\n"
          ]
        },
        {
          "output_type": "stream",
          "name": "stderr",
          "text": [
            "WARNING:rasterio._env:CPLE_AppDefined in /content/drive/MyDrive/LithDatasTIF/Monopigado.tif: TIFFReadDirectory:Sum of Photometric type-related color channels and ExtraSamples doesn't match SamplesPerPixel. Defining non-color channels as ExtraSamples.\n"
          ]
        },
        {
          "output_type": "stream",
          "name": "stdout",
          "text": [
            "RASTER: /content/drive/MyDrive/LithDatasTIF/Monopigado.tif opened\n",
            "Vector: /content/drive/MyDrive/LithDatasSHP/Monopigado.shp opened\n",
            "\n"
          ]
        },
        {
          "output_type": "stream",
          "name": "stderr",
          "text": [
            "WARNING:rasterio._env:CPLE_AppDefined in /content/drive/MyDrive/LithDatasTIF/Neraidoxori.tif: TIFFReadDirectory:Sum of Photometric type-related color channels and ExtraSamples doesn't match SamplesPerPixel. Defining non-color channels as ExtraSamples.\n"
          ]
        },
        {
          "output_type": "stream",
          "name": "stdout",
          "text": [
            "RASTER: /content/drive/MyDrive/LithDatasTIF/Neraidoxori.tif opened\n",
            "Vector: /content/drive/MyDrive/LithDatasSHP/Neraidoxori.shp opened\n",
            "\n"
          ]
        },
        {
          "output_type": "stream",
          "name": "stderr",
          "text": [
            "WARNING:rasterio._env:CPLE_AppDefined in /content/drive/MyDrive/LithDatasTIF/Petroto.tif: TIFFReadDirectory:Sum of Photometric type-related color channels and ExtraSamples doesn't match SamplesPerPixel. Defining non-color channels as ExtraSamples.\n"
          ]
        },
        {
          "output_type": "stream",
          "name": "stdout",
          "text": [
            "RASTER: /content/drive/MyDrive/LithDatasTIF/Petroto.tif opened\n",
            "Vector: /content/drive/MyDrive/LithDatasSHP/Petroto.shp opened\n",
            "\n"
          ]
        },
        {
          "output_type": "stream",
          "name": "stderr",
          "text": [
            "WARNING:rasterio._env:CPLE_AppDefined in /content/drive/MyDrive/LithDatasTIF/Skandalo.tif: TIFFReadDirectory:Sum of Photometric type-related color channels and ExtraSamples doesn't match SamplesPerPixel. Defining non-color channels as ExtraSamples.\n"
          ]
        },
        {
          "output_type": "stream",
          "name": "stdout",
          "text": [
            "RASTER: /content/drive/MyDrive/LithDatasTIF/Skandalo.tif opened\n",
            "Vector: /content/drive/MyDrive/LithDatasSHP/Skandalo.shp opened\n",
            "\n"
          ]
        },
        {
          "output_type": "stream",
          "name": "stderr",
          "text": [
            "WARNING:rasterio._env:CPLE_AppDefined in /content/drive/MyDrive/LithDatasTIF/Tirnavos.tif: TIFFReadDirectory:Sum of Photometric type-related color channels and ExtraSamples doesn't match SamplesPerPixel. Defining non-color channels as ExtraSamples.\n"
          ]
        },
        {
          "output_type": "stream",
          "name": "stdout",
          "text": [
            "RASTER: /content/drive/MyDrive/LithDatasTIF/Tirnavos.tif opened\n",
            "Vector: /content/drive/MyDrive/LithDatasSHP/Tirnavos.shp opened\n",
            "\n"
          ]
        },
        {
          "output_type": "stream",
          "name": "stderr",
          "text": [
            "WARNING:rasterio._env:CPLE_AppDefined in /content/drive/MyDrive/LithDatasTIF/Voras.tif: TIFFReadDirectory:Sum of Photometric type-related color channels and ExtraSamples doesn't match SamplesPerPixel. Defining non-color channels as ExtraSamples.\n"
          ]
        },
        {
          "output_type": "stream",
          "name": "stdout",
          "text": [
            "RASTER: /content/drive/MyDrive/LithDatasTIF/Voras.tif opened\n",
            "Vector: /content/drive/MyDrive/LithDatasSHP/Voras.shp opened\n",
            "\n"
          ]
        },
        {
          "output_type": "stream",
          "name": "stderr",
          "text": [
            "WARNING:rasterio._env:CPLE_AppDefined in /content/drive/MyDrive/LithDatasTIF/XIOS.tif: TIFFReadDirectory:Sum of Photometric type-related color channels and ExtraSamples doesn't match SamplesPerPixel. Defining non-color channels as ExtraSamples.\n"
          ]
        },
        {
          "output_type": "stream",
          "name": "stdout",
          "text": [
            "RASTER: /content/drive/MyDrive/LithDatasTIF/XIOS.tif opened\n",
            "Vector: /content/drive/MyDrive/LithDatasSHP/XIOS.shp opened\n",
            "\n"
          ]
        },
        {
          "output_type": "stream",
          "name": "stderr",
          "text": [
            "WARNING:rasterio._env:CPLE_AppDefined in /content/drive/MyDrive/LithDatasTIF/naxos_corected.tif: TIFFReadDirectory:Sum of Photometric type-related color channels and ExtraSamples doesn't match SamplesPerPixel. Defining non-color channels as ExtraSamples.\n"
          ]
        },
        {
          "output_type": "stream",
          "name": "stdout",
          "text": [
            "RASTER: /content/drive/MyDrive/LithDatasTIF/naxos_corected.tif opened\n",
            "Vector: /content/drive/MyDrive/LithDatasSHP/naxos_corected.shp opened\n",
            "\n"
          ]
        },
        {
          "output_type": "stream",
          "name": "stderr",
          "text": [
            "WARNING:rasterio._env:CPLE_AppDefined in /content/drive/MyDrive/LithDatasTIF/Velia.tif: TIFFReadDirectory:Sum of Photometric type-related color channels and ExtraSamples doesn't match SamplesPerPixel. Defining non-color channels as ExtraSamples.\n"
          ]
        },
        {
          "output_type": "stream",
          "name": "stdout",
          "text": [
            "RASTER: /content/drive/MyDrive/LithDatasTIF/Velia.tif opened\n",
            "Vector: /content/drive/MyDrive/LithDatasSHP/Velia.shp opened\n",
            "\n"
          ]
        },
        {
          "output_type": "stream",
          "name": "stderr",
          "text": [
            "WARNING:rasterio._env:CPLE_AppDefined in /content/drive/MyDrive/LithDatasTIF/Desfina.tif: TIFFReadDirectory:Sum of Photometric type-related color channels and ExtraSamples doesn't match SamplesPerPixel. Defining non-color channels as ExtraSamples.\n"
          ]
        },
        {
          "output_type": "stream",
          "name": "stdout",
          "text": [
            "RASTER: /content/drive/MyDrive/LithDatasTIF/Desfina.tif opened\n",
            "Vector: /content/drive/MyDrive/LithDatasSHP/Desfina.shp opened\n",
            "\n"
          ]
        }
      ]
    },
    {
      "cell_type": "markdown",
      "source": [
        "This above  named \"rasterize\" function that takes two input arguments: a path to a shapefile (shppath) and a path to a GeoTIFF file (tiffpath). The function uses the rasterio and geopandas libraries to convert the shapefile into a raster image, and then saves the raster image to the specified destination folder.\n",
        "\n",
        "The function first calls another function named \"lists_FOR_rasterize\" to generate three lists: a list of paths to all the shapefiles in the shppath folder, a list of paths to all the GeoTIFF files in the tiffpath folder, and a list of names to be used for the rasterized images in the destination folder.\n",
        "\n",
        "Then, the function checks if the lengths of the two lists are equal. If so, it sets the filesnumber variable to the length of the lists. Otherwise, it prints an error message.\n",
        "\n",
        "For each file, the function opens the corresponding raster image and the shapefile using the rasterio and geopandas libraries, respectively. Then, it creates a unique numeric value for each row in the shapefile and creates tuples of geometry and value pairs. The function then rasterizes the vector using the shape and transform of the raster, and saves the resulting raster image to the destination folder using the rasterio library.\n",
        "\n",
        "Overall, this function allows users to easily convert shapefiles into raster images, which can be useful for various geospatial analyses and applications."
      ],
      "metadata": {
        "id": "rtbMI9DfS5cM"
      }
    },
    {
      "cell_type": "code",
      "source": [
        "rst_path='/content/drive/MyDrive/raster_to_be_used/Anafi_rasterized_vector.tif'\n",
        "from osgeo import gdal\n",
        "raster = rasterio.open(rst_path)\n",
        "#raster.RasterCount\n",
        "show(raster)"
      ],
      "metadata": {
        "id": "khHmgOPSajOf",
        "colab": {
          "base_uri": "https://localhost:8080/",
          "height": 417
        },
        "outputId": "31e9e0e1-1266-4b95-acb6-28109c02d51c"
      },
      "execution_count": 6,
      "outputs": [
        {
          "output_type": "display_data",
          "data": {
            "text/plain": [
              "<Figure size 640x480 with 1 Axes>"
            ],
            "image/png": "[encoded data removed]"
          },
          "metadata": {}
        },
        {
          "output_type": "execute_result",
          "data": {
            "text/plain": [
              "<Axes: >"
            ]
          },
          "metadata": {},
          "execution_count": 6
        }
      ]
    },
    {
      "cell_type": "code",
      "source": [
        "# Define the dictionary with pixel values and labels\n",
        "pixel_dict = labelcreation(\"/content/drive/MyDrive/LithDatasSHP\")\n",
        "\n",
        "# Set the input folder containing raster files\n",
        "input_folder = \"/content/drive/MyDrive/raster_to_be_used\"\n",
        "output_folder = \"/content/drive/MyDrive/finalrasterdata\"\n",
        "\n",
        "def apply_labels(raster_data, pixel_dict):\n",
        "    \"\"\"\n",
        "    This function applies labels to raster data using a dictionary of pixel values and labels.\n",
        "    \n",
        "    Parameters:\n",
        "    raster_data (numpy.ndarray): The raster data as a 2D numpy array.\n",
        "    pixel_dict (dict): A dictionary mapping pixel values to their corresponding labels.\n",
        "    \n",
        "    Returns:\n",
        "    numpy.ndarray: A 2D numpy array with the same shape as the input raster_data, \n",
        "                   but with pixel values replaced by their corresponding labels.\n",
        "    \"\"\"\n",
        "    labeled_data = np.full(raster_data.shape, 0, dtype=np.int32)\n",
        "    for pixel_value, label in pixel_dict.items():\n",
        "        labeled_data[raster_data == pixel_value] = pixel_value\n",
        "    return labeled_data\n",
        "\n",
        "# Iterate through the files in the folder\n",
        "for filename in os.listdir(input_folder):\n",
        "    if filename.endswith(\".tif\"):  # Assuming your raster files have a .tif extension\n",
        "        input_file_path = os.path.join(input_folder, filename)\n",
        "        output_file_path = os.path.join(output_folder, f'labeled_{filename}')\n",
        "\n",
        "        # Read the raster data\n",
        "        with rasterio.open(input_file_path) as src:\n",
        "            raster_data = src.read(1)\n",
        "            profile = src.profile\n",
        "\n",
        "        # Apply the labels\n",
        "        labeled_data = apply_labels(raster_data, pixel_dict)\n",
        "\n",
        "        # Save the labeled raster data as a GeoTIFF\n",
        "         # Save the labeled raster data as a GeoTIFF\n",
        "        with rasterio.open(output_file_path, \"w\", **profile) as dst:\n",
        "             dst.write(labeled_data, 1)\n",
        "\n",
        "                 # Update the metadata\n",
        "             dst.update_tags(\n",
        "             photometric='MINISBLACK',\n",
        "             samplesperpixel=1,\n",
        "             extrasamples='UNSPECIFIED'\n",
        "        )\n",
        "\n",
        "        # Save the label information to a text file\n",
        "        label_file_path = output_file_path.replace(\".tif\", \".txt\")\n",
        "        with open(label_file_path, \"w\") as label_file:\n",
        "            unique_pixel_values = np.unique(labeled_data)\n",
        "            for pixel_value in unique_pixel_values:\n",
        "                label = pixel_dict.get(pixel_value, \"unknown\")\n",
        "                label_file.write(f\"{pixel_value}: {label}\\n\")"
      ],
      "metadata": {
        "id": "6Eu-6GnlxzJR"
      },
      "execution_count": 7,
      "outputs": []
    },
    {
      "cell_type": "markdown",
      "source": [
        "The apply_labels function  applies labels to raster data using a dictionary of pixel values and labels. The function takes a 2D numpy array of raster data and a dictionary mapping pixel values to their corresponding labels as input. It returns a 2D numpy array with the same shape as the input raster_data, but with pixel values replaced by their corresponding labels.\n",
        "\n",
        "The script then iterates through the files in the input folder, reads the raster data using the rasterio library, and applies the labels to the raster data using the apply_labels function. The labeled raster data is then saved as a GeoTIFF, and the label information is saved to a text file."
      ],
      "metadata": {
        "id": "47fPKpHEf12g"
      }
    },
    {
      "cell_type": "code",
      "source": [
        "def check_labels(file_path, pixel_dict):\n",
        "    \"\"\"\n",
        "    This function checks the label information in the text file against the expected labels in the pixel_dict.\n",
        "    \n",
        "    Parameters:\n",
        "    file_path (str): The path to the GeoTIFF file with labeled raster data.\n",
        "    pixel_dict (dict): A dictionary mapping pixel values to their corresponding labels.\n",
        "    \"\"\"\n",
        "    label_file_path = file_path.replace(\".tif\", \".txt\")\n",
        "\n",
        "    if not os.path.exists(label_file_path):\n",
        "        print(f\"Label information file not found: {label_file_path}\")\n",
        "        return\n",
        "\n",
        "    # Read the label information from the text file\n",
        "    with open(label_file_path, \"r\") as label_file:\n",
        "        label_info = {}\n",
        "        for line in label_file:\n",
        "            pixel_value, label = line.strip().split(\": \")\n",
        "            label_info[int(pixel_value)] = label\n",
        "\n",
        "    # Read the raster data with rasterio\n",
        "    with rasterio.open(file_path) as src:\n",
        "        raster_data = src.read(1)\n",
        "\n",
        "    # Check the labels for each pixel value\n",
        "    for pixel_value, label in pixel_dict.items():\n",
        "        expected_label = label\n",
        "        actual_label = label_info.get(pixel_value)\n",
        "        \n",
        "        if actual_label is not None and actual_label != expected_label and actual_label != 'nan':\n",
        "            print(f\"Incorrect label found for pixel value {pixel_value}:\")\n",
        "            print(\"  Expected label:\", expected_label)\n",
        "            print(\"  Actual label:\", actual_label)\n",
        "            print()\n",
        "\n",
        "# Iterate through the files in the folder\n",
        "for filename in os.listdir(output_folder):\n",
        "    if filename.startswith(\"labeled_\") and filename.endswith(\".tif\"):\n",
        "        output_file_path = os.path.join(output_folder, filename)\n",
        "        print(f\"Checking labels for {output_file_path}:\")\n",
        "        check_labels(output_file_path, pixel_dict)\n",
        "        print()\n",
        "\n"
      ],
      "metadata": {
        "id": "z8gUGsVBx9he",
        "colab": {
          "base_uri": "https://localhost:8080/"
        },
        "outputId": "9141c039-8679-44c5-b897-6f2e74c37fc6"
      },
      "execution_count": 8,
      "outputs": [
        {
          "output_type": "stream",
          "name": "stdout",
          "text": [
            "Checking labels for /content/drive/MyDrive/finalrasterdata/labeled_Desfina_A_rasterized_vector.tif:\n",
            "Incorrect label found for pixel value 0:\n",
            "  Expected label: Dolites\n",
            "  Actual label: Sxistolithoi\n",
            "\n",
            "Incorrect label found for pixel value 1:\n",
            "  Expected label: Kollouvia Flisxi\n",
            "  Actual label: Koites Potamon\n",
            "\n",
            "Incorrect label found for pixel value 2:\n",
            "  Expected label: Konoi Apotheseon\n",
            "  Actual label: Kollouvia Flisxi\n",
            "\n",
            "\n",
            "Checking labels for /content/drive/MyDrive/finalrasterdata/labeled_Agios_Georgios_rasterized_vector.tif:\n",
            "\n",
            "Checking labels for /content/drive/MyDrive/finalrasterdata/labeled_Amfilochia_rasterized_vector.tif:\n",
            "\n",
            "Checking labels for /content/drive/MyDrive/finalrasterdata/labeled_Anafi_rasterized_vector.tif:\n",
            "\n",
            "Checking labels for /content/drive/MyDrive/finalrasterdata/labeled_Crete_B_rasterized_vector.tif:\n",
            "\n",
            "Checking labels for /content/drive/MyDrive/finalrasterdata/labeled_Crete_A_rasterized_vector.tif:\n",
            "\n",
            "Checking labels for /content/drive/MyDrive/finalrasterdata/labeled_Desfina_B_rasterized_vector.tif:\n",
            "\n",
            "Checking labels for /content/drive/MyDrive/finalrasterdata/labeled_Ermoupoli_rasterized_vector.tif:\n",
            "\n",
            "Checking labels for /content/drive/MyDrive/finalrasterdata/labeled_Exarchos_rasterized_vector.tif:\n",
            "\n",
            "Checking labels for /content/drive/MyDrive/finalrasterdata/labeled_Grevena_rasterized_vector.tif:\n",
            "\n",
            "Checking labels for /content/drive/MyDrive/finalrasterdata/labeled_Kastro_rasterized_vector.tif:\n",
            "\n",
            "Checking labels for /content/drive/MyDrive/finalrasterdata/labeled_Kimmeria_rasterized_vector.tif:\n",
            "\n",
            "Checking labels for /content/drive/MyDrive/finalrasterdata/labeled_Kirko_Bunaras_rasterized_vector.tif:\n",
            "\n",
            "Checking labels for /content/drive/MyDrive/finalrasterdata/labeled_Kithnos_A_rasterized_vector.tif:\n",
            "\n",
            "Checking labels for /content/drive/MyDrive/finalrasterdata/labeled_Kithnos_B_rasterized_vector.tif:\n",
            "\n",
            "Checking labels for /content/drive/MyDrive/finalrasterdata/labeled_Kyprios_rasterized_vector.tif:\n",
            "\n",
            "Checking labels for /content/drive/MyDrive/finalrasterdata/labeled_Lighurio_rasterized_vector.tif:\n",
            "\n",
            "Checking labels for /content/drive/MyDrive/finalrasterdata/labeled_LIMENARIA_rasterized_vector.tif:\n",
            "\n",
            "Checking labels for /content/drive/MyDrive/finalrasterdata/labeled_Megara_rasterized_vector.tif:\n",
            "\n",
            "Checking labels for /content/drive/MyDrive/finalrasterdata/labeled_Metsitia_Arta_rasterized_vector.tif:\n",
            "\n",
            "Checking labels for /content/drive/MyDrive/finalrasterdata/labeled_Mesorrahi_rasterized_vector.tif:\n",
            "\n",
            "Checking labels for /content/drive/MyDrive/finalrasterdata/labeled_Monopigado_rasterized_vector.tif:\n",
            "\n",
            "Checking labels for /content/drive/MyDrive/finalrasterdata/labeled_Neraidoxori_rasterized_vector.tif:\n",
            "\n",
            "Checking labels for /content/drive/MyDrive/finalrasterdata/labeled_Petroto_rasterized_vector.tif:\n",
            "\n",
            "Checking labels for /content/drive/MyDrive/finalrasterdata/labeled_Skandalo_rasterized_vector.tif:\n",
            "\n",
            "Checking labels for /content/drive/MyDrive/finalrasterdata/labeled_Tirnavos_rasterized_vector.tif:\n",
            "\n",
            "Checking labels for /content/drive/MyDrive/finalrasterdata/labeled_Voras_rasterized_vector.tif:\n",
            "\n",
            "Checking labels for /content/drive/MyDrive/finalrasterdata/labeled_XIOS_rasterized_vector.tif:\n",
            "\n",
            "Checking labels for /content/drive/MyDrive/finalrasterdata/labeled_naxos_corected_rasterized_vector.tif:\n",
            "\n",
            "Checking labels for /content/drive/MyDrive/finalrasterdata/labeled_Velia_rasterized_vector.tif:\n",
            "\n",
            "Checking labels for /content/drive/MyDrive/finalrasterdata/labeled_Desfina_rasterized_vector.tif:\n",
            "\n"
          ]
        }
      ]
    },
    {
      "cell_type": "markdown",
      "source": [
        "The check_labels function  checks the label information in the text file against the expected labels in the pixel_dict. The function takes the path to the GeoTIFF file with labeled raster data and a dictionary mapping pixel values to their corresponding labels as input.\n",
        "\n",
        "The function reads the label information from the text file and the raster data with rasterio. It then checks the labels for each pixel value in the pixel_dict, printing the expected label and whether the label information file contains the correct label.\n",
        "\n",
        "The script then iterates through the files in the output folder and calls the check_labels function for each labeled GeoTIFF file to verify that the labels were applied correctly."
      ],
      "metadata": {
        "id": "PiU570hUhMr5"
      }
    },
    {
      "cell_type": "code",
      "source": [
        "def check_labels(file_path, pixel_dict):\n",
        "    \"\"\"\n",
        "    This function checks the label information in the text file against the expected labels in the pixel_dict.\n",
        "    \n",
        "    Parameters:\n",
        "    file_path (str): The path to the GeoTIFF file with labeled raster data.\n",
        "    pixel_dict (dict): A dictionary mapping pixel values to their corresponding labels.\n",
        "    \"\"\"\n",
        "    label_file_path = file_path.replace(\".tif\", \".txt\")\n",
        "\n",
        "    if not os.path.exists(label_file_path):\n",
        "        print(f\"Label information file not found: {label_file_path}\")\n",
        "        return\n",
        "\n",
        "    # Read the label information from the text file\n",
        "    with open(label_file_path, \"r\") as label_file:\n",
        "        label_info = {}\n",
        "        for line in label_file:\n",
        "            pixel_value, label = line.strip().split(\": \")\n",
        "            label_info[int(pixel_value)] = label\n",
        "\n",
        "    # Read the raster data with rasterio\n",
        "    with rasterio.open(file_path) as src:\n",
        "        raster_data = src.read(1)\n",
        "\n",
        "    # Check the labels for each pixel value\n",
        "    for pixel_value, label in pixel_dict.items():\n",
        "        expected_label = label\n",
        "        actual_label = label_info.get(pixel_value)\n",
        "        \n",
        "        if actual_label is not None and actual_label != expected_label and actual_label != 'nan':\n",
        "            print(f\"Incorrect label found for pixel value {pixel_value}:\")\n",
        "            print(\"  Expected label:\", expected_label)\n",
        "            print(\"  Actual label:\", actual_label)\n",
        "            print()\n",
        "\n",
        "# Iterate through the files in the folder\n",
        "for filename in os.listdir(output_folder):\n",
        "    if filename.startswith(\"labeled_\") and filename.endswith(\".tif\"):\n",
        "        output_file_path = os.path.join(output_folder, filename)\n",
        "        print(f\"Checking labels for {output_file_path}:\")\n",
        "        check_labels(output_file_path, pixel_dict)\n",
        "        print()\n"
      ],
      "metadata": {
        "colab": {
          "base_uri": "https://localhost:8080/"
        },
        "id": "Ll8wcYrgB2pq",
        "outputId": "74c82e26-498a-4f2f-c7a4-f875d8bc3c59"
      },
      "execution_count": 9,
      "outputs": [
        {
          "output_type": "stream",
          "name": "stdout",
          "text": [
            "Checking labels for /content/drive/MyDrive/finalrasterdata/labeled_Desfina_A_rasterized_vector.tif:\n",
            "Incorrect label found for pixel value 0:\n",
            "  Expected label: Dolites\n",
            "  Actual label: Sxistolithoi\n",
            "\n",
            "Incorrect label found for pixel value 1:\n",
            "  Expected label: Kollouvia Flisxi\n",
            "  Actual label: Koites Potamon\n",
            "\n",
            "Incorrect label found for pixel value 2:\n",
            "  Expected label: Konoi Apotheseon\n",
            "  Actual label: Kollouvia Flisxi\n",
            "\n",
            "\n",
            "Checking labels for /content/drive/MyDrive/finalrasterdata/labeled_Agios_Georgios_rasterized_vector.tif:\n",
            "\n",
            "Checking labels for /content/drive/MyDrive/finalrasterdata/labeled_Amfilochia_rasterized_vector.tif:\n",
            "\n",
            "Checking labels for /content/drive/MyDrive/finalrasterdata/labeled_Anafi_rasterized_vector.tif:\n",
            "\n",
            "Checking labels for /content/drive/MyDrive/finalrasterdata/labeled_Crete_B_rasterized_vector.tif:\n",
            "\n",
            "Checking labels for /content/drive/MyDrive/finalrasterdata/labeled_Crete_A_rasterized_vector.tif:\n",
            "\n",
            "Checking labels for /content/drive/MyDrive/finalrasterdata/labeled_Desfina_B_rasterized_vector.tif:\n",
            "\n",
            "Checking labels for /content/drive/MyDrive/finalrasterdata/labeled_Ermoupoli_rasterized_vector.tif:\n",
            "\n",
            "Checking labels for /content/drive/MyDrive/finalrasterdata/labeled_Exarchos_rasterized_vector.tif:\n",
            "\n",
            "Checking labels for /content/drive/MyDrive/finalrasterdata/labeled_Grevena_rasterized_vector.tif:\n",
            "\n",
            "Checking labels for /content/drive/MyDrive/finalrasterdata/labeled_Kastro_rasterized_vector.tif:\n",
            "\n",
            "Checking labels for /content/drive/MyDrive/finalrasterdata/labeled_Kimmeria_rasterized_vector.tif:\n",
            "\n",
            "Checking labels for /content/drive/MyDrive/finalrasterdata/labeled_Kirko_Bunaras_rasterized_vector.tif:\n",
            "\n",
            "Checking labels for /content/drive/MyDrive/finalrasterdata/labeled_Kithnos_A_rasterized_vector.tif:\n",
            "\n",
            "Checking labels for /content/drive/MyDrive/finalrasterdata/labeled_Kithnos_B_rasterized_vector.tif:\n",
            "\n",
            "Checking labels for /content/drive/MyDrive/finalrasterdata/labeled_Kyprios_rasterized_vector.tif:\n",
            "\n",
            "Checking labels for /content/drive/MyDrive/finalrasterdata/labeled_Lighurio_rasterized_vector.tif:\n",
            "\n",
            "Checking labels for /content/drive/MyDrive/finalrasterdata/labeled_LIMENARIA_rasterized_vector.tif:\n",
            "\n",
            "Checking labels for /content/drive/MyDrive/finalrasterdata/labeled_Megara_rasterized_vector.tif:\n",
            "\n",
            "Checking labels for /content/drive/MyDrive/finalrasterdata/labeled_Metsitia_Arta_rasterized_vector.tif:\n",
            "\n",
            "Checking labels for /content/drive/MyDrive/finalrasterdata/labeled_Mesorrahi_rasterized_vector.tif:\n",
            "\n",
            "Checking labels for /content/drive/MyDrive/finalrasterdata/labeled_Monopigado_rasterized_vector.tif:\n",
            "\n",
            "Checking labels for /content/drive/MyDrive/finalrasterdata/labeled_Neraidoxori_rasterized_vector.tif:\n",
            "\n",
            "Checking labels for /content/drive/MyDrive/finalrasterdata/labeled_Petroto_rasterized_vector.tif:\n",
            "\n",
            "Checking labels for /content/drive/MyDrive/finalrasterdata/labeled_Skandalo_rasterized_vector.tif:\n",
            "\n",
            "Checking labels for /content/drive/MyDrive/finalrasterdata/labeled_Tirnavos_rasterized_vector.tif:\n",
            "\n",
            "Checking labels for /content/drive/MyDrive/finalrasterdata/labeled_Voras_rasterized_vector.tif:\n",
            "\n",
            "Checking labels for /content/drive/MyDrive/finalrasterdata/labeled_XIOS_rasterized_vector.tif:\n",
            "\n",
            "Checking labels for /content/drive/MyDrive/finalrasterdata/labeled_naxos_corected_rasterized_vector.tif:\n",
            "\n",
            "Checking labels for /content/drive/MyDrive/finalrasterdata/labeled_Velia_rasterized_vector.tif:\n",
            "\n",
            "Checking labels for /content/drive/MyDrive/finalrasterdata/labeled_Desfina_rasterized_vector.tif:\n",
            "\n"
          ]
        }
      ]
    },
    {
      "cell_type": "code",
      "source": [
        "def check_images_and_masks(images_dir, masks_dir):\n",
        "    for filename in os.listdir(images_dir):\n",
        "        if filename.endswith('.tif'):\n",
        "            mask_filename = filename.replace('.tif', '_rasterized_vector.tif')\n",
        "            mask_filepath = os.path.join(masks_dir, mask_filename)\n",
        "            \n",
        "            if os.path.isfile(mask_filepath):\n",
        "                with rasterio.open(os.path.join(images_dir, filename)) as img, rasterio.open(mask_filepath) as mask:\n",
        "                    img_arr = img.read()\n",
        "                    mask_arr = mask.read()\n",
        "                    \n",
        "                    # Check dimensions (ignoring number of channels)\n",
        "                    if img_arr.shape[1:] != mask_arr.shape[1:]:\n",
        "                        print(f'Mismatched dimensions for {filename} and {mask_filename}: {img_arr.shape[1:]} vs {mask_arr.shape[1:]}')\n",
        "                    else:\n",
        "                        print(f'Matching dimensions for {filename} and {mask_filename}: {img_arr.shape[1:]}')\n",
        "                    \n",
        "                    # Check orientation\n",
        "                    if img.transform != mask.transform:\n",
        "                        print(f'Mismatched orientation for {filename} and {mask_filename}')\n",
        "                    else:\n",
        "                        print(f'Matching orientation for {filename} and {mask_filename}\\n')\n",
        "            else:\n",
        "                print(f'No matching mask found for image {filename}\\n')\n",
        "\n",
        "\n",
        "# Call the function with your directories\n",
        "image_dir = \"/content/drive/MyDrive/LithDatasTIF\"\n",
        "mask_dir = \"/content/drive/MyDrive/raster_to_be_used\"\n",
        "check_images_and_masks(image_dir, mask_dir)\n"
      ],
      "metadata": {
        "colab": {
          "base_uri": "https://localhost:8080/"
        },
        "id": "airYBKGssjer",
        "outputId": "411700fb-0b12-4250-9042-9f71b76b9dd4"
      },
      "execution_count": 16,
      "outputs": [
        {
          "output_type": "stream",
          "name": "stderr",
          "text": [
            "WARNING:rasterio._env:CPLE_AppDefined in /content/drive/MyDrive/LithDatasTIF/Agios_Georgios.tif: TIFFReadDirectory:Sum of Photometric type-related color channels and ExtraSamples doesn't match SamplesPerPixel. Defining non-color channels as ExtraSamples.\n",
            "WARNING:rasterio._env:CPLE_AppDefined in TIFFReadDirectory:Sum of Photometric type-related color channels and ExtraSamples doesn't match SamplesPerPixel. Defining non-color channels as ExtraSamples.\n",
            "WARNING:rasterio._env:CPLE_AppDefined in /content/drive/MyDrive/LithDatasTIF/Amfilochia.tif: TIFFReadDirectory:Sum of Photometric type-related color channels and ExtraSamples doesn't match SamplesPerPixel. Defining non-color channels as ExtraSamples.\n"
          ]
        },
        {
          "output_type": "stream",
          "name": "stdout",
          "text": [
            "Matching dimensions for Agios_Georgios.tif and Agios_Georgios_rasterized_vector.tif: (1180, 1055)\n",
            "Matching orientation for Agios_Georgios.tif and Agios_Georgios_rasterized_vector.tif\n",
            "\n"
          ]
        },
        {
          "output_type": "stream",
          "name": "stderr",
          "text": [
            "WARNING:rasterio._env:CPLE_AppDefined in TIFFReadDirectory:Sum of Photometric type-related color channels and ExtraSamples doesn't match SamplesPerPixel. Defining non-color channels as ExtraSamples.\n",
            "WARNING:rasterio._env:CPLE_AppDefined in /content/drive/MyDrive/LithDatasTIF/Anafi.tif: TIFFReadDirectory:Sum of Photometric type-related color channels and ExtraSamples doesn't match SamplesPerPixel. Defining non-color channels as ExtraSamples.\n"
          ]
        },
        {
          "output_type": "stream",
          "name": "stdout",
          "text": [
            "Matching dimensions for Amfilochia.tif and Amfilochia_rasterized_vector.tif: (1290, 533)\n",
            "Matching orientation for Amfilochia.tif and Amfilochia_rasterized_vector.tif\n",
            "\n"
          ]
        },
        {
          "output_type": "stream",
          "name": "stderr",
          "text": [
            "WARNING:rasterio._env:CPLE_AppDefined in TIFFReadDirectory:Sum of Photometric type-related color channels and ExtraSamples doesn't match SamplesPerPixel. Defining non-color channels as ExtraSamples.\n",
            "WARNING:rasterio._env:CPLE_AppDefined in /content/drive/MyDrive/LithDatasTIF/Crete_A.tif: TIFFReadDirectory:Sum of Photometric type-related color channels and ExtraSamples doesn't match SamplesPerPixel. Defining non-color channels as ExtraSamples.\n"
          ]
        },
        {
          "output_type": "stream",
          "name": "stdout",
          "text": [
            "Matching dimensions for Anafi.tif and Anafi_rasterized_vector.tif: (334, 512)\n",
            "Matching orientation for Anafi.tif and Anafi_rasterized_vector.tif\n",
            "\n"
          ]
        },
        {
          "output_type": "stream",
          "name": "stderr",
          "text": [
            "WARNING:rasterio._env:CPLE_AppDefined in TIFFReadDirectory:Sum of Photometric type-related color channels and ExtraSamples doesn't match SamplesPerPixel. Defining non-color channels as ExtraSamples.\n",
            "WARNING:rasterio._env:CPLE_AppDefined in /content/drive/MyDrive/LithDatasTIF/Crete_B.tif: TIFFReadDirectory:Sum of Photometric type-related color channels and ExtraSamples doesn't match SamplesPerPixel. Defining non-color channels as ExtraSamples.\n"
          ]
        },
        {
          "output_type": "stream",
          "name": "stdout",
          "text": [
            "Matching dimensions for Crete_A.tif and Crete_A_rasterized_vector.tif: (948, 1459)\n",
            "Matching orientation for Crete_A.tif and Crete_A_rasterized_vector.tif\n",
            "\n"
          ]
        },
        {
          "output_type": "stream",
          "name": "stderr",
          "text": [
            "WARNING:rasterio._env:CPLE_AppDefined in TIFFReadDirectory:Sum of Photometric type-related color channels and ExtraSamples doesn't match SamplesPerPixel. Defining non-color channels as ExtraSamples.\n",
            "WARNING:rasterio._env:CPLE_AppDefined in /content/drive/MyDrive/LithDatasTIF/Desfina_B.tif: TIFFReadDirectory:Sum of Photometric type-related color channels and ExtraSamples doesn't match SamplesPerPixel. Defining non-color channels as ExtraSamples.\n",
            "WARNING:rasterio._env:CPLE_AppDefined in TIFFReadDirectory:Sum of Photometric type-related color channels and ExtraSamples doesn't match SamplesPerPixel. Defining non-color channels as ExtraSamples.\n"
          ]
        },
        {
          "output_type": "stream",
          "name": "stdout",
          "text": [
            "Matching dimensions for Crete_B.tif and Crete_B_rasterized_vector.tif: (488, 749)\n",
            "Matching orientation for Crete_B.tif and Crete_B_rasterized_vector.tif\n",
            "\n",
            "Matching dimensions for Desfina_B.tif and Desfina_B_rasterized_vector.tif: (590, 341)\n",
            "Matching orientation for Desfina_B.tif and Desfina_B_rasterized_vector.tif\n",
            "\n"
          ]
        },
        {
          "output_type": "stream",
          "name": "stderr",
          "text": [
            "WARNING:rasterio._env:CPLE_AppDefined in /content/drive/MyDrive/LithDatasTIF/Ermoupoli.tif: TIFFReadDirectory:Sum of Photometric type-related color channels and ExtraSamples doesn't match SamplesPerPixel. Defining non-color channels as ExtraSamples.\n",
            "WARNING:rasterio._env:CPLE_AppDefined in TIFFReadDirectory:Sum of Photometric type-related color channels and ExtraSamples doesn't match SamplesPerPixel. Defining non-color channels as ExtraSamples.\n",
            "WARNING:rasterio._env:CPLE_AppDefined in /content/drive/MyDrive/LithDatasTIF/Exarchos.tif: TIFFReadDirectory:Sum of Photometric type-related color channels and ExtraSamples doesn't match SamplesPerPixel. Defining non-color channels as ExtraSamples.\n",
            "WARNING:rasterio._env:CPLE_AppDefined in TIFFReadDirectory:Sum of Photometric type-related color channels and ExtraSamples doesn't match SamplesPerPixel. Defining non-color channels as ExtraSamples.\n"
          ]
        },
        {
          "output_type": "stream",
          "name": "stdout",
          "text": [
            "Matching dimensions for Ermoupoli.tif and Ermoupoli_rasterized_vector.tif: (211, 371)\n",
            "Matching orientation for Ermoupoli.tif and Ermoupoli_rasterized_vector.tif\n",
            "\n"
          ]
        },
        {
          "output_type": "stream",
          "name": "stderr",
          "text": [
            "WARNING:rasterio._env:CPLE_AppDefined in /content/drive/MyDrive/LithDatasTIF/Grevena.tif: TIFFReadDirectory:Sum of Photometric type-related color channels and ExtraSamples doesn't match SamplesPerPixel. Defining non-color channels as ExtraSamples.\n",
            "WARNING:rasterio._env:CPLE_AppDefined in TIFFReadDirectory:Sum of Photometric type-related color channels and ExtraSamples doesn't match SamplesPerPixel. Defining non-color channels as ExtraSamples.\n"
          ]
        },
        {
          "output_type": "stream",
          "name": "stdout",
          "text": [
            "Matching dimensions for Exarchos.tif and Exarchos_rasterized_vector.tif: (1334, 1264)\n",
            "Matching orientation for Exarchos.tif and Exarchos_rasterized_vector.tif\n",
            "\n",
            "Matching dimensions for Grevena.tif and Grevena_rasterized_vector.tif: (783, 972)\n",
            "Matching orientation for Grevena.tif and Grevena_rasterized_vector.tif\n",
            "\n"
          ]
        },
        {
          "output_type": "stream",
          "name": "stderr",
          "text": [
            "WARNING:rasterio._env:CPLE_AppDefined in /content/drive/MyDrive/LithDatasTIF/Kastro.tif: TIFFReadDirectory:Sum of Photometric type-related color channels and ExtraSamples doesn't match SamplesPerPixel. Defining non-color channels as ExtraSamples.\n",
            "WARNING:rasterio._env:CPLE_AppDefined in TIFFReadDirectory:Sum of Photometric type-related color channels and ExtraSamples doesn't match SamplesPerPixel. Defining non-color channels as ExtraSamples.\n",
            "WARNING:rasterio._env:CPLE_AppDefined in /content/drive/MyDrive/LithDatasTIF/Kimmeria.tif: TIFFReadDirectory:Sum of Photometric type-related color channels and ExtraSamples doesn't match SamplesPerPixel. Defining non-color channels as ExtraSamples.\n",
            "WARNING:rasterio._env:CPLE_AppDefined in TIFFReadDirectory:Sum of Photometric type-related color channels and ExtraSamples doesn't match SamplesPerPixel. Defining non-color channels as ExtraSamples.\n"
          ]
        },
        {
          "output_type": "stream",
          "name": "stdout",
          "text": [
            "Matching dimensions for Kastro.tif and Kastro_rasterized_vector.tif: (668, 568)\n",
            "Matching orientation for Kastro.tif and Kastro_rasterized_vector.tif\n",
            "\n"
          ]
        },
        {
          "output_type": "stream",
          "name": "stderr",
          "text": [
            "WARNING:rasterio._env:CPLE_AppDefined in /content/drive/MyDrive/LithDatasTIF/Kirko_Bunaras.tif: TIFFReadDirectory:Sum of Photometric type-related color channels and ExtraSamples doesn't match SamplesPerPixel. Defining non-color channels as ExtraSamples.\n",
            "WARNING:rasterio._env:CPLE_AppDefined in TIFFReadDirectory:Sum of Photometric type-related color channels and ExtraSamples doesn't match SamplesPerPixel. Defining non-color channels as ExtraSamples.\n"
          ]
        },
        {
          "output_type": "stream",
          "name": "stdout",
          "text": [
            "Matching dimensions for Kimmeria.tif and Kimmeria_rasterized_vector.tif: (1267, 1940)\n",
            "Matching orientation for Kimmeria.tif and Kimmeria_rasterized_vector.tif\n",
            "\n",
            "Matching dimensions for Kirko_Bunaras.tif and Kirko_Bunaras_rasterized_vector.tif: (592, 907)\n",
            "Matching orientation for Kirko_Bunaras.tif and Kirko_Bunaras_rasterized_vector.tif\n",
            "\n"
          ]
        },
        {
          "output_type": "stream",
          "name": "stderr",
          "text": [
            "WARNING:rasterio._env:CPLE_AppDefined in /content/drive/MyDrive/LithDatasTIF/Kithnos_A.tif: TIFFReadDirectory:Sum of Photometric type-related color channels and ExtraSamples doesn't match SamplesPerPixel. Defining non-color channels as ExtraSamples.\n",
            "WARNING:rasterio._env:CPLE_AppDefined in TIFFReadDirectory:Sum of Photometric type-related color channels and ExtraSamples doesn't match SamplesPerPixel. Defining non-color channels as ExtraSamples.\n",
            "WARNING:rasterio._env:CPLE_AppDefined in /content/drive/MyDrive/LithDatasTIF/Kithnos_B.tif: TIFFReadDirectory:Sum of Photometric type-related color channels and ExtraSamples doesn't match SamplesPerPixel. Defining non-color channels as ExtraSamples.\n",
            "WARNING:rasterio._env:CPLE_AppDefined in TIFFReadDirectory:Sum of Photometric type-related color channels and ExtraSamples doesn't match SamplesPerPixel. Defining non-color channels as ExtraSamples.\n"
          ]
        },
        {
          "output_type": "stream",
          "name": "stdout",
          "text": [
            "Matching dimensions for Kithnos_A.tif and Kithnos_A_rasterized_vector.tif: (344, 365)\n",
            "Matching orientation for Kithnos_A.tif and Kithnos_A_rasterized_vector.tif\n",
            "\n",
            "Matching dimensions for Kithnos_B.tif and Kithnos_B_rasterized_vector.tif: (784, 359)\n",
            "Matching orientation for Kithnos_B.tif and Kithnos_B_rasterized_vector.tif\n",
            "\n"
          ]
        },
        {
          "output_type": "stream",
          "name": "stderr",
          "text": [
            "WARNING:rasterio._env:CPLE_AppDefined in /content/drive/MyDrive/LithDatasTIF/Kyprios.tif: TIFFReadDirectory:Sum of Photometric type-related color channels and ExtraSamples doesn't match SamplesPerPixel. Defining non-color channels as ExtraSamples.\n",
            "WARNING:rasterio._env:CPLE_AppDefined in TIFFReadDirectory:Sum of Photometric type-related color channels and ExtraSamples doesn't match SamplesPerPixel. Defining non-color channels as ExtraSamples.\n",
            "WARNING:rasterio._env:CPLE_AppDefined in /content/drive/MyDrive/LithDatasTIF/Lighurio.tif: TIFFReadDirectory:Sum of Photometric type-related color channels and ExtraSamples doesn't match SamplesPerPixel. Defining non-color channels as ExtraSamples.\n",
            "WARNING:rasterio._env:CPLE_AppDefined in TIFFReadDirectory:Sum of Photometric type-related color channels and ExtraSamples doesn't match SamplesPerPixel. Defining non-color channels as ExtraSamples.\n"
          ]
        },
        {
          "output_type": "stream",
          "name": "stdout",
          "text": [
            "Matching dimensions for Kyprios.tif and Kyprios_rasterized_vector.tif: (867, 1326)\n",
            "Matching orientation for Kyprios.tif and Kyprios_rasterized_vector.tif\n",
            "\n"
          ]
        },
        {
          "output_type": "stream",
          "name": "stderr",
          "text": [
            "WARNING:rasterio._env:CPLE_AppDefined in /content/drive/MyDrive/LithDatasTIF/LIMENARIA.tif: TIFFReadDirectory:Sum of Photometric type-related color channels and ExtraSamples doesn't match SamplesPerPixel. Defining non-color channels as ExtraSamples.\n",
            "WARNING:rasterio._env:CPLE_AppDefined in TIFFReadDirectory:Sum of Photometric type-related color channels and ExtraSamples doesn't match SamplesPerPixel. Defining non-color channels as ExtraSamples.\n"
          ]
        },
        {
          "output_type": "stream",
          "name": "stdout",
          "text": [
            "Matching dimensions for Lighurio.tif and Lighurio_rasterized_vector.tif: (863, 1326)\n",
            "Matching orientation for Lighurio.tif and Lighurio_rasterized_vector.tif\n",
            "\n",
            "Matching dimensions for LIMENARIA.tif and LIMENARIA_rasterized_vector.tif: (445, 412)\n",
            "Matching orientation for LIMENARIA.tif and LIMENARIA_rasterized_vector.tif\n",
            "\n"
          ]
        },
        {
          "output_type": "stream",
          "name": "stderr",
          "text": [
            "WARNING:rasterio._env:CPLE_AppDefined in /content/drive/MyDrive/LithDatasTIF/Megara.tif: TIFFReadDirectory:Sum of Photometric type-related color channels and ExtraSamples doesn't match SamplesPerPixel. Defining non-color channels as ExtraSamples.\n",
            "WARNING:rasterio._env:CPLE_AppDefined in TIFFReadDirectory:Sum of Photometric type-related color channels and ExtraSamples doesn't match SamplesPerPixel. Defining non-color channels as ExtraSamples.\n",
            "WARNING:rasterio._env:CPLE_AppDefined in /content/drive/MyDrive/LithDatasTIF/Mesorrahi.tif: TIFFReadDirectory:Sum of Photometric type-related color channels and ExtraSamples doesn't match SamplesPerPixel. Defining non-color channels as ExtraSamples.\n",
            "WARNING:rasterio._env:CPLE_AppDefined in TIFFReadDirectory:Sum of Photometric type-related color channels and ExtraSamples doesn't match SamplesPerPixel. Defining non-color channels as ExtraSamples.\n"
          ]
        },
        {
          "output_type": "stream",
          "name": "stdout",
          "text": [
            "Matching dimensions for Megara.tif and Megara_rasterized_vector.tif: (227, 726)\n",
            "Matching orientation for Megara.tif and Megara_rasterized_vector.tif\n",
            "\n",
            "Matching dimensions for Mesorrahi.tif and Mesorrahi_rasterized_vector.tif: (591, 907)\n",
            "Matching orientation for Mesorrahi.tif and Mesorrahi_rasterized_vector.tif\n",
            "\n"
          ]
        },
        {
          "output_type": "stream",
          "name": "stderr",
          "text": [
            "WARNING:rasterio._env:CPLE_AppDefined in /content/drive/MyDrive/LithDatasTIF/Metsitia_Arta.tif: TIFFReadDirectory:Sum of Photometric type-related color channels and ExtraSamples doesn't match SamplesPerPixel. Defining non-color channels as ExtraSamples.\n",
            "WARNING:rasterio._env:CPLE_AppDefined in TIFFReadDirectory:Sum of Photometric type-related color channels and ExtraSamples doesn't match SamplesPerPixel. Defining non-color channels as ExtraSamples.\n",
            "WARNING:rasterio._env:CPLE_AppDefined in /content/drive/MyDrive/LithDatasTIF/Monopigado.tif: TIFFReadDirectory:Sum of Photometric type-related color channels and ExtraSamples doesn't match SamplesPerPixel. Defining non-color channels as ExtraSamples.\n",
            "WARNING:rasterio._env:CPLE_AppDefined in TIFFReadDirectory:Sum of Photometric type-related color channels and ExtraSamples doesn't match SamplesPerPixel. Defining non-color channels as ExtraSamples.\n"
          ]
        },
        {
          "output_type": "stream",
          "name": "stdout",
          "text": [
            "Matching dimensions for Metsitia_Arta.tif and Metsitia_Arta_rasterized_vector.tif: (1482, 554)\n",
            "Matching orientation for Metsitia_Arta.tif and Metsitia_Arta_rasterized_vector.tif\n",
            "\n"
          ]
        },
        {
          "output_type": "stream",
          "name": "stderr",
          "text": [
            "WARNING:rasterio._env:CPLE_AppDefined in /content/drive/MyDrive/LithDatasTIF/Neraidoxori.tif: TIFFReadDirectory:Sum of Photometric type-related color channels and ExtraSamples doesn't match SamplesPerPixel. Defining non-color channels as ExtraSamples.\n",
            "WARNING:rasterio._env:CPLE_AppDefined in TIFFReadDirectory:Sum of Photometric type-related color channels and ExtraSamples doesn't match SamplesPerPixel. Defining non-color channels as ExtraSamples.\n"
          ]
        },
        {
          "output_type": "stream",
          "name": "stdout",
          "text": [
            "Matching dimensions for Monopigado.tif and Monopigado_rasterized_vector.tif: (650, 997)\n",
            "Matching orientation for Monopigado.tif and Monopigado_rasterized_vector.tif\n",
            "\n"
          ]
        },
        {
          "output_type": "stream",
          "name": "stderr",
          "text": [
            "WARNING:rasterio._env:CPLE_AppDefined in /content/drive/MyDrive/LithDatasTIF/Petroto.tif: TIFFReadDirectory:Sum of Photometric type-related color channels and ExtraSamples doesn't match SamplesPerPixel. Defining non-color channels as ExtraSamples.\n",
            "WARNING:rasterio._env:CPLE_AppDefined in TIFFReadDirectory:Sum of Photometric type-related color channels and ExtraSamples doesn't match SamplesPerPixel. Defining non-color channels as ExtraSamples.\n"
          ]
        },
        {
          "output_type": "stream",
          "name": "stdout",
          "text": [
            "Matching dimensions for Neraidoxori.tif and Neraidoxori_rasterized_vector.tif: (1150, 1765)\n",
            "Matching orientation for Neraidoxori.tif and Neraidoxori_rasterized_vector.tif\n",
            "\n"
          ]
        },
        {
          "output_type": "stream",
          "name": "stderr",
          "text": [
            "WARNING:rasterio._env:CPLE_AppDefined in /content/drive/MyDrive/LithDatasTIF/Skandalo.tif: TIFFReadDirectory:Sum of Photometric type-related color channels and ExtraSamples doesn't match SamplesPerPixel. Defining non-color channels as ExtraSamples.\n",
            "WARNING:rasterio._env:CPLE_AppDefined in TIFFReadDirectory:Sum of Photometric type-related color channels and ExtraSamples doesn't match SamplesPerPixel. Defining non-color channels as ExtraSamples.\n"
          ]
        },
        {
          "output_type": "stream",
          "name": "stdout",
          "text": [
            "Matching dimensions for Petroto.tif and Petroto_rasterized_vector.tif: (866, 1326)\n",
            "Matching orientation for Petroto.tif and Petroto_rasterized_vector.tif\n",
            "\n",
            "Matching dimensions for Skandalo.tif and Skandalo_rasterized_vector.tif: (522, 187)\n",
            "Matching orientation for Skandalo.tif and Skandalo_rasterized_vector.tif\n",
            "\n"
          ]
        },
        {
          "output_type": "stream",
          "name": "stderr",
          "text": [
            "WARNING:rasterio._env:CPLE_AppDefined in /content/drive/MyDrive/LithDatasTIF/Tirnavos.tif: TIFFReadDirectory:Sum of Photometric type-related color channels and ExtraSamples doesn't match SamplesPerPixel. Defining non-color channels as ExtraSamples.\n",
            "WARNING:rasterio._env:CPLE_AppDefined in TIFFReadDirectory:Sum of Photometric type-related color channels and ExtraSamples doesn't match SamplesPerPixel. Defining non-color channels as ExtraSamples.\n",
            "WARNING:rasterio._env:CPLE_AppDefined in /content/drive/MyDrive/LithDatasTIF/Voras.tif: TIFFReadDirectory:Sum of Photometric type-related color channels and ExtraSamples doesn't match SamplesPerPixel. Defining non-color channels as ExtraSamples.\n",
            "WARNING:rasterio._env:CPLE_AppDefined in TIFFReadDirectory:Sum of Photometric type-related color channels and ExtraSamples doesn't match SamplesPerPixel. Defining non-color channels as ExtraSamples.\n"
          ]
        },
        {
          "output_type": "stream",
          "name": "stdout",
          "text": [
            "Matching dimensions for Tirnavos.tif and Tirnavos_rasterized_vector.tif: (584, 658)\n",
            "Matching orientation for Tirnavos.tif and Tirnavos_rasterized_vector.tif\n",
            "\n"
          ]
        },
        {
          "output_type": "stream",
          "name": "stderr",
          "text": [
            "WARNING:rasterio._env:CPLE_AppDefined in /content/drive/MyDrive/LithDatasTIF/XIOS.tif: TIFFReadDirectory:Sum of Photometric type-related color channels and ExtraSamples doesn't match SamplesPerPixel. Defining non-color channels as ExtraSamples.\n",
            "WARNING:rasterio._env:CPLE_AppDefined in TIFFReadDirectory:Sum of Photometric type-related color channels and ExtraSamples doesn't match SamplesPerPixel. Defining non-color channels as ExtraSamples.\n"
          ]
        },
        {
          "output_type": "stream",
          "name": "stdout",
          "text": [
            "Matching dimensions for Voras.tif and Voras_rasterized_vector.tif: (787, 1205)\n",
            "Matching orientation for Voras.tif and Voras_rasterized_vector.tif\n",
            "\n"
          ]
        },
        {
          "output_type": "stream",
          "name": "stderr",
          "text": [
            "WARNING:rasterio._env:CPLE_AppDefined in /content/drive/MyDrive/LithDatasTIF/naxos_corected.tif: TIFFReadDirectory:Sum of Photometric type-related color channels and ExtraSamples doesn't match SamplesPerPixel. Defining non-color channels as ExtraSamples.\n",
            "WARNING:rasterio._env:CPLE_AppDefined in TIFFReadDirectory:Sum of Photometric type-related color channels and ExtraSamples doesn't match SamplesPerPixel. Defining non-color channels as ExtraSamples.\n"
          ]
        },
        {
          "output_type": "stream",
          "name": "stdout",
          "text": [
            "Matching dimensions for XIOS.tif and XIOS_rasterized_vector.tif: (1556, 780)\n",
            "Matching orientation for XIOS.tif and XIOS_rasterized_vector.tif\n",
            "\n"
          ]
        },
        {
          "output_type": "stream",
          "name": "stderr",
          "text": [
            "WARNING:rasterio._env:CPLE_AppDefined in /content/drive/MyDrive/LithDatasTIF/Velia.tif: TIFFReadDirectory:Sum of Photometric type-related color channels and ExtraSamples doesn't match SamplesPerPixel. Defining non-color channels as ExtraSamples.\n",
            "WARNING:rasterio._env:CPLE_AppDefined in TIFFReadDirectory:Sum of Photometric type-related color channels and ExtraSamples doesn't match SamplesPerPixel. Defining non-color channels as ExtraSamples.\n"
          ]
        },
        {
          "output_type": "stream",
          "name": "stdout",
          "text": [
            "Matching dimensions for naxos_corected.tif and naxos_corected_rasterized_vector.tif: (1482, 704)\n",
            "Matching orientation for naxos_corected.tif and naxos_corected_rasterized_vector.tif\n",
            "\n",
            "Matching dimensions for Velia.tif and Velia_rasterized_vector.tif: (762, 482)\n",
            "Matching orientation for Velia.tif and Velia_rasterized_vector.tif\n",
            "\n"
          ]
        },
        {
          "output_type": "stream",
          "name": "stderr",
          "text": [
            "WARNING:rasterio._env:CPLE_AppDefined in /content/drive/MyDrive/LithDatasTIF/Desfina.tif: TIFFReadDirectory:Sum of Photometric type-related color channels and ExtraSamples doesn't match SamplesPerPixel. Defining non-color channels as ExtraSamples.\n",
            "WARNING:rasterio._env:CPLE_AppDefined in TIFFReadDirectory:Sum of Photometric type-related color channels and ExtraSamples doesn't match SamplesPerPixel. Defining non-color channels as ExtraSamples.\n"
          ]
        },
        {
          "output_type": "stream",
          "name": "stdout",
          "text": [
            "Matching dimensions for Desfina.tif and Desfina_rasterized_vector.tif: (404, 620)\n",
            "Matching orientation for Desfina.tif and Desfina_rasterized_vector.tif\n",
            "\n"
          ]
        }
      ]
    }
  ]
}