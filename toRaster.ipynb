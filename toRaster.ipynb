{
  "nbformat": 4,
  "nbformat_minor": 0,
  "metadata": {
    "colab": {
      "provenance": [],
      "mount_file_id": "1AQsUuhGE74xVFNHM70z1avp2OUvQbimV",
      "authorship_tag": "ABX9TyNAcPXHtedRBAN12cPuV6Pi",
      "include_colab_link": true
    },
    "kernelspec": {
      "name": "python3",
      "display_name": "Python 3"
    },
    "language_info": {
      "name": "python"
    },
    "accelerator": "GPU",
    "gpuClass": "standard"
  },
  "cells": [
    {
      "cell_type": "markdown",
      "metadata": {
        "id": "view-in-github",
        "colab_type": "text"
      },
      "source": [
        "<a href=\"https://colab.research.google.com/github/c-labropoulos/NN-for-lithological-segmentation/blob/main/toRaster.ipynb\" target=\"_parent\"><img src=\"https://colab.research.google.com/assets/colab-badge.svg\" alt=\"Open In Colab\"/></a>"
      ]
    },
    {
      "cell_type": "code",
      "execution_count": 56,
      "metadata": {
        "colab": {
          "base_uri": "https://localhost:8080/"
        },
        "id": "rYRFcNR1czsC",
        "outputId": "0bda601e-91ae-4b55-de36-12ce70e1285c"
      },
      "outputs": [
        {
          "output_type": "stream",
          "name": "stdout",
          "text": [
            "Mounted at /content/drive\n"
          ]
        }
      ],
      "source": [
        "from google.colab import drive\n",
        "drive.mount('/content/drive', force_remount=True)"
      ]
    },
    {
      "cell_type": "code",
      "source": [
        "#!gdalinfo --version\n",
        "!pip install geopandas\n",
        "!pip install rasterio\n",
        "!pip install pyshp\n",
        "from osgeo import gdal\n",
        "from osgeo import ogr\n",
        "import rasterio\n",
        "import geopandas as gpd\n",
        "import shapefile as shp"
      ],
      "metadata": {
        "colab": {
          "base_uri": "https://localhost:8080/"
        },
        "id": "4AKnntvcdxAP",
        "outputId": "89ce77f0-9bf7-45a3-e7b7-918716919337"
      },
      "execution_count": 57,
      "outputs": [
        {
          "output_type": "stream",
          "name": "stdout",
          "text": [
            "Looking in indexes: https://pypi.org/simple, https://us-python.pkg.dev/colab-wheels/public/simple/\n",
            "Requirement already satisfied: geopandas in /usr/local/lib/python3.8/dist-packages (0.12.2)\n",
            "Requirement already satisfied: fiona>=1.8 in /usr/local/lib/python3.8/dist-packages (from geopandas) (1.9.1)\n",
            "Requirement already satisfied: shapely>=1.7 in /usr/local/lib/python3.8/dist-packages (from geopandas) (2.0.1)\n",
            "Requirement already satisfied: pandas>=1.0.0 in /usr/local/lib/python3.8/dist-packages (from geopandas) (1.3.5)\n",
            "Requirement already satisfied: packaging in /usr/local/lib/python3.8/dist-packages (from geopandas) (23.0)\n",
            "Requirement already satisfied: pyproj>=2.6.1.post1 in /usr/local/lib/python3.8/dist-packages (from geopandas) (3.4.1)\n",
            "Requirement already satisfied: setuptools in /usr/local/lib/python3.8/dist-packages (from fiona>=1.8->geopandas) (57.4.0)\n",
            "Requirement already satisfied: munch>=2.3.2 in /usr/local/lib/python3.8/dist-packages (from fiona>=1.8->geopandas) (2.5.0)\n",
            "Requirement already satisfied: click-plugins>=1.0 in /usr/local/lib/python3.8/dist-packages (from fiona>=1.8->geopandas) (1.1.1)\n",
            "Requirement already satisfied: attrs>=19.2.0 in /usr/local/lib/python3.8/dist-packages (from fiona>=1.8->geopandas) (22.2.0)\n",
            "Requirement already satisfied: certifi in /usr/local/lib/python3.8/dist-packages (from fiona>=1.8->geopandas) (2022.12.7)\n",
            "Requirement already satisfied: cligj>=0.5 in /usr/local/lib/python3.8/dist-packages (from fiona>=1.8->geopandas) (0.7.2)\n",
            "Requirement already satisfied: click~=8.0 in /usr/local/lib/python3.8/dist-packages (from fiona>=1.8->geopandas) (8.1.3)\n",
            "Requirement already satisfied: numpy>=1.17.3 in /usr/local/lib/python3.8/dist-packages (from pandas>=1.0.0->geopandas) (1.22.4)\n",
            "Requirement already satisfied: pytz>=2017.3 in /usr/local/lib/python3.8/dist-packages (from pandas>=1.0.0->geopandas) (2022.7.1)\n",
            "Requirement already satisfied: python-dateutil>=2.7.3 in /usr/local/lib/python3.8/dist-packages (from pandas>=1.0.0->geopandas) (2.8.2)\n",
            "Requirement already satisfied: six in /usr/local/lib/python3.8/dist-packages (from munch>=2.3.2->fiona>=1.8->geopandas) (1.15.0)\n",
            "Looking in indexes: https://pypi.org/simple, https://us-python.pkg.dev/colab-wheels/public/simple/\n",
            "Requirement already satisfied: rasterio in /usr/local/lib/python3.8/dist-packages (1.3.6)\n",
            "Requirement already satisfied: numpy>=1.18 in /usr/local/lib/python3.8/dist-packages (from rasterio) (1.22.4)\n",
            "Requirement already satisfied: click-plugins in /usr/local/lib/python3.8/dist-packages (from rasterio) (1.1.1)\n",
            "Requirement already satisfied: cligj>=0.5 in /usr/local/lib/python3.8/dist-packages (from rasterio) (0.7.2)\n",
            "Requirement already satisfied: snuggs>=1.4.1 in /usr/local/lib/python3.8/dist-packages (from rasterio) (1.4.7)\n",
            "Requirement already satisfied: click>=4.0 in /usr/local/lib/python3.8/dist-packages (from rasterio) (8.1.3)\n",
            "Requirement already satisfied: certifi in /usr/local/lib/python3.8/dist-packages (from rasterio) (2022.12.7)\n",
            "Requirement already satisfied: attrs in /usr/local/lib/python3.8/dist-packages (from rasterio) (22.2.0)\n",
            "Requirement already satisfied: affine in /usr/local/lib/python3.8/dist-packages (from rasterio) (2.4.0)\n",
            "Requirement already satisfied: setuptools in /usr/local/lib/python3.8/dist-packages (from rasterio) (57.4.0)\n",
            "Requirement already satisfied: pyparsing>=2.1.6 in /usr/local/lib/python3.8/dist-packages (from snuggs>=1.4.1->rasterio) (3.0.9)\n",
            "Looking in indexes: https://pypi.org/simple, https://us-python.pkg.dev/colab-wheels/public/simple/\n",
            "Requirement already satisfied: pyshp in /usr/local/lib/python3.8/dist-packages (2.3.1)\n"
          ]
        }
      ]
    },
    {
      "cell_type": "code",
      "source": [
        "import os\n",
        "\n",
        "def lists_FOR_rasterize(shppath,tiffpath):\n",
        " rst_list=list()\n",
        " dest_name=list()\n",
        " shpfiles = []\n",
        " for dirpath, subdirs, files in os.walk(shppath):\n",
        "    for x in files:\n",
        "        if x.endswith(\".shp\"):\n",
        "            shpfiles.append(os.path.join(dirpath, x))\n",
        "            shapenames.append(x.split('.shp', 1)[0])\n",
        " for dirpath, subdirs, files in os.walk(tiffpath):\n",
        "    for x in files:\n",
        "        rst_list.append(os.path.join(dirpath, x))\n",
        "        dest_name.append(x.split('.tif', 1)[0])\n",
        "\n",
        " return shpfiles,rst_list,dest_name,shapenames\n",
        "\n",
        "def rasterize(shppath,tiffpath):\n",
        "  shplist,rasterlist,destnamelist,shfilenames=lists_FOR_rasterize(shppath,tiffpath)\n",
        "  nk=set(destnamelist).intersection(shfilenames)\n",
        "  for rasterfile in rasterlist:\n",
        "    raster = rasterio.open(rasterfile)\n",
        "    \n",
        "    for name in destnamelist:\n",
        "        if name  in nk:\n",
        "            pos=shfilenames.index(name)\n",
        "            print(shpfiles[pos])\n",
        "       \n",
        "        vector = gpd.read_file(shplist[pos])\n",
        "        # create a numeric unique value for each row\n",
        "        vector['labels_Lit'] = range(0,len(vector))\n",
        "        # create tuples of geometry, value pairs, where value is the attribute value you want to burn\n",
        "        geom_value = ((geom,value) for geom, value in zip(vector.geometry, vector[\"labels_Lit\"]))\n",
        "        # Rasterize vector using the shape and transform of the raster\n",
        "        rasterized = features.rasterize(geom_value,\n",
        "                                        out_shape = raster.shape,\n",
        "                                        transform = raster.transform,\n",
        "                                        all_touched = True,\n",
        "                                        fill = -1,   # background value\n",
        "                                        merge_alg = MergeAlg.replace,\n",
        "                                        dtype = np.int16)\n",
        "       \n",
        "        with rasterio.open(\n",
        "             \"/content/drive/MyDrive/raster_to_be_used/\"+name+\"_rasterized_vector.tif\", \"w\",\n",
        "             driver = \"GTiff\",\n",
        "             transform = raster.transform,\n",
        "             dtype=rasterized.dtype,\n",
        "         #  dtype = rasterio.uint8,\n",
        "\n",
        "            count = 1,\n",
        "            width = raster.width,\n",
        "            height = raster.height) as dst:\n",
        "          dst.write(rasterized, indexes = 1)\n",
        "shape_dir = \"/content/drive/MyDrive/LithDatasSHP\"\n",
        "raster_dir='/content/drive/MyDrive/LithDatasTIF'\n",
        "rasterize(shape_dir,raster_dir)\n"
      ],
      "metadata": {
        "id": "5vFYB4Lfy8cB",
        "colab": {
          "base_uri": "https://localhost:8080/"
        },
        "outputId": "b27d12e7-7bbd-4a89-d0be-2be27a9d6fc0"
      },
      "execution_count": 58,
      "outputs": [
        {
          "output_type": "stream",
          "name": "stderr",
          "text": [
            "WARNING:rasterio._env:CPLE_AppDefined in /content/drive/MyDrive/LithDatasTIF/Agios_Georgios.tif: TIFFReadDirectory:Sum of Photometric type-related color channels and ExtraSamples doesn't match SamplesPerPixel. Defining non-color channels as ExtraSamples.\n"
          ]
        },
        {
          "output_type": "stream",
          "name": "stdout",
          "text": [
            "/content/drive/MyDrive/LithDatasSHP/Agios_Georgios.shp\n",
            "/content/drive/MyDrive/LithDatasSHP/Amfilochia.shp\n",
            "/content/drive/MyDrive/LithDatasSHP/Anafi.shp\n",
            "/content/drive/MyDrive/LithDatasSHP/Crete_A.shp\n",
            "/content/drive/MyDrive/LithDatasSHP/Crete_B.shp\n",
            "/content/drive/MyDrive/LithDatasSHP/Desfina_.shp\n",
            "/content/drive/MyDrive/LithDatasSHP/Desfina_B.shp\n",
            "/content/drive/MyDrive/LithDatasSHP/Ermoupoli.shp\n",
            "/content/drive/MyDrive/LithDatasSHP/Exarchos.shp\n",
            "/content/drive/MyDrive/LithDatasSHP/Grevena.shp\n",
            "/content/drive/MyDrive/LithDatasSHP/Kastro.shp\n",
            "/content/drive/MyDrive/LithDatasSHP/Kimmeria.shp\n",
            "/content/drive/MyDrive/LithDatasSHP/Kirko_Bunaras.shp\n",
            "/content/drive/MyDrive/LithDatasSHP/Kithnos_A.shp\n",
            "/content/drive/MyDrive/LithDatasSHP/Kithnos_B.shp\n",
            "/content/drive/MyDrive/LithDatasSHP/Kyprios.shp\n",
            "/content/drive/MyDrive/LithDatasSHP/Lighurio.shp\n",
            "/content/drive/MyDrive/LithDatasSHP/LIMENARIA.shp\n",
            "/content/drive/MyDrive/LithDatasSHP/Megara.shp\n",
            "/content/drive/MyDrive/LithDatasSHP/Mesorrahi.shp\n",
            "/content/drive/MyDrive/LithDatasSHP/Metsitia_Arta.shp\n",
            "/content/drive/MyDrive/LithDatasSHP/Monopigado.shp\n",
            "/content/drive/MyDrive/LithDatasSHP/naxos_corected.shp\n",
            "/content/drive/MyDrive/LithDatasSHP/Neraidoxori.shp\n",
            "/content/drive/MyDrive/LithDatasSHP/Petroto.shp\n",
            "/content/drive/MyDrive/LithDatasSHP/Skandalo.shp\n",
            "/content/drive/MyDrive/LithDatasSHP/Tirnavos.shp\n",
            "/content/drive/MyDrive/LithDatasSHP/Velia.shp\n",
            "/content/drive/MyDrive/LithDatasSHP/Voras.shp\n",
            "/content/drive/MyDrive/LithDatasSHP/XIOS.shp\n"
          ]
        },
        {
          "output_type": "stream",
          "name": "stderr",
          "text": [
            "WARNING:rasterio._env:CPLE_AppDefined in /content/drive/MyDrive/LithDatasTIF/Amfilochia.tif: TIFFReadDirectory:Sum of Photometric type-related color channels and ExtraSamples doesn't match SamplesPerPixel. Defining non-color channels as ExtraSamples.\n"
          ]
        },
        {
          "output_type": "stream",
          "name": "stdout",
          "text": [
            "/content/drive/MyDrive/LithDatasSHP/Agios_Georgios.shp\n",
            "/content/drive/MyDrive/LithDatasSHP/Amfilochia.shp\n",
            "/content/drive/MyDrive/LithDatasSHP/Anafi.shp\n",
            "/content/drive/MyDrive/LithDatasSHP/Crete_A.shp\n",
            "/content/drive/MyDrive/LithDatasSHP/Crete_B.shp\n",
            "/content/drive/MyDrive/LithDatasSHP/Desfina_.shp\n",
            "/content/drive/MyDrive/LithDatasSHP/Desfina_B.shp\n",
            "/content/drive/MyDrive/LithDatasSHP/Ermoupoli.shp\n",
            "/content/drive/MyDrive/LithDatasSHP/Exarchos.shp\n",
            "/content/drive/MyDrive/LithDatasSHP/Grevena.shp\n",
            "/content/drive/MyDrive/LithDatasSHP/Kastro.shp\n",
            "/content/drive/MyDrive/LithDatasSHP/Kimmeria.shp\n",
            "/content/drive/MyDrive/LithDatasSHP/Kirko_Bunaras.shp\n",
            "/content/drive/MyDrive/LithDatasSHP/Kithnos_A.shp\n",
            "/content/drive/MyDrive/LithDatasSHP/Kithnos_B.shp\n",
            "/content/drive/MyDrive/LithDatasSHP/Kyprios.shp\n",
            "/content/drive/MyDrive/LithDatasSHP/Lighurio.shp\n",
            "/content/drive/MyDrive/LithDatasSHP/LIMENARIA.shp\n",
            "/content/drive/MyDrive/LithDatasSHP/Megara.shp\n",
            "/content/drive/MyDrive/LithDatasSHP/Mesorrahi.shp\n",
            "/content/drive/MyDrive/LithDatasSHP/Metsitia_Arta.shp\n",
            "/content/drive/MyDrive/LithDatasSHP/Monopigado.shp\n",
            "/content/drive/MyDrive/LithDatasSHP/naxos_corected.shp\n",
            "/content/drive/MyDrive/LithDatasSHP/Neraidoxori.shp\n",
            "/content/drive/MyDrive/LithDatasSHP/Petroto.shp\n",
            "/content/drive/MyDrive/LithDatasSHP/Skandalo.shp\n",
            "/content/drive/MyDrive/LithDatasSHP/Tirnavos.shp\n",
            "/content/drive/MyDrive/LithDatasSHP/Velia.shp\n",
            "/content/drive/MyDrive/LithDatasSHP/Voras.shp\n",
            "/content/drive/MyDrive/LithDatasSHP/XIOS.shp\n"
          ]
        },
        {
          "output_type": "stream",
          "name": "stderr",
          "text": [
            "WARNING:rasterio._env:CPLE_AppDefined in /content/drive/MyDrive/LithDatasTIF/Anafi.tif: TIFFReadDirectory:Sum of Photometric type-related color channels and ExtraSamples doesn't match SamplesPerPixel. Defining non-color channels as ExtraSamples.\n"
          ]
        },
        {
          "output_type": "stream",
          "name": "stdout",
          "text": [
            "/content/drive/MyDrive/LithDatasSHP/Agios_Georgios.shp\n",
            "/content/drive/MyDrive/LithDatasSHP/Amfilochia.shp\n",
            "/content/drive/MyDrive/LithDatasSHP/Anafi.shp\n",
            "/content/drive/MyDrive/LithDatasSHP/Crete_A.shp\n",
            "/content/drive/MyDrive/LithDatasSHP/Crete_B.shp\n",
            "/content/drive/MyDrive/LithDatasSHP/Desfina_.shp\n",
            "/content/drive/MyDrive/LithDatasSHP/Desfina_B.shp\n",
            "/content/drive/MyDrive/LithDatasSHP/Ermoupoli.shp\n",
            "/content/drive/MyDrive/LithDatasSHP/Exarchos.shp\n",
            "/content/drive/MyDrive/LithDatasSHP/Grevena.shp\n",
            "/content/drive/MyDrive/LithDatasSHP/Kastro.shp\n",
            "/content/drive/MyDrive/LithDatasSHP/Kimmeria.shp\n",
            "/content/drive/MyDrive/LithDatasSHP/Kirko_Bunaras.shp\n",
            "/content/drive/MyDrive/LithDatasSHP/Kithnos_A.shp\n",
            "/content/drive/MyDrive/LithDatasSHP/Kithnos_B.shp\n",
            "/content/drive/MyDrive/LithDatasSHP/Kyprios.shp\n",
            "/content/drive/MyDrive/LithDatasSHP/Lighurio.shp\n",
            "/content/drive/MyDrive/LithDatasSHP/LIMENARIA.shp\n",
            "/content/drive/MyDrive/LithDatasSHP/Megara.shp\n",
            "/content/drive/MyDrive/LithDatasSHP/Mesorrahi.shp\n",
            "/content/drive/MyDrive/LithDatasSHP/Metsitia_Arta.shp\n",
            "/content/drive/MyDrive/LithDatasSHP/Monopigado.shp\n",
            "/content/drive/MyDrive/LithDatasSHP/naxos_corected.shp\n",
            "/content/drive/MyDrive/LithDatasSHP/Neraidoxori.shp\n",
            "/content/drive/MyDrive/LithDatasSHP/Petroto.shp\n",
            "/content/drive/MyDrive/LithDatasSHP/Skandalo.shp\n",
            "/content/drive/MyDrive/LithDatasSHP/Tirnavos.shp\n",
            "/content/drive/MyDrive/LithDatasSHP/Velia.shp\n",
            "/content/drive/MyDrive/LithDatasSHP/Voras.shp\n",
            "/content/drive/MyDrive/LithDatasSHP/XIOS.shp\n"
          ]
        },
        {
          "output_type": "stream",
          "name": "stderr",
          "text": [
            "WARNING:rasterio._env:CPLE_AppDefined in /content/drive/MyDrive/LithDatasTIF/Crete_A.tif: TIFFReadDirectory:Sum of Photometric type-related color channels and ExtraSamples doesn't match SamplesPerPixel. Defining non-color channels as ExtraSamples.\n"
          ]
        },
        {
          "output_type": "stream",
          "name": "stdout",
          "text": [
            "/content/drive/MyDrive/LithDatasSHP/Agios_Georgios.shp\n",
            "/content/drive/MyDrive/LithDatasSHP/Amfilochia.shp\n",
            "/content/drive/MyDrive/LithDatasSHP/Anafi.shp\n",
            "/content/drive/MyDrive/LithDatasSHP/Crete_A.shp\n",
            "/content/drive/MyDrive/LithDatasSHP/Crete_B.shp\n",
            "/content/drive/MyDrive/LithDatasSHP/Desfina_.shp\n",
            "/content/drive/MyDrive/LithDatasSHP/Desfina_B.shp\n",
            "/content/drive/MyDrive/LithDatasSHP/Ermoupoli.shp\n",
            "/content/drive/MyDrive/LithDatasSHP/Exarchos.shp\n",
            "/content/drive/MyDrive/LithDatasSHP/Grevena.shp\n",
            "/content/drive/MyDrive/LithDatasSHP/Kastro.shp\n",
            "/content/drive/MyDrive/LithDatasSHP/Kimmeria.shp\n",
            "/content/drive/MyDrive/LithDatasSHP/Kirko_Bunaras.shp\n",
            "/content/drive/MyDrive/LithDatasSHP/Kithnos_A.shp\n",
            "/content/drive/MyDrive/LithDatasSHP/Kithnos_B.shp\n",
            "/content/drive/MyDrive/LithDatasSHP/Kyprios.shp\n",
            "/content/drive/MyDrive/LithDatasSHP/Lighurio.shp\n",
            "/content/drive/MyDrive/LithDatasSHP/LIMENARIA.shp\n",
            "/content/drive/MyDrive/LithDatasSHP/Megara.shp\n",
            "/content/drive/MyDrive/LithDatasSHP/Mesorrahi.shp\n",
            "/content/drive/MyDrive/LithDatasSHP/Metsitia_Arta.shp\n",
            "/content/drive/MyDrive/LithDatasSHP/Monopigado.shp\n",
            "/content/drive/MyDrive/LithDatasSHP/naxos_corected.shp\n",
            "/content/drive/MyDrive/LithDatasSHP/Neraidoxori.shp\n",
            "/content/drive/MyDrive/LithDatasSHP/Petroto.shp\n",
            "/content/drive/MyDrive/LithDatasSHP/Skandalo.shp\n",
            "/content/drive/MyDrive/LithDatasSHP/Tirnavos.shp\n",
            "/content/drive/MyDrive/LithDatasSHP/Velia.shp\n",
            "/content/drive/MyDrive/LithDatasSHP/Voras.shp\n",
            "/content/drive/MyDrive/LithDatasSHP/XIOS.shp\n"
          ]
        },
        {
          "output_type": "stream",
          "name": "stderr",
          "text": [
            "WARNING:rasterio._env:CPLE_AppDefined in /content/drive/MyDrive/LithDatasTIF/Crete_B.tif: TIFFReadDirectory:Sum of Photometric type-related color channels and ExtraSamples doesn't match SamplesPerPixel. Defining non-color channels as ExtraSamples.\n"
          ]
        },
        {
          "output_type": "stream",
          "name": "stdout",
          "text": [
            "/content/drive/MyDrive/LithDatasSHP/Agios_Georgios.shp\n",
            "/content/drive/MyDrive/LithDatasSHP/Amfilochia.shp\n",
            "/content/drive/MyDrive/LithDatasSHP/Anafi.shp\n",
            "/content/drive/MyDrive/LithDatasSHP/Crete_A.shp\n",
            "/content/drive/MyDrive/LithDatasSHP/Crete_B.shp\n",
            "/content/drive/MyDrive/LithDatasSHP/Desfina_.shp\n",
            "/content/drive/MyDrive/LithDatasSHP/Desfina_B.shp\n",
            "/content/drive/MyDrive/LithDatasSHP/Ermoupoli.shp\n",
            "/content/drive/MyDrive/LithDatasSHP/Exarchos.shp\n",
            "/content/drive/MyDrive/LithDatasSHP/Grevena.shp\n",
            "/content/drive/MyDrive/LithDatasSHP/Kastro.shp\n",
            "/content/drive/MyDrive/LithDatasSHP/Kimmeria.shp\n",
            "/content/drive/MyDrive/LithDatasSHP/Kirko_Bunaras.shp\n",
            "/content/drive/MyDrive/LithDatasSHP/Kithnos_A.shp\n",
            "/content/drive/MyDrive/LithDatasSHP/Kithnos_B.shp\n",
            "/content/drive/MyDrive/LithDatasSHP/Kyprios.shp\n",
            "/content/drive/MyDrive/LithDatasSHP/Lighurio.shp\n",
            "/content/drive/MyDrive/LithDatasSHP/LIMENARIA.shp\n",
            "/content/drive/MyDrive/LithDatasSHP/Megara.shp\n",
            "/content/drive/MyDrive/LithDatasSHP/Mesorrahi.shp\n",
            "/content/drive/MyDrive/LithDatasSHP/Metsitia_Arta.shp\n",
            "/content/drive/MyDrive/LithDatasSHP/Monopigado.shp\n",
            "/content/drive/MyDrive/LithDatasSHP/naxos_corected.shp\n",
            "/content/drive/MyDrive/LithDatasSHP/Neraidoxori.shp\n",
            "/content/drive/MyDrive/LithDatasSHP/Petroto.shp\n",
            "/content/drive/MyDrive/LithDatasSHP/Skandalo.shp\n",
            "/content/drive/MyDrive/LithDatasSHP/Tirnavos.shp\n",
            "/content/drive/MyDrive/LithDatasSHP/Velia.shp\n",
            "/content/drive/MyDrive/LithDatasSHP/Voras.shp\n",
            "/content/drive/MyDrive/LithDatasSHP/XIOS.shp\n"
          ]
        },
        {
          "output_type": "stream",
          "name": "stderr",
          "text": [
            "WARNING:rasterio._env:CPLE_AppDefined in /content/drive/MyDrive/LithDatasTIF/Desfina_.tif: TIFFReadDirectory:Sum of Photometric type-related color channels and ExtraSamples doesn't match SamplesPerPixel. Defining non-color channels as ExtraSamples.\n"
          ]
        },
        {
          "output_type": "stream",
          "name": "stdout",
          "text": [
            "/content/drive/MyDrive/LithDatasSHP/Agios_Georgios.shp\n",
            "/content/drive/MyDrive/LithDatasSHP/Amfilochia.shp\n",
            "/content/drive/MyDrive/LithDatasSHP/Anafi.shp\n",
            "/content/drive/MyDrive/LithDatasSHP/Crete_A.shp\n",
            "/content/drive/MyDrive/LithDatasSHP/Crete_B.shp\n",
            "/content/drive/MyDrive/LithDatasSHP/Desfina_.shp\n",
            "/content/drive/MyDrive/LithDatasSHP/Desfina_B.shp\n",
            "/content/drive/MyDrive/LithDatasSHP/Ermoupoli.shp\n",
            "/content/drive/MyDrive/LithDatasSHP/Exarchos.shp\n",
            "/content/drive/MyDrive/LithDatasSHP/Grevena.shp\n",
            "/content/drive/MyDrive/LithDatasSHP/Kastro.shp\n",
            "/content/drive/MyDrive/LithDatasSHP/Kimmeria.shp\n",
            "/content/drive/MyDrive/LithDatasSHP/Kirko_Bunaras.shp\n",
            "/content/drive/MyDrive/LithDatasSHP/Kithnos_A.shp\n",
            "/content/drive/MyDrive/LithDatasSHP/Kithnos_B.shp\n",
            "/content/drive/MyDrive/LithDatasSHP/Kyprios.shp\n",
            "/content/drive/MyDrive/LithDatasSHP/Lighurio.shp\n",
            "/content/drive/MyDrive/LithDatasSHP/LIMENARIA.shp\n",
            "/content/drive/MyDrive/LithDatasSHP/Megara.shp\n",
            "/content/drive/MyDrive/LithDatasSHP/Mesorrahi.shp\n",
            "/content/drive/MyDrive/LithDatasSHP/Metsitia_Arta.shp\n",
            "/content/drive/MyDrive/LithDatasSHP/Monopigado.shp\n",
            "/content/drive/MyDrive/LithDatasSHP/naxos_corected.shp\n",
            "/content/drive/MyDrive/LithDatasSHP/Neraidoxori.shp\n",
            "/content/drive/MyDrive/LithDatasSHP/Petroto.shp\n",
            "/content/drive/MyDrive/LithDatasSHP/Skandalo.shp\n",
            "/content/drive/MyDrive/LithDatasSHP/Tirnavos.shp\n",
            "/content/drive/MyDrive/LithDatasSHP/Velia.shp\n",
            "/content/drive/MyDrive/LithDatasSHP/Voras.shp\n",
            "/content/drive/MyDrive/LithDatasSHP/XIOS.shp\n"
          ]
        },
        {
          "output_type": "stream",
          "name": "stderr",
          "text": [
            "WARNING:rasterio._env:CPLE_AppDefined in /content/drive/MyDrive/LithDatasTIF/Desfina_B.tif: TIFFReadDirectory:Sum of Photometric type-related color channels and ExtraSamples doesn't match SamplesPerPixel. Defining non-color channels as ExtraSamples.\n"
          ]
        },
        {
          "output_type": "stream",
          "name": "stdout",
          "text": [
            "/content/drive/MyDrive/LithDatasSHP/Agios_Georgios.shp\n",
            "/content/drive/MyDrive/LithDatasSHP/Amfilochia.shp\n",
            "/content/drive/MyDrive/LithDatasSHP/Anafi.shp\n",
            "/content/drive/MyDrive/LithDatasSHP/Crete_A.shp\n",
            "/content/drive/MyDrive/LithDatasSHP/Crete_B.shp\n",
            "/content/drive/MyDrive/LithDatasSHP/Desfina_.shp\n",
            "/content/drive/MyDrive/LithDatasSHP/Desfina_B.shp\n",
            "/content/drive/MyDrive/LithDatasSHP/Ermoupoli.shp\n",
            "/content/drive/MyDrive/LithDatasSHP/Exarchos.shp\n",
            "/content/drive/MyDrive/LithDatasSHP/Grevena.shp\n",
            "/content/drive/MyDrive/LithDatasSHP/Kastro.shp\n",
            "/content/drive/MyDrive/LithDatasSHP/Kimmeria.shp\n",
            "/content/drive/MyDrive/LithDatasSHP/Kirko_Bunaras.shp\n",
            "/content/drive/MyDrive/LithDatasSHP/Kithnos_A.shp\n",
            "/content/drive/MyDrive/LithDatasSHP/Kithnos_B.shp\n",
            "/content/drive/MyDrive/LithDatasSHP/Kyprios.shp\n",
            "/content/drive/MyDrive/LithDatasSHP/Lighurio.shp\n",
            "/content/drive/MyDrive/LithDatasSHP/LIMENARIA.shp\n",
            "/content/drive/MyDrive/LithDatasSHP/Megara.shp\n",
            "/content/drive/MyDrive/LithDatasSHP/Mesorrahi.shp\n",
            "/content/drive/MyDrive/LithDatasSHP/Metsitia_Arta.shp\n",
            "/content/drive/MyDrive/LithDatasSHP/Monopigado.shp\n",
            "/content/drive/MyDrive/LithDatasSHP/naxos_corected.shp\n",
            "/content/drive/MyDrive/LithDatasSHP/Neraidoxori.shp\n",
            "/content/drive/MyDrive/LithDatasSHP/Petroto.shp\n",
            "/content/drive/MyDrive/LithDatasSHP/Skandalo.shp\n",
            "/content/drive/MyDrive/LithDatasSHP/Tirnavos.shp\n",
            "/content/drive/MyDrive/LithDatasSHP/Velia.shp\n",
            "/content/drive/MyDrive/LithDatasSHP/Voras.shp\n",
            "/content/drive/MyDrive/LithDatasSHP/XIOS.shp\n"
          ]
        },
        {
          "output_type": "stream",
          "name": "stderr",
          "text": [
            "WARNING:rasterio._env:CPLE_AppDefined in /content/drive/MyDrive/LithDatasTIF/Ermoupoli.tif: TIFFReadDirectory:Sum of Photometric type-related color channels and ExtraSamples doesn't match SamplesPerPixel. Defining non-color channels as ExtraSamples.\n"
          ]
        },
        {
          "output_type": "stream",
          "name": "stdout",
          "text": [
            "/content/drive/MyDrive/LithDatasSHP/Agios_Georgios.shp\n",
            "/content/drive/MyDrive/LithDatasSHP/Amfilochia.shp\n",
            "/content/drive/MyDrive/LithDatasSHP/Anafi.shp\n",
            "/content/drive/MyDrive/LithDatasSHP/Crete_A.shp\n",
            "/content/drive/MyDrive/LithDatasSHP/Crete_B.shp\n",
            "/content/drive/MyDrive/LithDatasSHP/Desfina_.shp\n",
            "/content/drive/MyDrive/LithDatasSHP/Desfina_B.shp\n",
            "/content/drive/MyDrive/LithDatasSHP/Ermoupoli.shp\n",
            "/content/drive/MyDrive/LithDatasSHP/Exarchos.shp\n",
            "/content/drive/MyDrive/LithDatasSHP/Grevena.shp\n",
            "/content/drive/MyDrive/LithDatasSHP/Kastro.shp\n",
            "/content/drive/MyDrive/LithDatasSHP/Kimmeria.shp\n",
            "/content/drive/MyDrive/LithDatasSHP/Kirko_Bunaras.shp\n",
            "/content/drive/MyDrive/LithDatasSHP/Kithnos_A.shp\n",
            "/content/drive/MyDrive/LithDatasSHP/Kithnos_B.shp\n",
            "/content/drive/MyDrive/LithDatasSHP/Kyprios.shp\n",
            "/content/drive/MyDrive/LithDatasSHP/Lighurio.shp\n",
            "/content/drive/MyDrive/LithDatasSHP/LIMENARIA.shp\n",
            "/content/drive/MyDrive/LithDatasSHP/Megara.shp\n",
            "/content/drive/MyDrive/LithDatasSHP/Mesorrahi.shp\n",
            "/content/drive/MyDrive/LithDatasSHP/Metsitia_Arta.shp\n",
            "/content/drive/MyDrive/LithDatasSHP/Monopigado.shp\n",
            "/content/drive/MyDrive/LithDatasSHP/naxos_corected.shp\n",
            "/content/drive/MyDrive/LithDatasSHP/Neraidoxori.shp\n",
            "/content/drive/MyDrive/LithDatasSHP/Petroto.shp\n",
            "/content/drive/MyDrive/LithDatasSHP/Skandalo.shp\n",
            "/content/drive/MyDrive/LithDatasSHP/Tirnavos.shp\n",
            "/content/drive/MyDrive/LithDatasSHP/Velia.shp\n",
            "/content/drive/MyDrive/LithDatasSHP/Voras.shp\n",
            "/content/drive/MyDrive/LithDatasSHP/XIOS.shp\n"
          ]
        },
        {
          "output_type": "stream",
          "name": "stderr",
          "text": [
            "WARNING:rasterio._env:CPLE_AppDefined in /content/drive/MyDrive/LithDatasTIF/Exarchos.tif: TIFFReadDirectory:Sum of Photometric type-related color channels and ExtraSamples doesn't match SamplesPerPixel. Defining non-color channels as ExtraSamples.\n"
          ]
        },
        {
          "output_type": "stream",
          "name": "stdout",
          "text": [
            "/content/drive/MyDrive/LithDatasSHP/Agios_Georgios.shp\n",
            "/content/drive/MyDrive/LithDatasSHP/Amfilochia.shp\n",
            "/content/drive/MyDrive/LithDatasSHP/Anafi.shp\n",
            "/content/drive/MyDrive/LithDatasSHP/Crete_A.shp\n",
            "/content/drive/MyDrive/LithDatasSHP/Crete_B.shp\n",
            "/content/drive/MyDrive/LithDatasSHP/Desfina_.shp\n",
            "/content/drive/MyDrive/LithDatasSHP/Desfina_B.shp\n",
            "/content/drive/MyDrive/LithDatasSHP/Ermoupoli.shp\n",
            "/content/drive/MyDrive/LithDatasSHP/Exarchos.shp\n",
            "/content/drive/MyDrive/LithDatasSHP/Grevena.shp\n",
            "/content/drive/MyDrive/LithDatasSHP/Kastro.shp\n",
            "/content/drive/MyDrive/LithDatasSHP/Kimmeria.shp\n",
            "/content/drive/MyDrive/LithDatasSHP/Kirko_Bunaras.shp\n",
            "/content/drive/MyDrive/LithDatasSHP/Kithnos_A.shp\n",
            "/content/drive/MyDrive/LithDatasSHP/Kithnos_B.shp\n",
            "/content/drive/MyDrive/LithDatasSHP/Kyprios.shp\n",
            "/content/drive/MyDrive/LithDatasSHP/Lighurio.shp\n",
            "/content/drive/MyDrive/LithDatasSHP/LIMENARIA.shp\n",
            "/content/drive/MyDrive/LithDatasSHP/Megara.shp\n",
            "/content/drive/MyDrive/LithDatasSHP/Mesorrahi.shp\n",
            "/content/drive/MyDrive/LithDatasSHP/Metsitia_Arta.shp\n",
            "/content/drive/MyDrive/LithDatasSHP/Monopigado.shp\n",
            "/content/drive/MyDrive/LithDatasSHP/naxos_corected.shp\n",
            "/content/drive/MyDrive/LithDatasSHP/Neraidoxori.shp\n",
            "/content/drive/MyDrive/LithDatasSHP/Petroto.shp\n",
            "/content/drive/MyDrive/LithDatasSHP/Skandalo.shp\n",
            "/content/drive/MyDrive/LithDatasSHP/Tirnavos.shp\n",
            "/content/drive/MyDrive/LithDatasSHP/Velia.shp\n",
            "/content/drive/MyDrive/LithDatasSHP/Voras.shp\n"
          ]
        },
        {
          "output_type": "stream",
          "name": "stderr",
          "text": [
            "WARNING:rasterio._env:CPLE_AppDefined in /content/drive/MyDrive/LithDatasTIF/Grevena.tif: TIFFReadDirectory:Sum of Photometric type-related color channels and ExtraSamples doesn't match SamplesPerPixel. Defining non-color channels as ExtraSamples.\n"
          ]
        },
        {
          "output_type": "stream",
          "name": "stdout",
          "text": [
            "/content/drive/MyDrive/LithDatasSHP/XIOS.shp\n",
            "/content/drive/MyDrive/LithDatasSHP/Agios_Georgios.shp\n",
            "/content/drive/MyDrive/LithDatasSHP/Amfilochia.shp\n",
            "/content/drive/MyDrive/LithDatasSHP/Anafi.shp\n",
            "/content/drive/MyDrive/LithDatasSHP/Crete_A.shp\n",
            "/content/drive/MyDrive/LithDatasSHP/Crete_B.shp\n",
            "/content/drive/MyDrive/LithDatasSHP/Desfina_.shp\n",
            "/content/drive/MyDrive/LithDatasSHP/Desfina_B.shp\n",
            "/content/drive/MyDrive/LithDatasSHP/Ermoupoli.shp\n",
            "/content/drive/MyDrive/LithDatasSHP/Exarchos.shp\n",
            "/content/drive/MyDrive/LithDatasSHP/Grevena.shp\n",
            "/content/drive/MyDrive/LithDatasSHP/Kastro.shp\n",
            "/content/drive/MyDrive/LithDatasSHP/Kimmeria.shp\n",
            "/content/drive/MyDrive/LithDatasSHP/Kirko_Bunaras.shp\n",
            "/content/drive/MyDrive/LithDatasSHP/Kithnos_A.shp\n",
            "/content/drive/MyDrive/LithDatasSHP/Kithnos_B.shp\n",
            "/content/drive/MyDrive/LithDatasSHP/Kyprios.shp\n",
            "/content/drive/MyDrive/LithDatasSHP/Lighurio.shp\n",
            "/content/drive/MyDrive/LithDatasSHP/LIMENARIA.shp\n",
            "/content/drive/MyDrive/LithDatasSHP/Megara.shp\n",
            "/content/drive/MyDrive/LithDatasSHP/Mesorrahi.shp\n",
            "/content/drive/MyDrive/LithDatasSHP/Metsitia_Arta.shp\n",
            "/content/drive/MyDrive/LithDatasSHP/Monopigado.shp\n",
            "/content/drive/MyDrive/LithDatasSHP/naxos_corected.shp\n",
            "/content/drive/MyDrive/LithDatasSHP/Neraidoxori.shp\n",
            "/content/drive/MyDrive/LithDatasSHP/Petroto.shp\n",
            "/content/drive/MyDrive/LithDatasSHP/Skandalo.shp\n",
            "/content/drive/MyDrive/LithDatasSHP/Tirnavos.shp\n",
            "/content/drive/MyDrive/LithDatasSHP/Velia.shp\n",
            "/content/drive/MyDrive/LithDatasSHP/Voras.shp\n",
            "/content/drive/MyDrive/LithDatasSHP/XIOS.shp\n"
          ]
        },
        {
          "output_type": "stream",
          "name": "stderr",
          "text": [
            "WARNING:rasterio._env:CPLE_AppDefined in /content/drive/MyDrive/LithDatasTIF/Kastro.tif: TIFFReadDirectory:Sum of Photometric type-related color channels and ExtraSamples doesn't match SamplesPerPixel. Defining non-color channels as ExtraSamples.\n"
          ]
        },
        {
          "output_type": "stream",
          "name": "stdout",
          "text": [
            "/content/drive/MyDrive/LithDatasSHP/Agios_Georgios.shp\n",
            "/content/drive/MyDrive/LithDatasSHP/Amfilochia.shp\n",
            "/content/drive/MyDrive/LithDatasSHP/Anafi.shp\n",
            "/content/drive/MyDrive/LithDatasSHP/Crete_A.shp\n",
            "/content/drive/MyDrive/LithDatasSHP/Crete_B.shp\n",
            "/content/drive/MyDrive/LithDatasSHP/Desfina_.shp\n",
            "/content/drive/MyDrive/LithDatasSHP/Desfina_B.shp\n",
            "/content/drive/MyDrive/LithDatasSHP/Ermoupoli.shp\n",
            "/content/drive/MyDrive/LithDatasSHP/Exarchos.shp\n",
            "/content/drive/MyDrive/LithDatasSHP/Grevena.shp\n",
            "/content/drive/MyDrive/LithDatasSHP/Kastro.shp\n",
            "/content/drive/MyDrive/LithDatasSHP/Kimmeria.shp\n",
            "/content/drive/MyDrive/LithDatasSHP/Kirko_Bunaras.shp\n",
            "/content/drive/MyDrive/LithDatasSHP/Kithnos_A.shp\n",
            "/content/drive/MyDrive/LithDatasSHP/Kithnos_B.shp\n",
            "/content/drive/MyDrive/LithDatasSHP/Kyprios.shp\n",
            "/content/drive/MyDrive/LithDatasSHP/Lighurio.shp\n",
            "/content/drive/MyDrive/LithDatasSHP/LIMENARIA.shp\n",
            "/content/drive/MyDrive/LithDatasSHP/Megara.shp\n",
            "/content/drive/MyDrive/LithDatasSHP/Mesorrahi.shp\n",
            "/content/drive/MyDrive/LithDatasSHP/Metsitia_Arta.shp\n",
            "/content/drive/MyDrive/LithDatasSHP/Monopigado.shp\n",
            "/content/drive/MyDrive/LithDatasSHP/naxos_corected.shp\n",
            "/content/drive/MyDrive/LithDatasSHP/Neraidoxori.shp\n",
            "/content/drive/MyDrive/LithDatasSHP/Petroto.shp\n",
            "/content/drive/MyDrive/LithDatasSHP/Skandalo.shp\n",
            "/content/drive/MyDrive/LithDatasSHP/Tirnavos.shp\n",
            "/content/drive/MyDrive/LithDatasSHP/Velia.shp\n"
          ]
        },
        {
          "output_type": "stream",
          "name": "stderr",
          "text": [
            "WARNING:rasterio._env:CPLE_AppDefined in /content/drive/MyDrive/LithDatasTIF/Kimmeria.tif: TIFFReadDirectory:Sum of Photometric type-related color channels and ExtraSamples doesn't match SamplesPerPixel. Defining non-color channels as ExtraSamples.\n"
          ]
        },
        {
          "output_type": "stream",
          "name": "stdout",
          "text": [
            "/content/drive/MyDrive/LithDatasSHP/Voras.shp\n",
            "/content/drive/MyDrive/LithDatasSHP/XIOS.shp\n",
            "/content/drive/MyDrive/LithDatasSHP/Agios_Georgios.shp\n",
            "/content/drive/MyDrive/LithDatasSHP/Amfilochia.shp\n",
            "/content/drive/MyDrive/LithDatasSHP/Anafi.shp\n",
            "/content/drive/MyDrive/LithDatasSHP/Crete_A.shp\n",
            "/content/drive/MyDrive/LithDatasSHP/Crete_B.shp\n",
            "/content/drive/MyDrive/LithDatasSHP/Desfina_.shp\n",
            "/content/drive/MyDrive/LithDatasSHP/Desfina_B.shp\n",
            "/content/drive/MyDrive/LithDatasSHP/Ermoupoli.shp\n",
            "/content/drive/MyDrive/LithDatasSHP/Exarchos.shp\n",
            "/content/drive/MyDrive/LithDatasSHP/Grevena.shp\n",
            "/content/drive/MyDrive/LithDatasSHP/Kastro.shp\n",
            "/content/drive/MyDrive/LithDatasSHP/Kimmeria.shp\n",
            "/content/drive/MyDrive/LithDatasSHP/Kirko_Bunaras.shp\n",
            "/content/drive/MyDrive/LithDatasSHP/Kithnos_A.shp\n",
            "/content/drive/MyDrive/LithDatasSHP/Kithnos_B.shp\n",
            "/content/drive/MyDrive/LithDatasSHP/Kyprios.shp\n",
            "/content/drive/MyDrive/LithDatasSHP/Lighurio.shp\n",
            "/content/drive/MyDrive/LithDatasSHP/LIMENARIA.shp\n",
            "/content/drive/MyDrive/LithDatasSHP/Megara.shp\n",
            "/content/drive/MyDrive/LithDatasSHP/Mesorrahi.shp\n",
            "/content/drive/MyDrive/LithDatasSHP/Metsitia_Arta.shp\n",
            "/content/drive/MyDrive/LithDatasSHP/Monopigado.shp\n",
            "/content/drive/MyDrive/LithDatasSHP/naxos_corected.shp\n",
            "/content/drive/MyDrive/LithDatasSHP/Neraidoxori.shp\n",
            "/content/drive/MyDrive/LithDatasSHP/Petroto.shp\n",
            "/content/drive/MyDrive/LithDatasSHP/Skandalo.shp\n",
            "/content/drive/MyDrive/LithDatasSHP/Tirnavos.shp\n",
            "/content/drive/MyDrive/LithDatasSHP/Velia.shp\n"
          ]
        },
        {
          "output_type": "stream",
          "name": "stderr",
          "text": [
            "WARNING:rasterio._env:CPLE_AppDefined in /content/drive/MyDrive/LithDatasTIF/Kirko_Bunaras.tif: TIFFReadDirectory:Sum of Photometric type-related color channels and ExtraSamples doesn't match SamplesPerPixel. Defining non-color channels as ExtraSamples.\n"
          ]
        },
        {
          "output_type": "stream",
          "name": "stdout",
          "text": [
            "/content/drive/MyDrive/LithDatasSHP/Voras.shp\n",
            "/content/drive/MyDrive/LithDatasSHP/XIOS.shp\n",
            "/content/drive/MyDrive/LithDatasSHP/Agios_Georgios.shp\n",
            "/content/drive/MyDrive/LithDatasSHP/Amfilochia.shp\n",
            "/content/drive/MyDrive/LithDatasSHP/Anafi.shp\n",
            "/content/drive/MyDrive/LithDatasSHP/Crete_A.shp\n",
            "/content/drive/MyDrive/LithDatasSHP/Crete_B.shp\n",
            "/content/drive/MyDrive/LithDatasSHP/Desfina_.shp\n",
            "/content/drive/MyDrive/LithDatasSHP/Desfina_B.shp\n",
            "/content/drive/MyDrive/LithDatasSHP/Ermoupoli.shp\n",
            "/content/drive/MyDrive/LithDatasSHP/Exarchos.shp\n",
            "/content/drive/MyDrive/LithDatasSHP/Grevena.shp\n",
            "/content/drive/MyDrive/LithDatasSHP/Kastro.shp\n",
            "/content/drive/MyDrive/LithDatasSHP/Kimmeria.shp\n",
            "/content/drive/MyDrive/LithDatasSHP/Kirko_Bunaras.shp\n",
            "/content/drive/MyDrive/LithDatasSHP/Kithnos_A.shp\n",
            "/content/drive/MyDrive/LithDatasSHP/Kithnos_B.shp\n",
            "/content/drive/MyDrive/LithDatasSHP/Kyprios.shp\n",
            "/content/drive/MyDrive/LithDatasSHP/Lighurio.shp\n",
            "/content/drive/MyDrive/LithDatasSHP/LIMENARIA.shp\n",
            "/content/drive/MyDrive/LithDatasSHP/Megara.shp\n",
            "/content/drive/MyDrive/LithDatasSHP/Mesorrahi.shp\n",
            "/content/drive/MyDrive/LithDatasSHP/Metsitia_Arta.shp\n",
            "/content/drive/MyDrive/LithDatasSHP/Monopigado.shp\n",
            "/content/drive/MyDrive/LithDatasSHP/naxos_corected.shp\n",
            "/content/drive/MyDrive/LithDatasSHP/Neraidoxori.shp\n",
            "/content/drive/MyDrive/LithDatasSHP/Petroto.shp\n",
            "/content/drive/MyDrive/LithDatasSHP/Skandalo.shp\n",
            "/content/drive/MyDrive/LithDatasSHP/Tirnavos.shp\n",
            "/content/drive/MyDrive/LithDatasSHP/Velia.shp\n",
            "/content/drive/MyDrive/LithDatasSHP/Voras.shp\n",
            "/content/drive/MyDrive/LithDatasSHP/XIOS.shp\n"
          ]
        },
        {
          "output_type": "stream",
          "name": "stderr",
          "text": [
            "WARNING:rasterio._env:CPLE_AppDefined in /content/drive/MyDrive/LithDatasTIF/Kithnos_A.tif: TIFFReadDirectory:Sum of Photometric type-related color channels and ExtraSamples doesn't match SamplesPerPixel. Defining non-color channels as ExtraSamples.\n"
          ]
        },
        {
          "output_type": "stream",
          "name": "stdout",
          "text": [
            "/content/drive/MyDrive/LithDatasSHP/Agios_Georgios.shp\n",
            "/content/drive/MyDrive/LithDatasSHP/Amfilochia.shp\n",
            "/content/drive/MyDrive/LithDatasSHP/Anafi.shp\n",
            "/content/drive/MyDrive/LithDatasSHP/Crete_A.shp\n",
            "/content/drive/MyDrive/LithDatasSHP/Crete_B.shp\n",
            "/content/drive/MyDrive/LithDatasSHP/Desfina_.shp\n",
            "/content/drive/MyDrive/LithDatasSHP/Desfina_B.shp\n",
            "/content/drive/MyDrive/LithDatasSHP/Ermoupoli.shp\n",
            "/content/drive/MyDrive/LithDatasSHP/Exarchos.shp\n",
            "/content/drive/MyDrive/LithDatasSHP/Grevena.shp\n",
            "/content/drive/MyDrive/LithDatasSHP/Kastro.shp\n",
            "/content/drive/MyDrive/LithDatasSHP/Kimmeria.shp\n",
            "/content/drive/MyDrive/LithDatasSHP/Kirko_Bunaras.shp\n",
            "/content/drive/MyDrive/LithDatasSHP/Kithnos_A.shp\n",
            "/content/drive/MyDrive/LithDatasSHP/Kithnos_B.shp\n",
            "/content/drive/MyDrive/LithDatasSHP/Kyprios.shp\n",
            "/content/drive/MyDrive/LithDatasSHP/Lighurio.shp\n",
            "/content/drive/MyDrive/LithDatasSHP/LIMENARIA.shp\n",
            "/content/drive/MyDrive/LithDatasSHP/Megara.shp\n",
            "/content/drive/MyDrive/LithDatasSHP/Mesorrahi.shp\n",
            "/content/drive/MyDrive/LithDatasSHP/Metsitia_Arta.shp\n",
            "/content/drive/MyDrive/LithDatasSHP/Monopigado.shp\n",
            "/content/drive/MyDrive/LithDatasSHP/naxos_corected.shp\n",
            "/content/drive/MyDrive/LithDatasSHP/Neraidoxori.shp\n",
            "/content/drive/MyDrive/LithDatasSHP/Petroto.shp\n",
            "/content/drive/MyDrive/LithDatasSHP/Skandalo.shp\n",
            "/content/drive/MyDrive/LithDatasSHP/Tirnavos.shp\n",
            "/content/drive/MyDrive/LithDatasSHP/Velia.shp\n",
            "/content/drive/MyDrive/LithDatasSHP/Voras.shp\n",
            "/content/drive/MyDrive/LithDatasSHP/XIOS.shp\n"
          ]
        },
        {
          "output_type": "stream",
          "name": "stderr",
          "text": [
            "WARNING:rasterio._env:CPLE_AppDefined in /content/drive/MyDrive/LithDatasTIF/Kithnos_B.tif: TIFFReadDirectory:Sum of Photometric type-related color channels and ExtraSamples doesn't match SamplesPerPixel. Defining non-color channels as ExtraSamples.\n"
          ]
        },
        {
          "output_type": "stream",
          "name": "stdout",
          "text": [
            "/content/drive/MyDrive/LithDatasSHP/Agios_Georgios.shp\n",
            "/content/drive/MyDrive/LithDatasSHP/Amfilochia.shp\n",
            "/content/drive/MyDrive/LithDatasSHP/Anafi.shp\n",
            "/content/drive/MyDrive/LithDatasSHP/Crete_A.shp\n",
            "/content/drive/MyDrive/LithDatasSHP/Crete_B.shp\n",
            "/content/drive/MyDrive/LithDatasSHP/Desfina_.shp\n",
            "/content/drive/MyDrive/LithDatasSHP/Desfina_B.shp\n",
            "/content/drive/MyDrive/LithDatasSHP/Ermoupoli.shp\n",
            "/content/drive/MyDrive/LithDatasSHP/Exarchos.shp\n",
            "/content/drive/MyDrive/LithDatasSHP/Grevena.shp\n",
            "/content/drive/MyDrive/LithDatasSHP/Kastro.shp\n",
            "/content/drive/MyDrive/LithDatasSHP/Kimmeria.shp\n",
            "/content/drive/MyDrive/LithDatasSHP/Kirko_Bunaras.shp\n",
            "/content/drive/MyDrive/LithDatasSHP/Kithnos_A.shp\n",
            "/content/drive/MyDrive/LithDatasSHP/Kithnos_B.shp\n",
            "/content/drive/MyDrive/LithDatasSHP/Kyprios.shp\n",
            "/content/drive/MyDrive/LithDatasSHP/Lighurio.shp\n",
            "/content/drive/MyDrive/LithDatasSHP/LIMENARIA.shp\n",
            "/content/drive/MyDrive/LithDatasSHP/Megara.shp\n",
            "/content/drive/MyDrive/LithDatasSHP/Mesorrahi.shp\n",
            "/content/drive/MyDrive/LithDatasSHP/Metsitia_Arta.shp\n",
            "/content/drive/MyDrive/LithDatasSHP/Monopigado.shp\n",
            "/content/drive/MyDrive/LithDatasSHP/naxos_corected.shp\n",
            "/content/drive/MyDrive/LithDatasSHP/Neraidoxori.shp\n",
            "/content/drive/MyDrive/LithDatasSHP/Petroto.shp\n",
            "/content/drive/MyDrive/LithDatasSHP/Skandalo.shp\n",
            "/content/drive/MyDrive/LithDatasSHP/Tirnavos.shp\n",
            "/content/drive/MyDrive/LithDatasSHP/Velia.shp\n",
            "/content/drive/MyDrive/LithDatasSHP/Voras.shp\n",
            "/content/drive/MyDrive/LithDatasSHP/XIOS.shp\n"
          ]
        },
        {
          "output_type": "stream",
          "name": "stderr",
          "text": [
            "WARNING:rasterio._env:CPLE_AppDefined in /content/drive/MyDrive/LithDatasTIF/Kyprios.tif: TIFFReadDirectory:Sum of Photometric type-related color channels and ExtraSamples doesn't match SamplesPerPixel. Defining non-color channels as ExtraSamples.\n"
          ]
        },
        {
          "output_type": "stream",
          "name": "stdout",
          "text": [
            "/content/drive/MyDrive/LithDatasSHP/Agios_Georgios.shp\n",
            "/content/drive/MyDrive/LithDatasSHP/Amfilochia.shp\n",
            "/content/drive/MyDrive/LithDatasSHP/Anafi.shp\n",
            "/content/drive/MyDrive/LithDatasSHP/Crete_A.shp\n",
            "/content/drive/MyDrive/LithDatasSHP/Crete_B.shp\n",
            "/content/drive/MyDrive/LithDatasSHP/Desfina_.shp\n",
            "/content/drive/MyDrive/LithDatasSHP/Desfina_B.shp\n",
            "/content/drive/MyDrive/LithDatasSHP/Ermoupoli.shp\n",
            "/content/drive/MyDrive/LithDatasSHP/Exarchos.shp\n",
            "/content/drive/MyDrive/LithDatasSHP/Grevena.shp\n",
            "/content/drive/MyDrive/LithDatasSHP/Kastro.shp\n",
            "/content/drive/MyDrive/LithDatasSHP/Kimmeria.shp\n",
            "/content/drive/MyDrive/LithDatasSHP/Kirko_Bunaras.shp\n",
            "/content/drive/MyDrive/LithDatasSHP/Kithnos_A.shp\n",
            "/content/drive/MyDrive/LithDatasSHP/Kithnos_B.shp\n",
            "/content/drive/MyDrive/LithDatasSHP/Kyprios.shp\n",
            "/content/drive/MyDrive/LithDatasSHP/Lighurio.shp\n",
            "/content/drive/MyDrive/LithDatasSHP/LIMENARIA.shp\n",
            "/content/drive/MyDrive/LithDatasSHP/Megara.shp\n",
            "/content/drive/MyDrive/LithDatasSHP/Mesorrahi.shp\n",
            "/content/drive/MyDrive/LithDatasSHP/Metsitia_Arta.shp\n",
            "/content/drive/MyDrive/LithDatasSHP/Monopigado.shp\n",
            "/content/drive/MyDrive/LithDatasSHP/naxos_corected.shp\n",
            "/content/drive/MyDrive/LithDatasSHP/Neraidoxori.shp\n",
            "/content/drive/MyDrive/LithDatasSHP/Petroto.shp\n",
            "/content/drive/MyDrive/LithDatasSHP/Skandalo.shp\n",
            "/content/drive/MyDrive/LithDatasSHP/Tirnavos.shp\n",
            "/content/drive/MyDrive/LithDatasSHP/Velia.shp\n",
            "/content/drive/MyDrive/LithDatasSHP/Voras.shp\n"
          ]
        },
        {
          "output_type": "stream",
          "name": "stderr",
          "text": [
            "WARNING:rasterio._env:CPLE_AppDefined in /content/drive/MyDrive/LithDatasTIF/Lighurio.tif: TIFFReadDirectory:Sum of Photometric type-related color channels and ExtraSamples doesn't match SamplesPerPixel. Defining non-color channels as ExtraSamples.\n"
          ]
        },
        {
          "output_type": "stream",
          "name": "stdout",
          "text": [
            "/content/drive/MyDrive/LithDatasSHP/XIOS.shp\n",
            "/content/drive/MyDrive/LithDatasSHP/Agios_Georgios.shp\n",
            "/content/drive/MyDrive/LithDatasSHP/Amfilochia.shp\n",
            "/content/drive/MyDrive/LithDatasSHP/Anafi.shp\n",
            "/content/drive/MyDrive/LithDatasSHP/Crete_A.shp\n",
            "/content/drive/MyDrive/LithDatasSHP/Crete_B.shp\n",
            "/content/drive/MyDrive/LithDatasSHP/Desfina_.shp\n",
            "/content/drive/MyDrive/LithDatasSHP/Desfina_B.shp\n",
            "/content/drive/MyDrive/LithDatasSHP/Ermoupoli.shp\n",
            "/content/drive/MyDrive/LithDatasSHP/Exarchos.shp\n",
            "/content/drive/MyDrive/LithDatasSHP/Grevena.shp\n",
            "/content/drive/MyDrive/LithDatasSHP/Kastro.shp\n",
            "/content/drive/MyDrive/LithDatasSHP/Kimmeria.shp\n",
            "/content/drive/MyDrive/LithDatasSHP/Kirko_Bunaras.shp\n",
            "/content/drive/MyDrive/LithDatasSHP/Kithnos_A.shp\n",
            "/content/drive/MyDrive/LithDatasSHP/Kithnos_B.shp\n",
            "/content/drive/MyDrive/LithDatasSHP/Kyprios.shp\n",
            "/content/drive/MyDrive/LithDatasSHP/Lighurio.shp\n",
            "/content/drive/MyDrive/LithDatasSHP/LIMENARIA.shp\n",
            "/content/drive/MyDrive/LithDatasSHP/Megara.shp\n",
            "/content/drive/MyDrive/LithDatasSHP/Mesorrahi.shp\n",
            "/content/drive/MyDrive/LithDatasSHP/Metsitia_Arta.shp\n",
            "/content/drive/MyDrive/LithDatasSHP/Monopigado.shp\n",
            "/content/drive/MyDrive/LithDatasSHP/naxos_corected.shp\n",
            "/content/drive/MyDrive/LithDatasSHP/Neraidoxori.shp\n",
            "/content/drive/MyDrive/LithDatasSHP/Petroto.shp\n",
            "/content/drive/MyDrive/LithDatasSHP/Skandalo.shp\n",
            "/content/drive/MyDrive/LithDatasSHP/Tirnavos.shp\n",
            "/content/drive/MyDrive/LithDatasSHP/Velia.shp\n",
            "/content/drive/MyDrive/LithDatasSHP/Voras.shp\n",
            "/content/drive/MyDrive/LithDatasSHP/XIOS.shp\n"
          ]
        },
        {
          "output_type": "stream",
          "name": "stderr",
          "text": [
            "WARNING:rasterio._env:CPLE_AppDefined in /content/drive/MyDrive/LithDatasTIF/LIMENARIA.tif: TIFFReadDirectory:Sum of Photometric type-related color channels and ExtraSamples doesn't match SamplesPerPixel. Defining non-color channels as ExtraSamples.\n"
          ]
        },
        {
          "output_type": "stream",
          "name": "stdout",
          "text": [
            "/content/drive/MyDrive/LithDatasSHP/Agios_Georgios.shp\n",
            "/content/drive/MyDrive/LithDatasSHP/Amfilochia.shp\n",
            "/content/drive/MyDrive/LithDatasSHP/Anafi.shp\n",
            "/content/drive/MyDrive/LithDatasSHP/Crete_A.shp\n",
            "/content/drive/MyDrive/LithDatasSHP/Crete_B.shp\n",
            "/content/drive/MyDrive/LithDatasSHP/Desfina_.shp\n",
            "/content/drive/MyDrive/LithDatasSHP/Desfina_B.shp\n",
            "/content/drive/MyDrive/LithDatasSHP/Ermoupoli.shp\n",
            "/content/drive/MyDrive/LithDatasSHP/Exarchos.shp\n",
            "/content/drive/MyDrive/LithDatasSHP/Grevena.shp\n",
            "/content/drive/MyDrive/LithDatasSHP/Kastro.shp\n",
            "/content/drive/MyDrive/LithDatasSHP/Kimmeria.shp\n",
            "/content/drive/MyDrive/LithDatasSHP/Kirko_Bunaras.shp\n",
            "/content/drive/MyDrive/LithDatasSHP/Kithnos_A.shp\n",
            "/content/drive/MyDrive/LithDatasSHP/Kithnos_B.shp\n",
            "/content/drive/MyDrive/LithDatasSHP/Kyprios.shp\n",
            "/content/drive/MyDrive/LithDatasSHP/Lighurio.shp\n",
            "/content/drive/MyDrive/LithDatasSHP/LIMENARIA.shp\n",
            "/content/drive/MyDrive/LithDatasSHP/Megara.shp\n",
            "/content/drive/MyDrive/LithDatasSHP/Mesorrahi.shp\n",
            "/content/drive/MyDrive/LithDatasSHP/Metsitia_Arta.shp\n",
            "/content/drive/MyDrive/LithDatasSHP/Monopigado.shp\n",
            "/content/drive/MyDrive/LithDatasSHP/naxos_corected.shp\n",
            "/content/drive/MyDrive/LithDatasSHP/Neraidoxori.shp\n",
            "/content/drive/MyDrive/LithDatasSHP/Petroto.shp\n",
            "/content/drive/MyDrive/LithDatasSHP/Skandalo.shp\n",
            "/content/drive/MyDrive/LithDatasSHP/Tirnavos.shp\n",
            "/content/drive/MyDrive/LithDatasSHP/Velia.shp\n",
            "/content/drive/MyDrive/LithDatasSHP/Voras.shp\n",
            "/content/drive/MyDrive/LithDatasSHP/XIOS.shp\n"
          ]
        },
        {
          "output_type": "stream",
          "name": "stderr",
          "text": [
            "WARNING:rasterio._env:CPLE_AppDefined in /content/drive/MyDrive/LithDatasTIF/Megara.tif: TIFFReadDirectory:Sum of Photometric type-related color channels and ExtraSamples doesn't match SamplesPerPixel. Defining non-color channels as ExtraSamples.\n"
          ]
        },
        {
          "output_type": "stream",
          "name": "stdout",
          "text": [
            "/content/drive/MyDrive/LithDatasSHP/Agios_Georgios.shp\n",
            "/content/drive/MyDrive/LithDatasSHP/Amfilochia.shp\n",
            "/content/drive/MyDrive/LithDatasSHP/Anafi.shp\n",
            "/content/drive/MyDrive/LithDatasSHP/Crete_A.shp\n",
            "/content/drive/MyDrive/LithDatasSHP/Crete_B.shp\n",
            "/content/drive/MyDrive/LithDatasSHP/Desfina_.shp\n",
            "/content/drive/MyDrive/LithDatasSHP/Desfina_B.shp\n",
            "/content/drive/MyDrive/LithDatasSHP/Ermoupoli.shp\n",
            "/content/drive/MyDrive/LithDatasSHP/Exarchos.shp\n",
            "/content/drive/MyDrive/LithDatasSHP/Grevena.shp\n",
            "/content/drive/MyDrive/LithDatasSHP/Kastro.shp\n",
            "/content/drive/MyDrive/LithDatasSHP/Kimmeria.shp\n",
            "/content/drive/MyDrive/LithDatasSHP/Kirko_Bunaras.shp\n",
            "/content/drive/MyDrive/LithDatasSHP/Kithnos_A.shp\n",
            "/content/drive/MyDrive/LithDatasSHP/Kithnos_B.shp\n",
            "/content/drive/MyDrive/LithDatasSHP/Kyprios.shp\n",
            "/content/drive/MyDrive/LithDatasSHP/Lighurio.shp\n",
            "/content/drive/MyDrive/LithDatasSHP/LIMENARIA.shp\n",
            "/content/drive/MyDrive/LithDatasSHP/Megara.shp\n",
            "/content/drive/MyDrive/LithDatasSHP/Mesorrahi.shp\n",
            "/content/drive/MyDrive/LithDatasSHP/Metsitia_Arta.shp\n",
            "/content/drive/MyDrive/LithDatasSHP/Monopigado.shp\n",
            "/content/drive/MyDrive/LithDatasSHP/naxos_corected.shp\n",
            "/content/drive/MyDrive/LithDatasSHP/Neraidoxori.shp\n",
            "/content/drive/MyDrive/LithDatasSHP/Petroto.shp\n",
            "/content/drive/MyDrive/LithDatasSHP/Skandalo.shp\n",
            "/content/drive/MyDrive/LithDatasSHP/Tirnavos.shp\n",
            "/content/drive/MyDrive/LithDatasSHP/Velia.shp\n",
            "/content/drive/MyDrive/LithDatasSHP/Voras.shp\n",
            "/content/drive/MyDrive/LithDatasSHP/XIOS.shp\n"
          ]
        },
        {
          "output_type": "stream",
          "name": "stderr",
          "text": [
            "WARNING:rasterio._env:CPLE_AppDefined in /content/drive/MyDrive/LithDatasTIF/Mesorrahi.tif: TIFFReadDirectory:Sum of Photometric type-related color channels and ExtraSamples doesn't match SamplesPerPixel. Defining non-color channels as ExtraSamples.\n"
          ]
        },
        {
          "output_type": "stream",
          "name": "stdout",
          "text": [
            "/content/drive/MyDrive/LithDatasSHP/Agios_Georgios.shp\n",
            "/content/drive/MyDrive/LithDatasSHP/Amfilochia.shp\n",
            "/content/drive/MyDrive/LithDatasSHP/Anafi.shp\n",
            "/content/drive/MyDrive/LithDatasSHP/Crete_A.shp\n",
            "/content/drive/MyDrive/LithDatasSHP/Crete_B.shp\n",
            "/content/drive/MyDrive/LithDatasSHP/Desfina_.shp\n",
            "/content/drive/MyDrive/LithDatasSHP/Desfina_B.shp\n",
            "/content/drive/MyDrive/LithDatasSHP/Ermoupoli.shp\n",
            "/content/drive/MyDrive/LithDatasSHP/Exarchos.shp\n",
            "/content/drive/MyDrive/LithDatasSHP/Grevena.shp\n",
            "/content/drive/MyDrive/LithDatasSHP/Kastro.shp\n",
            "/content/drive/MyDrive/LithDatasSHP/Kimmeria.shp\n",
            "/content/drive/MyDrive/LithDatasSHP/Kirko_Bunaras.shp\n",
            "/content/drive/MyDrive/LithDatasSHP/Kithnos_A.shp\n",
            "/content/drive/MyDrive/LithDatasSHP/Kithnos_B.shp\n",
            "/content/drive/MyDrive/LithDatasSHP/Kyprios.shp\n",
            "/content/drive/MyDrive/LithDatasSHP/Lighurio.shp\n",
            "/content/drive/MyDrive/LithDatasSHP/LIMENARIA.shp\n",
            "/content/drive/MyDrive/LithDatasSHP/Megara.shp\n",
            "/content/drive/MyDrive/LithDatasSHP/Mesorrahi.shp\n",
            "/content/drive/MyDrive/LithDatasSHP/Metsitia_Arta.shp\n",
            "/content/drive/MyDrive/LithDatasSHP/Monopigado.shp\n",
            "/content/drive/MyDrive/LithDatasSHP/naxos_corected.shp\n",
            "/content/drive/MyDrive/LithDatasSHP/Neraidoxori.shp\n",
            "/content/drive/MyDrive/LithDatasSHP/Petroto.shp\n",
            "/content/drive/MyDrive/LithDatasSHP/Skandalo.shp\n",
            "/content/drive/MyDrive/LithDatasSHP/Tirnavos.shp\n",
            "/content/drive/MyDrive/LithDatasSHP/Velia.shp\n",
            "/content/drive/MyDrive/LithDatasSHP/Voras.shp\n",
            "/content/drive/MyDrive/LithDatasSHP/XIOS.shp\n"
          ]
        },
        {
          "output_type": "stream",
          "name": "stderr",
          "text": [
            "WARNING:rasterio._env:CPLE_AppDefined in /content/drive/MyDrive/LithDatasTIF/Metsitia_Arta.tif: TIFFReadDirectory:Sum of Photometric type-related color channels and ExtraSamples doesn't match SamplesPerPixel. Defining non-color channels as ExtraSamples.\n"
          ]
        },
        {
          "output_type": "stream",
          "name": "stdout",
          "text": [
            "/content/drive/MyDrive/LithDatasSHP/Agios_Georgios.shp\n",
            "/content/drive/MyDrive/LithDatasSHP/Amfilochia.shp\n",
            "/content/drive/MyDrive/LithDatasSHP/Anafi.shp\n",
            "/content/drive/MyDrive/LithDatasSHP/Crete_A.shp\n",
            "/content/drive/MyDrive/LithDatasSHP/Crete_B.shp\n",
            "/content/drive/MyDrive/LithDatasSHP/Desfina_.shp\n",
            "/content/drive/MyDrive/LithDatasSHP/Desfina_B.shp\n",
            "/content/drive/MyDrive/LithDatasSHP/Ermoupoli.shp\n",
            "/content/drive/MyDrive/LithDatasSHP/Exarchos.shp\n",
            "/content/drive/MyDrive/LithDatasSHP/Grevena.shp\n",
            "/content/drive/MyDrive/LithDatasSHP/Kastro.shp\n",
            "/content/drive/MyDrive/LithDatasSHP/Kimmeria.shp\n",
            "/content/drive/MyDrive/LithDatasSHP/Kirko_Bunaras.shp\n",
            "/content/drive/MyDrive/LithDatasSHP/Kithnos_A.shp\n",
            "/content/drive/MyDrive/LithDatasSHP/Kithnos_B.shp\n",
            "/content/drive/MyDrive/LithDatasSHP/Kyprios.shp\n",
            "/content/drive/MyDrive/LithDatasSHP/Lighurio.shp\n",
            "/content/drive/MyDrive/LithDatasSHP/LIMENARIA.shp\n",
            "/content/drive/MyDrive/LithDatasSHP/Megara.shp\n",
            "/content/drive/MyDrive/LithDatasSHP/Mesorrahi.shp\n",
            "/content/drive/MyDrive/LithDatasSHP/Metsitia_Arta.shp\n",
            "/content/drive/MyDrive/LithDatasSHP/Monopigado.shp\n",
            "/content/drive/MyDrive/LithDatasSHP/naxos_corected.shp\n",
            "/content/drive/MyDrive/LithDatasSHP/Neraidoxori.shp\n",
            "/content/drive/MyDrive/LithDatasSHP/Petroto.shp\n",
            "/content/drive/MyDrive/LithDatasSHP/Skandalo.shp\n",
            "/content/drive/MyDrive/LithDatasSHP/Tirnavos.shp\n",
            "/content/drive/MyDrive/LithDatasSHP/Velia.shp\n",
            "/content/drive/MyDrive/LithDatasSHP/Voras.shp\n",
            "/content/drive/MyDrive/LithDatasSHP/XIOS.shp\n"
          ]
        },
        {
          "output_type": "stream",
          "name": "stderr",
          "text": [
            "WARNING:rasterio._env:CPLE_AppDefined in /content/drive/MyDrive/LithDatasTIF/Monopigado.tif: TIFFReadDirectory:Sum of Photometric type-related color channels and ExtraSamples doesn't match SamplesPerPixel. Defining non-color channels as ExtraSamples.\n"
          ]
        },
        {
          "output_type": "stream",
          "name": "stdout",
          "text": [
            "/content/drive/MyDrive/LithDatasSHP/Agios_Georgios.shp\n",
            "/content/drive/MyDrive/LithDatasSHP/Amfilochia.shp\n",
            "/content/drive/MyDrive/LithDatasSHP/Anafi.shp\n",
            "/content/drive/MyDrive/LithDatasSHP/Crete_A.shp\n",
            "/content/drive/MyDrive/LithDatasSHP/Crete_B.shp\n",
            "/content/drive/MyDrive/LithDatasSHP/Desfina_.shp\n",
            "/content/drive/MyDrive/LithDatasSHP/Desfina_B.shp\n",
            "/content/drive/MyDrive/LithDatasSHP/Ermoupoli.shp\n",
            "/content/drive/MyDrive/LithDatasSHP/Exarchos.shp\n",
            "/content/drive/MyDrive/LithDatasSHP/Grevena.shp\n",
            "/content/drive/MyDrive/LithDatasSHP/Kastro.shp\n",
            "/content/drive/MyDrive/LithDatasSHP/Kimmeria.shp\n",
            "/content/drive/MyDrive/LithDatasSHP/Kirko_Bunaras.shp\n",
            "/content/drive/MyDrive/LithDatasSHP/Kithnos_A.shp\n",
            "/content/drive/MyDrive/LithDatasSHP/Kithnos_B.shp\n",
            "/content/drive/MyDrive/LithDatasSHP/Kyprios.shp\n",
            "/content/drive/MyDrive/LithDatasSHP/Lighurio.shp\n",
            "/content/drive/MyDrive/LithDatasSHP/LIMENARIA.shp\n",
            "/content/drive/MyDrive/LithDatasSHP/Megara.shp\n",
            "/content/drive/MyDrive/LithDatasSHP/Mesorrahi.shp\n",
            "/content/drive/MyDrive/LithDatasSHP/Metsitia_Arta.shp\n",
            "/content/drive/MyDrive/LithDatasSHP/Monopigado.shp\n",
            "/content/drive/MyDrive/LithDatasSHP/naxos_corected.shp\n",
            "/content/drive/MyDrive/LithDatasSHP/Neraidoxori.shp\n",
            "/content/drive/MyDrive/LithDatasSHP/Petroto.shp\n",
            "/content/drive/MyDrive/LithDatasSHP/Skandalo.shp\n",
            "/content/drive/MyDrive/LithDatasSHP/Tirnavos.shp\n",
            "/content/drive/MyDrive/LithDatasSHP/Velia.shp\n",
            "/content/drive/MyDrive/LithDatasSHP/Voras.shp\n",
            "/content/drive/MyDrive/LithDatasSHP/XIOS.shp\n"
          ]
        },
        {
          "output_type": "stream",
          "name": "stderr",
          "text": [
            "WARNING:rasterio._env:CPLE_AppDefined in /content/drive/MyDrive/LithDatasTIF/naxos_corected.tif: TIFFReadDirectory:Sum of Photometric type-related color channels and ExtraSamples doesn't match SamplesPerPixel. Defining non-color channels as ExtraSamples.\n"
          ]
        },
        {
          "output_type": "stream",
          "name": "stdout",
          "text": [
            "/content/drive/MyDrive/LithDatasSHP/Agios_Georgios.shp\n",
            "/content/drive/MyDrive/LithDatasSHP/Amfilochia.shp\n",
            "/content/drive/MyDrive/LithDatasSHP/Anafi.shp\n",
            "/content/drive/MyDrive/LithDatasSHP/Crete_A.shp\n",
            "/content/drive/MyDrive/LithDatasSHP/Crete_B.shp\n",
            "/content/drive/MyDrive/LithDatasSHP/Desfina_.shp\n",
            "/content/drive/MyDrive/LithDatasSHP/Desfina_B.shp\n",
            "/content/drive/MyDrive/LithDatasSHP/Ermoupoli.shp\n",
            "/content/drive/MyDrive/LithDatasSHP/Exarchos.shp\n",
            "/content/drive/MyDrive/LithDatasSHP/Grevena.shp\n",
            "/content/drive/MyDrive/LithDatasSHP/Kastro.shp\n",
            "/content/drive/MyDrive/LithDatasSHP/Kimmeria.shp\n",
            "/content/drive/MyDrive/LithDatasSHP/Kirko_Bunaras.shp\n",
            "/content/drive/MyDrive/LithDatasSHP/Kithnos_A.shp\n",
            "/content/drive/MyDrive/LithDatasSHP/Kithnos_B.shp\n",
            "/content/drive/MyDrive/LithDatasSHP/Kyprios.shp\n",
            "/content/drive/MyDrive/LithDatasSHP/Lighurio.shp\n",
            "/content/drive/MyDrive/LithDatasSHP/LIMENARIA.shp\n",
            "/content/drive/MyDrive/LithDatasSHP/Megara.shp\n",
            "/content/drive/MyDrive/LithDatasSHP/Mesorrahi.shp\n",
            "/content/drive/MyDrive/LithDatasSHP/Metsitia_Arta.shp\n",
            "/content/drive/MyDrive/LithDatasSHP/Monopigado.shp\n",
            "/content/drive/MyDrive/LithDatasSHP/naxos_corected.shp\n",
            "/content/drive/MyDrive/LithDatasSHP/Neraidoxori.shp\n",
            "/content/drive/MyDrive/LithDatasSHP/Petroto.shp\n",
            "/content/drive/MyDrive/LithDatasSHP/Skandalo.shp\n",
            "/content/drive/MyDrive/LithDatasSHP/Tirnavos.shp\n",
            "/content/drive/MyDrive/LithDatasSHP/Velia.shp\n",
            "/content/drive/MyDrive/LithDatasSHP/Voras.shp\n",
            "/content/drive/MyDrive/LithDatasSHP/XIOS.shp\n"
          ]
        },
        {
          "output_type": "stream",
          "name": "stderr",
          "text": [
            "WARNING:rasterio._env:CPLE_AppDefined in /content/drive/MyDrive/LithDatasTIF/Neraidoxori.tif: TIFFReadDirectory:Sum of Photometric type-related color channels and ExtraSamples doesn't match SamplesPerPixel. Defining non-color channels as ExtraSamples.\n"
          ]
        },
        {
          "output_type": "stream",
          "name": "stdout",
          "text": [
            "/content/drive/MyDrive/LithDatasSHP/Agios_Georgios.shp\n",
            "/content/drive/MyDrive/LithDatasSHP/Amfilochia.shp\n",
            "/content/drive/MyDrive/LithDatasSHP/Anafi.shp\n",
            "/content/drive/MyDrive/LithDatasSHP/Crete_A.shp\n",
            "/content/drive/MyDrive/LithDatasSHP/Crete_B.shp\n",
            "/content/drive/MyDrive/LithDatasSHP/Desfina_.shp\n",
            "/content/drive/MyDrive/LithDatasSHP/Desfina_B.shp\n",
            "/content/drive/MyDrive/LithDatasSHP/Ermoupoli.shp\n",
            "/content/drive/MyDrive/LithDatasSHP/Exarchos.shp\n",
            "/content/drive/MyDrive/LithDatasSHP/Grevena.shp\n",
            "/content/drive/MyDrive/LithDatasSHP/Kastro.shp\n",
            "/content/drive/MyDrive/LithDatasSHP/Kimmeria.shp\n",
            "/content/drive/MyDrive/LithDatasSHP/Kirko_Bunaras.shp\n",
            "/content/drive/MyDrive/LithDatasSHP/Kithnos_A.shp\n",
            "/content/drive/MyDrive/LithDatasSHP/Kithnos_B.shp\n",
            "/content/drive/MyDrive/LithDatasSHP/Kyprios.shp\n",
            "/content/drive/MyDrive/LithDatasSHP/Lighurio.shp\n",
            "/content/drive/MyDrive/LithDatasSHP/LIMENARIA.shp\n",
            "/content/drive/MyDrive/LithDatasSHP/Megara.shp\n",
            "/content/drive/MyDrive/LithDatasSHP/Mesorrahi.shp\n",
            "/content/drive/MyDrive/LithDatasSHP/Metsitia_Arta.shp\n",
            "/content/drive/MyDrive/LithDatasSHP/Monopigado.shp\n",
            "/content/drive/MyDrive/LithDatasSHP/naxos_corected.shp\n",
            "/content/drive/MyDrive/LithDatasSHP/Neraidoxori.shp\n",
            "/content/drive/MyDrive/LithDatasSHP/Petroto.shp\n",
            "/content/drive/MyDrive/LithDatasSHP/Skandalo.shp\n",
            "/content/drive/MyDrive/LithDatasSHP/Tirnavos.shp\n",
            "/content/drive/MyDrive/LithDatasSHP/Velia.shp\n",
            "/content/drive/MyDrive/LithDatasSHP/Voras.shp\n",
            "/content/drive/MyDrive/LithDatasSHP/XIOS.shp\n"
          ]
        },
        {
          "output_type": "stream",
          "name": "stderr",
          "text": [
            "WARNING:rasterio._env:CPLE_AppDefined in /content/drive/MyDrive/LithDatasTIF/Petroto.tif: TIFFReadDirectory:Sum of Photometric type-related color channels and ExtraSamples doesn't match SamplesPerPixel. Defining non-color channels as ExtraSamples.\n"
          ]
        },
        {
          "output_type": "stream",
          "name": "stdout",
          "text": [
            "/content/drive/MyDrive/LithDatasSHP/Agios_Georgios.shp\n",
            "/content/drive/MyDrive/LithDatasSHP/Amfilochia.shp\n",
            "/content/drive/MyDrive/LithDatasSHP/Anafi.shp\n",
            "/content/drive/MyDrive/LithDatasSHP/Crete_A.shp\n",
            "/content/drive/MyDrive/LithDatasSHP/Crete_B.shp\n",
            "/content/drive/MyDrive/LithDatasSHP/Desfina_.shp\n",
            "/content/drive/MyDrive/LithDatasSHP/Desfina_B.shp\n",
            "/content/drive/MyDrive/LithDatasSHP/Ermoupoli.shp\n",
            "/content/drive/MyDrive/LithDatasSHP/Exarchos.shp\n",
            "/content/drive/MyDrive/LithDatasSHP/Grevena.shp\n",
            "/content/drive/MyDrive/LithDatasSHP/Kastro.shp\n",
            "/content/drive/MyDrive/LithDatasSHP/Kimmeria.shp\n",
            "/content/drive/MyDrive/LithDatasSHP/Kirko_Bunaras.shp\n",
            "/content/drive/MyDrive/LithDatasSHP/Kithnos_A.shp\n",
            "/content/drive/MyDrive/LithDatasSHP/Kithnos_B.shp\n",
            "/content/drive/MyDrive/LithDatasSHP/Kyprios.shp\n",
            "/content/drive/MyDrive/LithDatasSHP/Lighurio.shp\n",
            "/content/drive/MyDrive/LithDatasSHP/LIMENARIA.shp\n",
            "/content/drive/MyDrive/LithDatasSHP/Megara.shp\n",
            "/content/drive/MyDrive/LithDatasSHP/Mesorrahi.shp\n",
            "/content/drive/MyDrive/LithDatasSHP/Metsitia_Arta.shp\n",
            "/content/drive/MyDrive/LithDatasSHP/Monopigado.shp\n",
            "/content/drive/MyDrive/LithDatasSHP/naxos_corected.shp\n",
            "/content/drive/MyDrive/LithDatasSHP/Neraidoxori.shp\n",
            "/content/drive/MyDrive/LithDatasSHP/Petroto.shp\n",
            "/content/drive/MyDrive/LithDatasSHP/Skandalo.shp\n",
            "/content/drive/MyDrive/LithDatasSHP/Tirnavos.shp\n",
            "/content/drive/MyDrive/LithDatasSHP/Velia.shp\n",
            "/content/drive/MyDrive/LithDatasSHP/Voras.shp\n",
            "/content/drive/MyDrive/LithDatasSHP/XIOS.shp\n"
          ]
        },
        {
          "output_type": "stream",
          "name": "stderr",
          "text": [
            "WARNING:rasterio._env:CPLE_AppDefined in /content/drive/MyDrive/LithDatasTIF/Skandalo.tif: TIFFReadDirectory:Sum of Photometric type-related color channels and ExtraSamples doesn't match SamplesPerPixel. Defining non-color channels as ExtraSamples.\n"
          ]
        },
        {
          "output_type": "stream",
          "name": "stdout",
          "text": [
            "/content/drive/MyDrive/LithDatasSHP/Agios_Georgios.shp\n",
            "/content/drive/MyDrive/LithDatasSHP/Amfilochia.shp\n",
            "/content/drive/MyDrive/LithDatasSHP/Anafi.shp\n",
            "/content/drive/MyDrive/LithDatasSHP/Crete_A.shp\n",
            "/content/drive/MyDrive/LithDatasSHP/Crete_B.shp\n",
            "/content/drive/MyDrive/LithDatasSHP/Desfina_.shp\n",
            "/content/drive/MyDrive/LithDatasSHP/Desfina_B.shp\n",
            "/content/drive/MyDrive/LithDatasSHP/Ermoupoli.shp\n",
            "/content/drive/MyDrive/LithDatasSHP/Exarchos.shp\n",
            "/content/drive/MyDrive/LithDatasSHP/Grevena.shp\n",
            "/content/drive/MyDrive/LithDatasSHP/Kastro.shp\n",
            "/content/drive/MyDrive/LithDatasSHP/Kimmeria.shp\n",
            "/content/drive/MyDrive/LithDatasSHP/Kirko_Bunaras.shp\n",
            "/content/drive/MyDrive/LithDatasSHP/Kithnos_A.shp\n",
            "/content/drive/MyDrive/LithDatasSHP/Kithnos_B.shp\n",
            "/content/drive/MyDrive/LithDatasSHP/Kyprios.shp\n",
            "/content/drive/MyDrive/LithDatasSHP/Lighurio.shp\n",
            "/content/drive/MyDrive/LithDatasSHP/LIMENARIA.shp\n",
            "/content/drive/MyDrive/LithDatasSHP/Megara.shp\n",
            "/content/drive/MyDrive/LithDatasSHP/Mesorrahi.shp\n",
            "/content/drive/MyDrive/LithDatasSHP/Metsitia_Arta.shp\n",
            "/content/drive/MyDrive/LithDatasSHP/Monopigado.shp\n",
            "/content/drive/MyDrive/LithDatasSHP/naxos_corected.shp\n",
            "/content/drive/MyDrive/LithDatasSHP/Neraidoxori.shp\n",
            "/content/drive/MyDrive/LithDatasSHP/Petroto.shp\n",
            "/content/drive/MyDrive/LithDatasSHP/Skandalo.shp\n",
            "/content/drive/MyDrive/LithDatasSHP/Tirnavos.shp\n",
            "/content/drive/MyDrive/LithDatasSHP/Velia.shp\n",
            "/content/drive/MyDrive/LithDatasSHP/Voras.shp\n",
            "/content/drive/MyDrive/LithDatasSHP/XIOS.shp\n"
          ]
        },
        {
          "output_type": "stream",
          "name": "stderr",
          "text": [
            "WARNING:rasterio._env:CPLE_AppDefined in /content/drive/MyDrive/LithDatasTIF/Tirnavos.tif: TIFFReadDirectory:Sum of Photometric type-related color channels and ExtraSamples doesn't match SamplesPerPixel. Defining non-color channels as ExtraSamples.\n"
          ]
        },
        {
          "output_type": "stream",
          "name": "stdout",
          "text": [
            "/content/drive/MyDrive/LithDatasSHP/Agios_Georgios.shp\n",
            "/content/drive/MyDrive/LithDatasSHP/Amfilochia.shp\n",
            "/content/drive/MyDrive/LithDatasSHP/Anafi.shp\n",
            "/content/drive/MyDrive/LithDatasSHP/Crete_A.shp\n",
            "/content/drive/MyDrive/LithDatasSHP/Crete_B.shp\n",
            "/content/drive/MyDrive/LithDatasSHP/Desfina_.shp\n",
            "/content/drive/MyDrive/LithDatasSHP/Desfina_B.shp\n",
            "/content/drive/MyDrive/LithDatasSHP/Ermoupoli.shp\n",
            "/content/drive/MyDrive/LithDatasSHP/Exarchos.shp\n",
            "/content/drive/MyDrive/LithDatasSHP/Grevena.shp\n",
            "/content/drive/MyDrive/LithDatasSHP/Kastro.shp\n",
            "/content/drive/MyDrive/LithDatasSHP/Kimmeria.shp\n",
            "/content/drive/MyDrive/LithDatasSHP/Kirko_Bunaras.shp\n",
            "/content/drive/MyDrive/LithDatasSHP/Kithnos_A.shp\n",
            "/content/drive/MyDrive/LithDatasSHP/Kithnos_B.shp\n",
            "/content/drive/MyDrive/LithDatasSHP/Kyprios.shp\n",
            "/content/drive/MyDrive/LithDatasSHP/Lighurio.shp\n",
            "/content/drive/MyDrive/LithDatasSHP/LIMENARIA.shp\n",
            "/content/drive/MyDrive/LithDatasSHP/Megara.shp\n",
            "/content/drive/MyDrive/LithDatasSHP/Mesorrahi.shp\n",
            "/content/drive/MyDrive/LithDatasSHP/Metsitia_Arta.shp\n",
            "/content/drive/MyDrive/LithDatasSHP/Monopigado.shp\n",
            "/content/drive/MyDrive/LithDatasSHP/naxos_corected.shp\n",
            "/content/drive/MyDrive/LithDatasSHP/Neraidoxori.shp\n",
            "/content/drive/MyDrive/LithDatasSHP/Petroto.shp\n",
            "/content/drive/MyDrive/LithDatasSHP/Skandalo.shp\n",
            "/content/drive/MyDrive/LithDatasSHP/Tirnavos.shp\n",
            "/content/drive/MyDrive/LithDatasSHP/Velia.shp\n",
            "/content/drive/MyDrive/LithDatasSHP/Voras.shp\n",
            "/content/drive/MyDrive/LithDatasSHP/XIOS.shp\n"
          ]
        },
        {
          "output_type": "stream",
          "name": "stderr",
          "text": [
            "WARNING:rasterio._env:CPLE_AppDefined in /content/drive/MyDrive/LithDatasTIF/Velia.tif: TIFFReadDirectory:Sum of Photometric type-related color channels and ExtraSamples doesn't match SamplesPerPixel. Defining non-color channels as ExtraSamples.\n"
          ]
        },
        {
          "output_type": "stream",
          "name": "stdout",
          "text": [
            "/content/drive/MyDrive/LithDatasSHP/Agios_Georgios.shp\n",
            "/content/drive/MyDrive/LithDatasSHP/Amfilochia.shp\n",
            "/content/drive/MyDrive/LithDatasSHP/Anafi.shp\n",
            "/content/drive/MyDrive/LithDatasSHP/Crete_A.shp\n",
            "/content/drive/MyDrive/LithDatasSHP/Crete_B.shp\n",
            "/content/drive/MyDrive/LithDatasSHP/Desfina_.shp\n",
            "/content/drive/MyDrive/LithDatasSHP/Desfina_B.shp\n",
            "/content/drive/MyDrive/LithDatasSHP/Ermoupoli.shp\n",
            "/content/drive/MyDrive/LithDatasSHP/Exarchos.shp\n",
            "/content/drive/MyDrive/LithDatasSHP/Grevena.shp\n",
            "/content/drive/MyDrive/LithDatasSHP/Kastro.shp\n",
            "/content/drive/MyDrive/LithDatasSHP/Kimmeria.shp\n",
            "/content/drive/MyDrive/LithDatasSHP/Kirko_Bunaras.shp\n",
            "/content/drive/MyDrive/LithDatasSHP/Kithnos_A.shp\n",
            "/content/drive/MyDrive/LithDatasSHP/Kithnos_B.shp\n",
            "/content/drive/MyDrive/LithDatasSHP/Kyprios.shp\n",
            "/content/drive/MyDrive/LithDatasSHP/Lighurio.shp\n",
            "/content/drive/MyDrive/LithDatasSHP/LIMENARIA.shp\n",
            "/content/drive/MyDrive/LithDatasSHP/Megara.shp\n",
            "/content/drive/MyDrive/LithDatasSHP/Mesorrahi.shp\n",
            "/content/drive/MyDrive/LithDatasSHP/Metsitia_Arta.shp\n",
            "/content/drive/MyDrive/LithDatasSHP/Monopigado.shp\n",
            "/content/drive/MyDrive/LithDatasSHP/naxos_corected.shp\n",
            "/content/drive/MyDrive/LithDatasSHP/Neraidoxori.shp\n",
            "/content/drive/MyDrive/LithDatasSHP/Petroto.shp\n",
            "/content/drive/MyDrive/LithDatasSHP/Skandalo.shp\n",
            "/content/drive/MyDrive/LithDatasSHP/Tirnavos.shp\n",
            "/content/drive/MyDrive/LithDatasSHP/Velia.shp\n",
            "/content/drive/MyDrive/LithDatasSHP/Voras.shp\n",
            "/content/drive/MyDrive/LithDatasSHP/XIOS.shp\n"
          ]
        },
        {
          "output_type": "stream",
          "name": "stderr",
          "text": [
            "WARNING:rasterio._env:CPLE_AppDefined in /content/drive/MyDrive/LithDatasTIF/Voras.tif: TIFFReadDirectory:Sum of Photometric type-related color channels and ExtraSamples doesn't match SamplesPerPixel. Defining non-color channels as ExtraSamples.\n"
          ]
        },
        {
          "output_type": "stream",
          "name": "stdout",
          "text": [
            "/content/drive/MyDrive/LithDatasSHP/Agios_Georgios.shp\n",
            "/content/drive/MyDrive/LithDatasSHP/Amfilochia.shp\n",
            "/content/drive/MyDrive/LithDatasSHP/Anafi.shp\n",
            "/content/drive/MyDrive/LithDatasSHP/Crete_A.shp\n",
            "/content/drive/MyDrive/LithDatasSHP/Crete_B.shp\n",
            "/content/drive/MyDrive/LithDatasSHP/Desfina_.shp\n",
            "/content/drive/MyDrive/LithDatasSHP/Desfina_B.shp\n",
            "/content/drive/MyDrive/LithDatasSHP/Ermoupoli.shp\n",
            "/content/drive/MyDrive/LithDatasSHP/Exarchos.shp\n",
            "/content/drive/MyDrive/LithDatasSHP/Grevena.shp\n",
            "/content/drive/MyDrive/LithDatasSHP/Kastro.shp\n",
            "/content/drive/MyDrive/LithDatasSHP/Kimmeria.shp\n",
            "/content/drive/MyDrive/LithDatasSHP/Kirko_Bunaras.shp\n",
            "/content/drive/MyDrive/LithDatasSHP/Kithnos_A.shp\n",
            "/content/drive/MyDrive/LithDatasSHP/Kithnos_B.shp\n",
            "/content/drive/MyDrive/LithDatasSHP/Kyprios.shp\n",
            "/content/drive/MyDrive/LithDatasSHP/Lighurio.shp\n",
            "/content/drive/MyDrive/LithDatasSHP/LIMENARIA.shp\n",
            "/content/drive/MyDrive/LithDatasSHP/Megara.shp\n",
            "/content/drive/MyDrive/LithDatasSHP/Mesorrahi.shp\n",
            "/content/drive/MyDrive/LithDatasSHP/Metsitia_Arta.shp\n",
            "/content/drive/MyDrive/LithDatasSHP/Monopigado.shp\n",
            "/content/drive/MyDrive/LithDatasSHP/naxos_corected.shp\n",
            "/content/drive/MyDrive/LithDatasSHP/Neraidoxori.shp\n",
            "/content/drive/MyDrive/LithDatasSHP/Petroto.shp\n",
            "/content/drive/MyDrive/LithDatasSHP/Skandalo.shp\n",
            "/content/drive/MyDrive/LithDatasSHP/Tirnavos.shp\n",
            "/content/drive/MyDrive/LithDatasSHP/Velia.shp\n",
            "/content/drive/MyDrive/LithDatasSHP/Voras.shp\n",
            "/content/drive/MyDrive/LithDatasSHP/XIOS.shp\n"
          ]
        },
        {
          "output_type": "stream",
          "name": "stderr",
          "text": [
            "WARNING:rasterio._env:CPLE_AppDefined in /content/drive/MyDrive/LithDatasTIF/XIOS.tif: TIFFReadDirectory:Sum of Photometric type-related color channels and ExtraSamples doesn't match SamplesPerPixel. Defining non-color channels as ExtraSamples.\n"
          ]
        },
        {
          "output_type": "stream",
          "name": "stdout",
          "text": [
            "/content/drive/MyDrive/LithDatasSHP/Agios_Georgios.shp\n",
            "/content/drive/MyDrive/LithDatasSHP/Amfilochia.shp\n",
            "/content/drive/MyDrive/LithDatasSHP/Anafi.shp\n",
            "/content/drive/MyDrive/LithDatasSHP/Crete_A.shp\n",
            "/content/drive/MyDrive/LithDatasSHP/Crete_B.shp\n",
            "/content/drive/MyDrive/LithDatasSHP/Desfina_.shp\n",
            "/content/drive/MyDrive/LithDatasSHP/Desfina_B.shp\n",
            "/content/drive/MyDrive/LithDatasSHP/Ermoupoli.shp\n",
            "/content/drive/MyDrive/LithDatasSHP/Exarchos.shp\n",
            "/content/drive/MyDrive/LithDatasSHP/Grevena.shp\n",
            "/content/drive/MyDrive/LithDatasSHP/Kastro.shp\n",
            "/content/drive/MyDrive/LithDatasSHP/Kimmeria.shp\n",
            "/content/drive/MyDrive/LithDatasSHP/Kirko_Bunaras.shp\n",
            "/content/drive/MyDrive/LithDatasSHP/Kithnos_A.shp\n",
            "/content/drive/MyDrive/LithDatasSHP/Kithnos_B.shp\n",
            "/content/drive/MyDrive/LithDatasSHP/Kyprios.shp\n",
            "/content/drive/MyDrive/LithDatasSHP/Lighurio.shp\n",
            "/content/drive/MyDrive/LithDatasSHP/LIMENARIA.shp\n",
            "/content/drive/MyDrive/LithDatasSHP/Megara.shp\n",
            "/content/drive/MyDrive/LithDatasSHP/Mesorrahi.shp\n",
            "/content/drive/MyDrive/LithDatasSHP/Metsitia_Arta.shp\n",
            "/content/drive/MyDrive/LithDatasSHP/Monopigado.shp\n",
            "/content/drive/MyDrive/LithDatasSHP/naxos_corected.shp\n",
            "/content/drive/MyDrive/LithDatasSHP/Neraidoxori.shp\n",
            "/content/drive/MyDrive/LithDatasSHP/Petroto.shp\n",
            "/content/drive/MyDrive/LithDatasSHP/Skandalo.shp\n",
            "/content/drive/MyDrive/LithDatasSHP/Tirnavos.shp\n",
            "/content/drive/MyDrive/LithDatasSHP/Velia.shp\n",
            "/content/drive/MyDrive/LithDatasSHP/Voras.shp\n",
            "/content/drive/MyDrive/LithDatasSHP/XIOS.shp\n"
          ]
        }
      ]
    },
    {
      "cell_type": "code",
      "source": [
        "vector = gpd.read_file(\"/content/drive/MyDrive/LithDatasSHP/Anafi.shp\")\n",
        "rst_path='/content/drive/MyDrive/LithDatasTIF/Anafi.tif'\n",
        "raster = rasterio.open(rst_path)"
      ],
      "metadata": {
        "id": "3XdE3hREzxYh",
        "colab": {
          "base_uri": "https://localhost:8080/"
        },
        "outputId": "c106f417-9395-49a0-e270-10d5f0824d97"
      },
      "execution_count": 59,
      "outputs": [
        {
          "output_type": "stream",
          "name": "stderr",
          "text": [
            "WARNING:rasterio._env:CPLE_AppDefined in /content/drive/MyDrive/LithDatasTIF/Anafi.tif: TIFFReadDirectory:Sum of Photometric type-related color channels and ExtraSamples doesn't match SamplesPerPixel. Defining non-color channels as ExtraSamples.\n"
          ]
        }
      ]
    },
    {
      "cell_type": "code",
      "source": [
        "import geopandas as gpd\n",
        "import matplotlib.pyplot as plt\n",
        "import rasterio\n",
        "from rasterio import features\n",
        "from rasterio.enums import MergeAlg\n",
        "from rasterio.plot import show\n",
        "import numpy as np\n",
        "# create a numeric unique value for each row\n",
        "#col_list =  list(vector[\"labels_Lit\"])\n",
        "#print(col_list)\n",
        "\n",
        "vector['labels_Lit'] = range(0,len(vector))\n",
        "#print(vector['labels_Lit'])\n",
        "\n",
        "# create tuples of geometry, value pairs, where value is the attribute value you want to burn\n",
        "geom_value = ((geom,value) for geom, value in zip(vector.geometry, vector[\"labels_Lit\"]))\n",
        "\n",
        "# Rasterize vector using the shape and transform of the raster\n",
        "rasterized = features.rasterize(geom_value,\n",
        "                                out_shape = raster.shape,\n",
        "                                transform = raster.transform,\n",
        "                                all_touched = True,\n",
        "                                fill = -1,   # background value\n",
        "                                merge_alg = MergeAlg.replace,\n",
        "                                dtype = np.int16)\n",
        "\n",
        "#print(rasterized)\n",
        "#import geopandas as gpd\n",
        "#df = gpd.read_file('../../Datasets/italy-points-shape/points.shp')\n",
        "#df.head()"
      ],
      "metadata": {
        "id": "d-hWW3bD4oaF"
      },
      "execution_count": 60,
      "outputs": []
    },
    {
      "cell_type": "code",
      "source": [
        "# Plot raster\n",
        "fig, ax = plt.subplots(1, figsize = (10, 10))\n",
        "#handles, labels = ax.get_legend_handles_labels(vector['labels_Lit'])\n",
        "#ax.legend(labels,loc='upper right')\n",
        "show(rasterized, ax = ax)\n",
        "plt.gca()\n",
        "with rasterio.open(\n",
        "        \"/content/drive/MyDrive/raster_to_be_used/Anafi_rasterized_vector.tif\", \"w\",\n",
        "        driver = \"GTiff\",\n",
        "        transform = raster.transform,\n",
        "        dtype=rasterized.dtype,\n",
        "      #  dtype = rasterio.uint8,\n",
        "\n",
        "        count = 1,\n",
        "        width = raster.width,\n",
        "        height = raster.height) as dst:\n",
        "    dst.write(rasterized, indexes = 1)"
      ],
      "metadata": {
        "colab": {
          "base_uri": "https://localhost:8080/",
          "height": 415
        },
        "id": "JHB4jGxIF-97",
        "outputId": "c7d29b1c-421e-486e-9eeb-3072b4c7567b"
      },
      "execution_count": 61,
      "outputs": [
        {
          "output_type": "display_data",
          "data": {
            "text/plain": [
              "<Figure size 720x720 with 1 Axes>"
            ],
            "image/png": "[encoded data removed]"
          },
          "metadata": {
            "needs_background": "light"
          }
        }
      ]
    },
    {
      "cell_type": "code",
      "source": [
        "rst_path='/content/drive/MyDrive/raster_to_be_used/Anafi_rasterized_vector.tif'\n",
        "from osgeo import gdal\n",
        "raster = rasterio.open(rst_path)\n",
        "#raster.RasterCount\n",
        "show(raster)"
      ],
      "metadata": {
        "colab": {
          "base_uri": "https://localhost:8080/",
          "height": 294
        },
        "id": "khHmgOPSajOf",
        "outputId": "1f823728-2983-425f-9be4-06a71df591ee"
      },
      "execution_count": 62,
      "outputs": [
        {
          "output_type": "display_data",
          "data": {
            "text/plain": [
              "<Figure size 432x288 with 1 Axes>"
            ],
            "image/png": "[encoded data removed]"
          },
          "metadata": {
            "needs_background": "light"
          }
        },
        {
          "output_type": "execute_result",
          "data": {
            "text/plain": [
              "<AxesSubplot:>"
            ]
          },
          "metadata": {},
          "execution_count": 62
        }
      ]
    },
    {
      "cell_type": "code",
      "source": [
        "import os\n",
        "from os import listdir\n",
        " \n",
        "# get the path/directory\n",
        "shape_dir = \"/content/drive/MyDrive/LithDatasSHP\"\n",
        "raster_dir='/content/drive/MyDrive/LithDatasTIF'\n",
        "shp_list=list()  \n",
        "rst_list2=list()\n",
        "rst_list=list()\n",
        "dest_name=list()\n",
        "\n",
        "\n",
        "for shapefiles in os.listdir(shape_dir):\n",
        " \n",
        "    # check if the image ends with png\n",
        "    if (shapefiles.endswith(\".shp\")):\n",
        "        shp_list.append(str(os.path.abspath(shapefiles)))\n",
        "print(\"THE SHAPEFILES\\n\"+str(shp_list))\n",
        "for rasters in os.listdir(raster_dir):\n",
        "    rst_list2.append(rasters)\n",
        "    rst_list.append(str(os.path.abspath(rasters)))\n",
        "print(\"THE RASTERFILES\\n\"+str(rst_list)+\"\\n\"+str(rst_list2))\n",
        "for i in rst_list2:\n",
        "    \n",
        "    dest_name.append(i.split('.tif', 1)[0])\n",
        "print(dest_name)   \n",
        "\n"
      ],
      "metadata": {
        "colab": {
          "base_uri": "https://localhost:8080/"
        },
        "id": "MkM3W1Op8qzJ",
        "outputId": "62a9c2be-c324-4a0c-fcee-cd0a91491548"
      },
      "execution_count": 63,
      "outputs": [
        {
          "output_type": "stream",
          "name": "stdout",
          "text": [
            "THE SHAPEFILES\n",
            "['/content/Amfilochia.shp', '/content/Anafi.shp', '/content/Crete_B.shp', '/content/Desfina_B.shp', '/content/Crete_A.shp', '/content/Agios_Georgios.shp', '/content/Grevena.shp', '/content/Ermoupoli.shp', '/content/Exarchos.shp', '/content/Kastro.shp', '/content/Kimmeria.shp', '/content/Kirko_Bunaras.shp', '/content/Kithnos_A.shp', '/content/Kithnos_B.shp', '/content/Kyprios.shp', '/content/Lighurio.shp', '/content/Megara.shp', '/content/Mesorrahi.shp', '/content/Metsitia_Arta.shp', '/content/Monopigado.shp', '/content/Neraidoxori.shp', '/content/Petroto.shp', '/content/Skandalo.shp', '/content/Tirnavos.shp', '/content/Voras.shp', '/content/XIOS.shp', '/content/LIMENARIA.shp', '/content/Velia.shp', '/content/Desfina_.shp', '/content/naxos_corected.shp']\n",
            "THE RASTERFILES\n",
            "['/content/Agios_Georgios.tif', '/content/Amfilochia.tif', '/content/Anafi.tif', '/content/Crete_A.tif', '/content/Crete_B.tif', '/content/Desfina_.tif', '/content/Desfina_B.tif', '/content/Ermoupoli.tif', '/content/Exarchos.tif', '/content/Grevena.tif', '/content/Kastro.tif', '/content/Kimmeria.tif', '/content/Kirko_Bunaras.tif', '/content/Kithnos_A.tif', '/content/Kithnos_B.tif', '/content/Kyprios.tif', '/content/Lighurio.tif', '/content/LIMENARIA.tif', '/content/Megara.tif', '/content/Mesorrahi.tif', '/content/Metsitia_Arta.tif', '/content/Monopigado.tif', '/content/naxos_corected.tif', '/content/Neraidoxori.tif', '/content/Petroto.tif', '/content/Skandalo.tif', '/content/Tirnavos.tif', '/content/Velia.tif', '/content/Voras.tif', '/content/XIOS.tif']\n",
            "['Agios_Georgios.tif', 'Amfilochia.tif', 'Anafi.tif', 'Crete_A.tif', 'Crete_B.tif', 'Desfina_.tif', 'Desfina_B.tif', 'Ermoupoli.tif', 'Exarchos.tif', 'Grevena.tif', 'Kastro.tif', 'Kimmeria.tif', 'Kirko_Bunaras.tif', 'Kithnos_A.tif', 'Kithnos_B.tif', 'Kyprios.tif', 'Lighurio.tif', 'LIMENARIA.tif', 'Megara.tif', 'Mesorrahi.tif', 'Metsitia_Arta.tif', 'Monopigado.tif', 'naxos_corected.tif', 'Neraidoxori.tif', 'Petroto.tif', 'Skandalo.tif', 'Tirnavos.tif', 'Velia.tif', 'Voras.tif', 'XIOS.tif']\n",
            "['Agios_Georgios', 'Amfilochia', 'Anafi', 'Crete_A', 'Crete_B', 'Desfina_', 'Desfina_B', 'Ermoupoli', 'Exarchos', 'Grevena', 'Kastro', 'Kimmeria', 'Kirko_Bunaras', 'Kithnos_A', 'Kithnos_B', 'Kyprios', 'Lighurio', 'LIMENARIA', 'Megara', 'Mesorrahi', 'Metsitia_Arta', 'Monopigado', 'naxos_corected', 'Neraidoxori', 'Petroto', 'Skandalo', 'Tirnavos', 'Velia', 'Voras', 'XIOS']\n"
          ]
        }
      ]
    },
    {
      "cell_type": "code",
      "source": [
        "# Driver function\n",
        "import os\n",
        "shape_dir = \"/content/drive/MyDrive/LithDatasSHP\"\n",
        "raster_dir='/content/drive/MyDrive/LithDatasTIF'\n",
        "shpfiles = []\n",
        "rst_list=list()\n",
        "dest_name=list()\n",
        "shapenames=[]\n",
        "for dirpath, subdirs, files in os.walk(shape_dir):\n",
        "    for x in files:\n",
        "        if x.endswith(\".shp\"):\n",
        "            shpfiles.append(os.path.join(shape_dir, x))\n",
        "            shapenames.append(x.split('.shp', 1)[0])\n",
        "for dirpath, subdirs, files in os.walk(raster_dir):\n",
        "    for x in files:\n",
        "        rst_list.append(os.path.join(raster_dir, x))\n",
        "        dest_name.append(x.split('.tif', 1)[0])\n",
        "nk=set(dest_name).intersection(shapenames)\n",
        "\n",
        "for x in dest_name:\n",
        "    if x  in nk:\n",
        "        pos=shapenames.index(x)\n",
        "        print(shpfiles[pos])\n",
        "           "
      ],
      "metadata": {
        "colab": {
          "base_uri": "https://localhost:8080/"
        },
        "id": "ZVUEuorVqy_8",
        "outputId": "ec008a05-0ed3-4b9b-8f0b-37b315d1ac5b"
      },
      "execution_count": 64,
      "outputs": [
        {
          "output_type": "stream",
          "name": "stdout",
          "text": [
            "/content/drive/MyDrive/LithDatasSHP/Agios_Georgios.shp\n",
            "/content/drive/MyDrive/LithDatasSHP/Amfilochia.shp\n",
            "/content/drive/MyDrive/LithDatasSHP/Anafi.shp\n",
            "/content/drive/MyDrive/LithDatasSHP/Crete_A.shp\n",
            "/content/drive/MyDrive/LithDatasSHP/Crete_B.shp\n",
            "/content/drive/MyDrive/LithDatasSHP/Desfina_.shp\n",
            "/content/drive/MyDrive/LithDatasSHP/Desfina_B.shp\n",
            "/content/drive/MyDrive/LithDatasSHP/Ermoupoli.shp\n",
            "/content/drive/MyDrive/LithDatasSHP/Exarchos.shp\n",
            "/content/drive/MyDrive/LithDatasSHP/Grevena.shp\n",
            "/content/drive/MyDrive/LithDatasSHP/Kastro.shp\n",
            "/content/drive/MyDrive/LithDatasSHP/Kimmeria.shp\n",
            "/content/drive/MyDrive/LithDatasSHP/Kirko_Bunaras.shp\n",
            "/content/drive/MyDrive/LithDatasSHP/Kithnos_A.shp\n",
            "/content/drive/MyDrive/LithDatasSHP/Kithnos_B.shp\n",
            "/content/drive/MyDrive/LithDatasSHP/Kyprios.shp\n",
            "/content/drive/MyDrive/LithDatasSHP/Lighurio.shp\n",
            "/content/drive/MyDrive/LithDatasSHP/LIMENARIA.shp\n",
            "/content/drive/MyDrive/LithDatasSHP/Megara.shp\n",
            "/content/drive/MyDrive/LithDatasSHP/Mesorrahi.shp\n",
            "/content/drive/MyDrive/LithDatasSHP/Metsitia_Arta.shp\n",
            "/content/drive/MyDrive/LithDatasSHP/Monopigado.shp\n",
            "/content/drive/MyDrive/LithDatasSHP/naxos_corected.shp\n",
            "/content/drive/MyDrive/LithDatasSHP/Neraidoxori.shp\n",
            "/content/drive/MyDrive/LithDatasSHP/Petroto.shp\n",
            "/content/drive/MyDrive/LithDatasSHP/Skandalo.shp\n",
            "/content/drive/MyDrive/LithDatasSHP/Tirnavos.shp\n",
            "/content/drive/MyDrive/LithDatasSHP/Velia.shp\n",
            "/content/drive/MyDrive/LithDatasSHP/Voras.shp\n",
            "/content/drive/MyDrive/LithDatasSHP/XIOS.shp\n"
          ]
        }
      ]
    }
  ]
}